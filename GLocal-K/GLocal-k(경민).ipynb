{
 "cells": [
  {
   "cell_type": "code",
   "execution_count": 21,
   "metadata": {},
   "outputs": [],
   "source": [
    "# 기본 라이브러리\n",
    "import numpy as np\n",
    "import pandas as pd\n",
    "from tqdm import tqdm  # 진행 바 표시\n",
    "\n",
    "# PyTorch 관련 라이브러리\n",
    "import torch\n",
    "import torch.nn as nn\n",
    "import torch.nn.functional as F\n",
    "from torch.utils.data import DataLoader, Dataset\n",
    "\n",
    "# 시각화\n",
    "import matplotlib.pyplot as plt\n",
    "\n",
    "# 모델 학습 및 최적화\n",
    "from sklearn.model_selection import train_test_split\n",
    "from sklearn.metrics import mean_squared_error, mean_absolute_error\n",
    "\n",
    "# 시스템 제어\n",
    "import time\n",
    "import random\n",
    "\n",
    "# 추가: 평가 지표 및 기타\n",
    "from scipy.sparse import csr_matrix\n"
   ]
  },
  {
   "cell_type": "code",
   "execution_count": 22,
   "metadata": {},
   "outputs": [],
   "source": [
    "import numpy as np\n",
    "import pandas as pd\n",
    "train = pd.read_parquet(\"dataset/train.parquet\")\n",
    "test = pd.read_parquet(\"dataset/test.parquet\")\n"
   ]
  },
  {
   "cell_type": "code",
   "execution_count": 60,
   "metadata": {},
   "outputs": [
    {
     "data": {
      "text/html": [
       "<div>\n",
       "<style scoped>\n",
       "    .dataframe tbody tr th:only-of-type {\n",
       "        vertical-align: middle;\n",
       "    }\n",
       "\n",
       "    .dataframe tbody tr th {\n",
       "        vertical-align: top;\n",
       "    }\n",
       "\n",
       "    .dataframe thead th {\n",
       "        text-align: right;\n",
       "    }\n",
       "</style>\n",
       "<table border=\"1\" class=\"dataframe\">\n",
       "  <thead>\n",
       "    <tr style=\"text-align: right;\">\n",
       "      <th></th>\n",
       "      <th>rating</th>\n",
       "      <th>parent_asin</th>\n",
       "      <th>user_id</th>\n",
       "      <th>timestamp</th>\n",
       "    </tr>\n",
       "  </thead>\n",
       "  <tbody>\n",
       "    <tr>\n",
       "      <th>20687409</th>\n",
       "      <td>1.0</td>\n",
       "      <td>0073378151</td>\n",
       "      <td>AE2222HXKLMAEK4SG56OW23V3LTA</td>\n",
       "      <td>1393429135000</td>\n",
       "    </tr>\n",
       "    <tr>\n",
       "      <th>25670196</th>\n",
       "      <td>1.0</td>\n",
       "      <td>B01719Y5XK</td>\n",
       "      <td>AE2222WEGI5MUXLFZW6UKKUSI74A</td>\n",
       "      <td>1461552308000</td>\n",
       "    </tr>\n",
       "    <tr>\n",
       "      <th>2205090</th>\n",
       "      <td>5.0</td>\n",
       "      <td>B004H4XI0Y</td>\n",
       "      <td>AE22236AFRRSMQIKGG7TPTB75QEA</td>\n",
       "      <td>1326679671000</td>\n",
       "    </tr>\n",
       "    <tr>\n",
       "      <th>2205085</th>\n",
       "      <td>4.0</td>\n",
       "      <td>B008P3JNHU</td>\n",
       "      <td>AE22236AFRRSMQIKGG7TPTB75QEA</td>\n",
       "      <td>1370651952000</td>\n",
       "    </tr>\n",
       "    <tr>\n",
       "      <th>2205093</th>\n",
       "      <td>5.0</td>\n",
       "      <td>B002PEP4SC</td>\n",
       "      <td>AE22236AFRRSMQIKGG7TPTB75QEA</td>\n",
       "      <td>1259456701000</td>\n",
       "    </tr>\n",
       "    <tr>\n",
       "      <th>...</th>\n",
       "      <td>...</td>\n",
       "      <td>...</td>\n",
       "      <td>...</td>\n",
       "      <td>...</td>\n",
       "    </tr>\n",
       "    <tr>\n",
       "      <th>14285733</th>\n",
       "      <td>4.0</td>\n",
       "      <td>B06WD8GJ3P</td>\n",
       "      <td>AHZZZYHANWL2OW5PGXDOBUTJXCTA</td>\n",
       "      <td>1516135047122</td>\n",
       "    </tr>\n",
       "    <tr>\n",
       "      <th>23959628</th>\n",
       "      <td>5.0</td>\n",
       "      <td>1633224635</td>\n",
       "      <td>AHZZZZ76NI5YF4RP5TKCQRGRQAGA</td>\n",
       "      <td>1521607388514</td>\n",
       "    </tr>\n",
       "    <tr>\n",
       "      <th>20325413</th>\n",
       "      <td>5.0</td>\n",
       "      <td>1628603283</td>\n",
       "      <td>AHZZZZUMHA57YCBU4WFINWREUBKQ</td>\n",
       "      <td>1545150722210</td>\n",
       "    </tr>\n",
       "    <tr>\n",
       "      <th>9100476</th>\n",
       "      <td>3.0</td>\n",
       "      <td>0894803123</td>\n",
       "      <td>AHZZZZUZCRIUWGMXKFAJO3T5S45A</td>\n",
       "      <td>1379960837000</td>\n",
       "    </tr>\n",
       "    <tr>\n",
       "      <th>3290827</th>\n",
       "      <td>5.0</td>\n",
       "      <td>1604863315</td>\n",
       "      <td>AHZZZZYA4NULLM5PNACIU3GA5OQQ</td>\n",
       "      <td>1653164753579</td>\n",
       "    </tr>\n",
       "  </tbody>\n",
       "</table>\n",
       "<p>24281918 rows × 4 columns</p>\n",
       "</div>"
      ],
      "text/plain": [
       "          rating parent_asin                       user_id      timestamp\n",
       "20687409     1.0  0073378151  AE2222HXKLMAEK4SG56OW23V3LTA  1393429135000\n",
       "25670196     1.0  B01719Y5XK  AE2222WEGI5MUXLFZW6UKKUSI74A  1461552308000\n",
       "2205090      5.0  B004H4XI0Y  AE22236AFRRSMQIKGG7TPTB75QEA  1326679671000\n",
       "2205085      4.0  B008P3JNHU  AE22236AFRRSMQIKGG7TPTB75QEA  1370651952000\n",
       "2205093      5.0  B002PEP4SC  AE22236AFRRSMQIKGG7TPTB75QEA  1259456701000\n",
       "...          ...         ...                           ...            ...\n",
       "14285733     4.0  B06WD8GJ3P  AHZZZYHANWL2OW5PGXDOBUTJXCTA  1516135047122\n",
       "23959628     5.0  1633224635  AHZZZZ76NI5YF4RP5TKCQRGRQAGA  1521607388514\n",
       "20325413     5.0  1628603283  AHZZZZUMHA57YCBU4WFINWREUBKQ  1545150722210\n",
       "9100476      3.0  0894803123  AHZZZZUZCRIUWGMXKFAJO3T5S45A  1379960837000\n",
       "3290827      5.0  1604863315  AHZZZZYA4NULLM5PNACIU3GA5OQQ  1653164753579\n",
       "\n",
       "[24281918 rows x 4 columns]"
      ]
     },
     "execution_count": 60,
     "metadata": {},
     "output_type": "execute_result"
    }
   ],
   "source": [
    "train"
   ]
  },
  {
   "cell_type": "code",
   "execution_count": 23,
   "metadata": {},
   "outputs": [
    {
     "name": "stdout",
     "output_type": "stream",
     "text": [
      "상위 5명의 사용자 빈도:\n",
      "user_id\n",
      "AGSP6LSQK32SQEJO3YVVNACPWMSQ    2916\n",
      "AGY5JM4JIEL6RX6X6NLULXZB7DOQ    2214\n",
      "AG473D27NAWRW3N2RMWVYZ6ICBTA    2204\n",
      "AF65CA4WVYV6HQI7WQOGR757JHRA    2079\n",
      "AGWDYYVVWM3DC3CASUZKXK67G6IA    2022\n",
      "Name: count, dtype: int64\n",
      "\n",
      "상위 5개의 상품 빈도:\n",
      "parent_asin\n",
      "B00L9B7IKE    35985\n",
      "B006LSZECO    25633\n",
      "B00JO8PEN2    25399\n",
      "B00DPM7TIG    16731\n",
      "B016ZNRC0Q    12884\n",
      "Name: count, dtype: int64\n"
     ]
    }
   ],
   "source": [
    "# 사용자별 등장 빈도 계산\n",
    "user_freq = train['user_id'].value_counts()\n",
    "\n",
    "# 상품별 등장 빈도 계산\n",
    "item_freq = train['parent_asin'].value_counts()\n",
    "\n",
    "# 빈도 확인\n",
    "print(\"상위 5명의 사용자 빈도:\")\n",
    "print(user_freq.head())\n",
    "\n",
    "print(\"\\n상위 5개의 상품 빈도:\")\n",
    "print(item_freq.head())\n"
   ]
  },
  {
   "cell_type": "code",
   "execution_count": null,
   "metadata": {},
   "outputs": [],
   "source": [
    "# 상위 1000명의 사용자와 상품 선택\n",
    "top_n_users = user_freq.head(1000).index  # 상위 1000명의 사용자\n",
    "top_n_items = item_freq.head(1000).index  # 상위 1000개의 상품\n"
   ]
  },
  {
   "cell_type": "code",
   "execution_count": 25,
   "metadata": {},
   "outputs": [],
   "source": [
    "filtered_train = train[train['user_id'].isin(top_n_users) & train['parent_asin'].isin(top_n_items)]"
   ]
  },
  {
   "cell_type": "code",
   "execution_count": 26,
   "metadata": {},
   "outputs": [
    {
     "data": {
      "text/plain": [
       "804"
      ]
     },
     "execution_count": 26,
     "metadata": {},
     "output_type": "execute_result"
    }
   ],
   "source": [
    "num_users = filtered_train['user_id'].nunique()\n",
    "num_users"
   ]
  },
  {
   "cell_type": "code",
   "execution_count": 27,
   "metadata": {},
   "outputs": [
    {
     "data": {
      "text/plain": [
       "829"
      ]
     },
     "execution_count": 27,
     "metadata": {},
     "output_type": "execute_result"
    }
   ],
   "source": [
    "num_items = filtered_train['parent_asin'].nunique()\n",
    "num_items"
   ]
  },
  {
   "cell_type": "code",
   "execution_count": 28,
   "metadata": {},
   "outputs": [
    {
     "name": "stdout",
     "output_type": "stream",
     "text": [
      "테스트셋 사용자 수: 585\n",
      "테스트셋 상품 수: 602\n"
     ]
    }
   ],
   "source": [
    "# 테스트셋 필터링\n",
    "filtered_test = test[test['user_id'].isin(top_n_users) & test['parent_asin'].isin(top_n_items)]\n",
    "\n",
    "# 필터링된 테스트셋의 사용자 및 상품 수 확인\n",
    "num_test_users = filtered_test['user_id'].nunique()\n",
    "num_test_items = filtered_test['parent_asin'].nunique()\n",
    "\n",
    "print(f\"테스트셋 사용자 수: {num_test_users}\")\n",
    "print(f\"테스트셋 상품 수: {num_test_items}\")\n"
   ]
  },
  {
   "cell_type": "code",
   "execution_count": 29,
   "metadata": {},
   "outputs": [
    {
     "name": "stdout",
     "output_type": "stream",
     "text": [
      "훈련 데이터와 테스트 데이터의 공통 사용자 수: 556\n",
      "훈련 데이터와 테스트 데이터의 공통 상품 수: 561\n"
     ]
    }
   ],
   "source": [
    "# 사용자와 상품의 교집합 확인\n",
    "shared_users = set(filtered_train['user_id']).intersection(set(filtered_test['user_id']))\n",
    "shared_items = set(filtered_train['parent_asin']).intersection(set(filtered_test['parent_asin']))\n",
    "\n",
    "print(f\"훈련 데이터와 테스트 데이터의 공통 사용자 수: {len(shared_users)}\")\n",
    "print(f\"훈련 데이터와 테스트 데이터의 공통 상품 수: {len(shared_items)}\")\n"
   ]
  },
  {
   "cell_type": "code",
   "execution_count": 30,
   "metadata": {},
   "outputs": [
    {
     "name": "stdout",
     "output_type": "stream",
     "text": [
      "훈련 데이터 사용자 중 테스트 데이터와 겹치는 사용자 비율: 69.15%\n"
     ]
    }
   ],
   "source": [
    "common_user_ratio = len(shared_users) / num_users * 100\n",
    "print(f\"훈련 데이터 사용자 중 테스트 데이터와 겹치는 사용자 비율: {common_user_ratio:.2f}%\")\n"
   ]
  },
  {
   "cell_type": "code",
   "execution_count": 31,
   "metadata": {},
   "outputs": [
    {
     "name": "stdout",
     "output_type": "stream",
     "text": [
      "훈련 데이터 상품 중 테스트 데이터와 겹치는 상품 비율: 67.67%\n"
     ]
    }
   ],
   "source": [
    "common_item_ratio = len(shared_items) / num_items * 100\n",
    "print(f\"훈련 데이터 상품 중 테스트 데이터와 겹치는 상품 비율: {common_item_ratio:.2f}%\")\n"
   ]
  },
  {
   "cell_type": "code",
   "execution_count": 32,
   "metadata": {},
   "outputs": [
    {
     "name": "stdout",
     "output_type": "stream",
     "text": [
      "테스트에만 있는 사용자 수: 29\n",
      "테스트에만 있는 상품 수: 41\n"
     ]
    }
   ],
   "source": [
    "# 테스트 데이터에서만 있는 사용자와 상품 찾기\n",
    "test_only_users = set(filtered_test['user_id']) - set(filtered_train['user_id'])\n",
    "test_only_items = set(filtered_test['parent_asin']) - set(filtered_train['parent_asin'])\n",
    "\n",
    "print(f\"테스트에만 있는 사용자 수: {len(test_only_users)}\")\n",
    "print(f\"테스트에만 있는 상품 수: {len(test_only_items)}\")\n"
   ]
  },
  {
   "cell_type": "code",
   "execution_count": 33,
   "metadata": {},
   "outputs": [
    {
     "name": "stdout",
     "output_type": "stream",
     "text": [
      "제거 후 테스트 데이터 크기: 1810 행\n"
     ]
    }
   ],
   "source": [
    "# 훈련 데이터 사용자와 상품\n",
    "train_users = set(filtered_train['user_id'])\n",
    "train_items = set(filtered_train['parent_asin'])\n",
    "\n",
    "# 테스트 데이터에서 제거: 훈련 데이터에 없는 사용자와 상품을 모두 포함한 경우\n",
    "filtered_test = filtered_test[\n",
    "    (filtered_test['user_id'].isin(train_users)) | \n",
    "    (filtered_test['parent_asin'].isin(train_items))\n",
    "]\n",
    "\n",
    "# 결과 확인\n",
    "print(f\"제거 후 테스트 데이터 크기: {filtered_test.shape[0]} 행\")\n"
   ]
  },
  {
   "cell_type": "code",
   "execution_count": null,
   "metadata": {},
   "outputs": [
    {
     "name": "stdout",
     "output_type": "stream",
     "text": [
      "훈련 데이터 행렬 크기: (870, 833)\n",
      "테스트 데이터 행렬 크기: (870, 833)\n"
     ]
    }
   ],
   "source": [
    "# 사용자와 상품의 고유 ID 추출\n",
    "all_users = pd.concat([filtered_train['user_id'], filtered_test['user_id']]).unique()\n",
    "all_items = pd.concat([filtered_train['parent_asin'], filtered_test['parent_asin']]).unique()\n",
    "\n",
    "# 사용자와 상품 ID를 매핑 (0부터 시작하는 인덱스)\n",
    "user_map = {user: idx for idx, user in enumerate(all_users)}\n",
    "item_map = {item: idx for idx, item in enumerate(all_items)}\n",
    "\n",
    "# 훈련 데이터 매핑\n",
    "train_r = np.zeros((len(all_items), len(all_users)), dtype=np.float32)\n",
    "for _, row in filtered_train.iterrows():\n",
    "    train_r[item_map[row['parent_asin']], user_map[row['user_id']]] = row['rating']\n",
    "\n",
    "# 테스트 데이터 매핑\n",
    "test_r = np.zeros((len(all_items), len(all_users)), dtype=np.float32)\n",
    "for _, row in filtered_test.iterrows():\n",
    "    test_r[item_map[row['parent_asin']], user_map[row['user_id']]] = row['rating']\n",
    "\n",
    "print(\"훈련 데이터 행렬 크기:\", train_r.shape)\n",
    "print(\"테스트 데이터 행렬 크기:\", test_r.shape)\n"
   ]
  },
  {
   "cell_type": "code",
   "execution_count": 35,
   "metadata": {},
   "outputs": [
    {
     "name": "stdout",
     "output_type": "stream",
     "text": [
      "사용자 수: 833, 상품 수: 870\n"
     ]
    }
   ],
   "source": [
    "print(f\"사용자 수: {len(all_users)}, 상품 수: {len(all_items)}\")\n"
   ]
  },
  {
   "cell_type": "code",
   "execution_count": 36,
   "metadata": {},
   "outputs": [
    {
     "name": "stdout",
     "output_type": "stream",
     "text": [
      "훈련 데이터 희소성: 0.73%\n",
      "테스트 데이터 희소성: 0.25%\n"
     ]
    }
   ],
   "source": [
    "train_density = np.count_nonzero(train_r) / train_r.size\n",
    "test_density = np.count_nonzero(test_r) / test_r.size\n",
    "print(f\"훈련 데이터 희소성: {train_density:.2%}\")\n",
    "print(f\"테스트 데이터 희소성: {test_density:.2%}\")\n"
   ]
  },
  {
   "cell_type": "code",
   "execution_count": 37,
   "metadata": {},
   "outputs": [
    {
     "name": "stdout",
     "output_type": "stream",
     "text": [
      "Using device: cpu\n"
     ]
    }
   ],
   "source": [
    "# PyTorch에서 사용할 장치를 설정합니다.\n",
    "device = torch.device(\"cuda\" if torch.cuda.is_available() else \"cpu\")\n",
    "\n",
    "# 사용 중인 장치를 확인합니다.\n",
    "print(f\"Using device: {device}\")\n"
   ]
  },
  {
   "cell_type": "code",
   "execution_count": 38,
   "metadata": {},
   "outputs": [],
   "source": [
    "train_r_tensor = torch.Tensor(train_r).to(device)\n"
   ]
  },
  {
   "cell_type": "code",
   "execution_count": 39,
   "metadata": {},
   "outputs": [],
   "source": [
    "def rbf_kernel(u, v):\n",
    "    dist = torch.norm(u - v, p=2, dim=2)  # L2 거리 계산\n",
    "    kernel = torch.clamp(1.0 - dist**2, min=0.0)  # RBF 커널 계산\n",
    "    return kernel\n"
   ]
  },
  {
   "cell_type": "code",
   "execution_count": 40,
   "metadata": {},
   "outputs": [],
   "source": [
    "class LocalKernelAutoencoder(nn.Module):\n",
    "    def __init__(self, input_dim, hidden_dim, lambda_s, lambda_2):\n",
    "        super().__init__()\n",
    "        self.encoder = nn.Linear(input_dim, hidden_dim)  # 인코더\n",
    "        self.decoder = nn.Linear(hidden_dim, input_dim)  # 디코더\n",
    "\n",
    "        # RBF 커널 가중치\n",
    "        self.u = nn.Parameter(torch.randn(input_dim, 1, hidden_dim))\n",
    "        self.v = nn.Parameter(torch.randn(1, hidden_dim, hidden_dim))\n",
    "\n",
    "        # 정규화 패널티\n",
    "        self.lambda_s = lambda_s\n",
    "        self.lambda_2 = lambda_2\n",
    "\n",
    "        nn.init.xavier_uniform_(self.u, gain=nn.init.calculate_gain(\"relu\"))\n",
    "        nn.init.xavier_uniform_(self.v, gain=nn.init.calculate_gain(\"relu\"))\n",
    "\n",
    "    def forward(self, x):\n",
    "        encoded = torch.relu(self.encoder(x))  # 인코더\n",
    "        decoded = torch.sigmoid(self.decoder(encoded))  # 디코더\n",
    "\n",
    "        # RBF 기반 로컬 커널 가중치 계산\n",
    "        w_hat = rbf_kernel(self.u, self.v)\n",
    "\n",
    "        # 정규화 손실 계산\n",
    "        sparse_reg = torch.nn.functional.mse_loss(w_hat, torch.zeros_like(w_hat))\n",
    "        l2_reg = torch.nn.functional.mse_loss(self.encoder.weight, torch.zeros_like(self.encoder.weight))\n",
    "        reg_loss = self.lambda_s * sparse_reg + self.lambda_2 * l2_reg\n",
    "\n",
    "        return decoded, reg_loss\n"
   ]
  },
  {
   "cell_type": "code",
   "execution_count": 41,
   "metadata": {},
   "outputs": [],
   "source": [
    "class GlobalKernelNet(nn.Module):\n",
    "    def __init__(self, n_m, gk_size, dot_scale):\n",
    "        super().__init__()\n",
    "        self.gk_size = gk_size\n",
    "        self.dot_scale = dot_scale\n",
    "        self.conv_kernel = nn.Parameter(torch.randn(n_m, gk_size ** 2) * 0.1)  # 아이템 수(n_m) 기반으로 정의\n",
    "\n",
    "        nn.init.xavier_uniform_(self.conv_kernel, gain=torch.nn.init.calculate_gain(\"relu\"))\n",
    "\n",
    "    def global_kernel(self, x):\n",
    "        avg_pooling = torch.mean(x, dim=1)  # 아이템 기반 평균 풀링\n",
    "        avg_pooling = avg_pooling.view(1, -1)  # (1, n_m)\n",
    "        gk = torch.matmul(avg_pooling, self.conv_kernel) * self.dot_scale  # (1, gk_size^2)\n",
    "        gk = gk.view(1, 1, self.gk_size, self.gk_size)  # (1, 1, gk_size, gk_size)\n",
    "        return gk\n",
    "\n",
    "    def global_conv(self, x, W):\n",
    "        x = x.unsqueeze(0).unsqueeze(0)  # 4D 텐서로 변환\n",
    "        conv2d = F.conv2d(x, W, stride=1, padding=1)  # 2D 컨볼루션\n",
    "        return conv2d.squeeze(0).squeeze(0)  # 2D 텐서로 복원\n"
   ]
  },
  {
   "cell_type": "code",
   "execution_count": 42,
   "metadata": {},
   "outputs": [],
   "source": [
    "class CompleteNet(nn.Module):\n",
    "    def __init__(self, local_kernel_net, global_kernel_net, gk_size, dot_scale):\n",
    "        super().__init__()\n",
    "        self.local_kernel_net = local_kernel_net\n",
    "        self.global_kernel_net = global_kernel_net\n",
    "        self.gk_size = gk_size\n",
    "        self.dot_scale = dot_scale\n",
    "\n",
    "    def forward(self, x):\n",
    "        # 로컬 커널 네트워크 출력\n",
    "        local_output, local_reg_loss = self.local_kernel_net(x)\n",
    "\n",
    "        # 글로벌 커널 생성 및 적용\n",
    "        gk = self.global_kernel_net.global_kernel(local_output)\n",
    "        global_output = self.global_kernel_net.global_conv(local_output, gk)\n",
    "\n",
    "        # 최종 출력 및 정규화 손실\n",
    "        final_output = global_output\n",
    "        reg_loss = local_reg_loss\n",
    "\n",
    "        return final_output, reg_loss\n"
   ]
  },
  {
   "cell_type": "code",
   "execution_count": 54,
   "metadata": {},
   "outputs": [
    {
     "name": "stdout",
     "output_type": "stream",
     "text": [
      "Epoch 0: Loss = 0.3648752272129059\n",
      "Epoch 10: Loss = 0.31725358963012695\n",
      "Epoch 20: Loss = 0.2424953132867813\n",
      "Epoch 30: Loss = 0.19164741039276123\n",
      "Epoch 40: Loss = 0.16610123217105865\n",
      "Epoch 50: Loss = 0.1545332372188568\n",
      "Epoch 60: Loss = 0.14919276535511017\n",
      "Epoch 70: Loss = 0.14625012874603271\n",
      "Epoch 80: Loss = 0.14436088502407074\n",
      "Epoch 90: Loss = 0.14299574494361877\n",
      "Epoch 100: Loss = 0.14191141724586487\n",
      "Epoch 110: Loss = 0.14100436866283417\n",
      "Epoch 120: Loss = 0.14022627472877502\n",
      "Epoch 130: Loss = 0.13954003155231476\n",
      "Epoch 140: Loss = 0.13892428576946259\n",
      "Epoch 150: Loss = 0.13838008046150208\n",
      "Epoch 160: Loss = 0.13789932429790497\n",
      "Epoch 170: Loss = 0.13747182488441467\n",
      "Epoch 180: Loss = 0.1370907872915268\n",
      "Epoch 190: Loss = 0.13675011694431305\n",
      "Epoch 200: Loss = 0.13644443452358246\n",
      "Epoch 210: Loss = 0.13616923987865448\n",
      "Epoch 220: Loss = 0.13592082262039185\n",
      "Epoch 230: Loss = 0.13569608330726624\n",
      "Epoch 240: Loss = 0.13549232482910156\n",
      "Epoch 250: Loss = 0.1353072077035904\n",
      "Epoch 260: Loss = 0.13513870537281036\n",
      "Epoch 270: Loss = 0.13498494029045105\n",
      "Epoch 280: Loss = 0.13484424352645874\n",
      "Epoch 290: Loss = 0.13471488654613495\n"
     ]
    }
   ],
   "source": [
    "local_kernel_net = LocalKernelAutoencoder(input_dim=train_r.shape[1], hidden_dim=128, lambda_s=0.01, lambda_2=0.001).to(device)\n",
    "optimizer = torch.optim.AdamW(local_kernel_net.parameters(), lr=0.001)\n",
    "\n",
    "for epoch in range(300):\n",
    "    optimizer.zero_grad()\n",
    "    pred, reg_loss = local_kernel_net(torch.Tensor(train_r).to(device))\n",
    "    loss = torch.nn.functional.mse_loss(pred, torch.Tensor(train_r).to(device)) + reg_loss\n",
    "    loss.backward()\n",
    "    optimizer.step()\n",
    "\n",
    "    if epoch % 10 == 0:\n",
    "        print(f\"Epoch {epoch}: Loss = {loss.item()}\")\n"
   ]
  },
  {
   "cell_type": "code",
   "execution_count": 55,
   "metadata": {},
   "outputs": [],
   "source": [
    "complete_model = CompleteNet(\n",
    "    local_kernel_net=local_kernel_net,\n",
    "    global_kernel_net=GlobalKernelNet(n_m=train_r.shape[0], gk_size=3, dot_scale=0.1).to(device),\n",
    "    gk_size=3,\n",
    "    dot_scale=0.1\n",
    ").to(device)\n"
   ]
  },
  {
   "cell_type": "code",
   "execution_count": 56,
   "metadata": {},
   "outputs": [
    {
     "name": "stdout",
     "output_type": "stream",
     "text": [
      "Epoch 0: Loss = 0.13646873831748962\n",
      "Epoch 10: Loss = 0.13635726273059845\n",
      "Epoch 20: Loss = 0.13604629039764404\n",
      "Epoch 30: Loss = 0.1355307698249817\n",
      "Epoch 40: Loss = 0.1344522386789322\n",
      "Epoch 50: Loss = 0.1324932724237442\n",
      "Epoch 60: Loss = 0.12875017523765564\n",
      "Epoch 70: Loss = 0.1218298077583313\n",
      "Epoch 80: Loss = 0.11097400635480881\n",
      "Epoch 90: Loss = 0.09656800329685211\n",
      "Epoch 100: Loss = 0.08126424998044968\n",
      "Epoch 110: Loss = 0.06965399533510208\n",
      "Epoch 120: Loss = 0.06224182993173599\n",
      "Epoch 130: Loss = 0.057779066264629364\n",
      "Epoch 140: Loss = 0.05475494638085365\n",
      "Epoch 150: Loss = 0.05257460102438927\n",
      "Epoch 160: Loss = 0.05081065371632576\n",
      "Epoch 170: Loss = 0.0492544025182724\n",
      "Epoch 180: Loss = 0.047836966812610626\n",
      "Epoch 190: Loss = 0.046503908932209015\n",
      "Epoch 200: Loss = 0.045234039425849915\n",
      "Epoch 210: Loss = 0.044001396745443344\n",
      "Epoch 220: Loss = 0.04276555776596069\n",
      "Epoch 230: Loss = 0.04148201271891594\n",
      "Epoch 240: Loss = 0.04017919674515724\n",
      "Epoch 250: Loss = 0.0387895405292511\n",
      "Epoch 260: Loss = 0.0372108556330204\n",
      "Epoch 270: Loss = 0.035421159118413925\n",
      "Epoch 280: Loss = 0.03349285200238228\n",
      "Epoch 290: Loss = 0.031605880707502365\n"
     ]
    }
   ],
   "source": [
    "# 손실 값을 저장할 리스트\n",
    "losses = []\n",
    "\n",
    "# 학습 루프\n",
    "optimizer = torch.optim.AdamW(complete_model.parameters(), lr=0.001)\n",
    "\n",
    "for epoch in range(300):\n",
    "    optimizer.zero_grad()\n",
    "    pred, reg_loss = complete_model(torch.Tensor(train_r).to(device))\n",
    "    loss = torch.nn.functional.mse_loss(pred, torch.Tensor(train_r).to(device)) + reg_loss\n",
    "    loss.backward()\n",
    "    optimizer.step()\n",
    "\n",
    "    # 손실 값 기록\n",
    "    losses.append(loss.item())\n",
    "\n",
    "    # 10 에포크마다 출력\n",
    "    if epoch % 10 == 0:\n",
    "        print(f\"Epoch {epoch}: Loss = {loss.item()}\")\n"
   ]
  },
  {
   "cell_type": "code",
   "execution_count": 57,
   "metadata": {},
   "outputs": [
    {
     "name": "stdout",
     "output_type": "stream",
     "text": [
      "Test RMSE: 0.3974338173866272\n",
      "Test MAE: 0.3030995726585388\n",
      "Test NDCG@10: 0.5858089664503401\n"
     ]
    }
   ],
   "source": [
    "# 테스트 데이터로 모델 평가\n",
    "test_r_tensor = torch.Tensor(test_r).to(device)\n",
    "\n",
    "complete_model.eval()  # 모델을 평가 모드로 설정\n",
    "with torch.no_grad():\n",
    "    pred, _ = complete_model(test_r_tensor)  # 테스트 데이터로 예측 수행\n",
    "    pred = pred.cpu().numpy()  # 예측값을 NumPy 배열로 변환\n",
    "\n",
    "# RMSE 계산\n",
    "rmse = np.sqrt(np.mean((test_r - pred) ** 2))\n",
    "print(f\"Test RMSE: {rmse}\")\n",
    "\n",
    "# MAE 계산\n",
    "mae = np.mean(np.abs(test_r - pred))\n",
    "print(f\"Test MAE: {mae}\")\n",
    "\n",
    "# NDCG 계산 함수 (예: Top-K 기준)\n",
    "def calculate_ndcg(predictions, ground_truth, k=10):\n",
    "    def dcg(scores):\n",
    "        return np.sum((2**scores - 1) / np.log2(np.arange(1, len(scores) + 1) + 1))\n",
    "    \n",
    "    ndcg_scores = []\n",
    "    for pred_row, true_row in zip(predictions, ground_truth):\n",
    "        top_k_indices = np.argsort(pred_row)[::-1][:k]\n",
    "        true_relevance = true_row[top_k_indices]\n",
    "        ideal_relevance = np.sort(true_row)[::-1][:k]\n",
    "        dcg_score = dcg(true_relevance)\n",
    "        idcg_score = dcg(ideal_relevance)\n",
    "        ndcg_scores.append(dcg_score / idcg_score if idcg_score > 0 else 0.0)\n",
    "    return np.mean(ndcg_scores)\n",
    "\n",
    "# NDCG 계산\n",
    "ndcg = calculate_ndcg(np.clip(pred, 1., 5.), test_r, k=10)\n",
    "print(f\"Test NDCG@10: {ndcg}\")\n"
   ]
  },
  {
   "cell_type": "code",
   "execution_count": 58,
   "metadata": {},
   "outputs": [
    {
     "name": "stdout",
     "output_type": "stream",
     "text": [
      "Test RMSE: 0.3974338173866272\n",
      "Test MAE: 0.3030995726585388\n",
      "Test Precision@10: 0.001379310344827586\n",
      "Test Recall@10: 0.013793103448275862\n",
      "Test F1-Score@10: 0.002507836990595611\n",
      "Test NDCG@10: 0.5858089664503401\n"
     ]
    }
   ],
   "source": [
    "import numpy as np\n",
    "\n",
    "# Precision@k 계산 함수\n",
    "def calculate_precision_recall(pred, actual, k=10):\n",
    "    \"\"\"\n",
    "    Precision@k와 Recall@k를 계산하는 함수\n",
    "    :param pred: 예측된 아이템 목록\n",
    "    :param actual: 실제 관심 있는 아이템 목록\n",
    "    :param k: 평가할 추천 목록의 길이 (예: 10)\n",
    "    :return: Precision@k, Recall@k\n",
    "    \"\"\"\n",
    "    # 상위 k개의 추천 아이템\n",
    "    recommended_items = np.argsort(pred, axis=1)[:, -k:]  # 예측된 아이템의 상위 k개\n",
    "    true_positives = 0\n",
    "    for i in range(pred.shape[0]):\n",
    "        # 실제 긍정적인 항목이 상위 k개 추천에 포함되었는지 확인\n",
    "        true_positives += len(set(recommended_items[i]) & set(actual[i]))\n",
    "\n",
    "    # Precision@k\n",
    "    precision = true_positives / (k * len(pred))\n",
    "\n",
    "    # Recall@k\n",
    "    recall = true_positives / len(actual)\n",
    "    \n",
    "    return precision, recall\n",
    "\n",
    "# F1-Score@k 계산 함수\n",
    "def calculate_f1_score(precision, recall):\n",
    "    \"\"\"\n",
    "    Precision과 Recall을 기반으로 F1-Score를 계산하는 함수\n",
    "    :param precision: Precision@k\n",
    "    :param recall: Recall@k\n",
    "    :return: F1-Score@k\n",
    "    \"\"\"\n",
    "    if precision + recall == 0:\n",
    "        return 0\n",
    "    return 2 * (precision * recall) / (precision + recall)\n",
    "\n",
    "# NDCG@k 계산 함수\n",
    "def calculate_ndcg(predictions, ground_truth, k=10):\n",
    "    \"\"\"\n",
    "    NDCG@k 계산 함수\n",
    "    :param predictions: 예측된 아이템 목록\n",
    "    :param ground_truth: 실제 관심 있는 아이템 목록\n",
    "    :param k: 평가할 추천 목록의 길이 (예: 10)\n",
    "    :return: NDCG@k\n",
    "    \"\"\"\n",
    "    def dcg(scores):\n",
    "        return np.sum((2**scores - 1) / np.log2(np.arange(1, len(scores) + 1) + 1))\n",
    "    \n",
    "    ndcg_scores = []\n",
    "    for pred_row, true_row in zip(predictions, ground_truth):\n",
    "        top_k_indices = np.argsort(pred_row)[::-1][:k]\n",
    "        true_relevance = true_row[top_k_indices]\n",
    "        ideal_relevance = np.sort(true_row)[::-1][:k]\n",
    "        dcg_score = dcg(true_relevance)\n",
    "        idcg_score = dcg(ideal_relevance)\n",
    "        ndcg_scores.append(dcg_score / idcg_score if idcg_score > 0 else 0.0)\n",
    "    return np.mean(ndcg_scores)\n",
    "\n",
    "# 테스트 데이터로 모델 평가\n",
    "test_r_tensor = torch.Tensor(test_r).to(device)\n",
    "\n",
    "complete_model.eval()  # 모델을 평가 모드로 설정\n",
    "with torch.no_grad():\n",
    "    pred, reg_loss = complete_model(test_r_tensor)  # 테스트 데이터로 예측 수행\n",
    "    pred = pred.cpu().numpy()  # 예측값을 NumPy 배열로 변환\n",
    "\n",
    "# RMSE 계산\n",
    "rmse = np.sqrt(np.mean((test_r - pred) ** 2))\n",
    "print(f\"Test RMSE: {rmse}\")\n",
    "\n",
    "# MAE 계산\n",
    "mae = np.mean(np.abs(test_r - pred))\n",
    "print(f\"Test MAE: {mae}\")\n",
    "\n",
    "# Precision, Recall, F1-Score 계산\n",
    "precision, recall = calculate_precision_recall(np.clip(pred, 1., 5.), test_r, k=10)\n",
    "f1_score = calculate_f1_score(precision, recall)\n",
    "print(f\"Test Precision@10: {precision}\")\n",
    "print(f\"Test Recall@10: {recall}\")\n",
    "print(f\"Test F1-Score@10: {f1_score}\")\n",
    "\n",
    "# NDCG 계산\n",
    "ndcg = calculate_ndcg(np.clip(pred, 1., 5.), test_r, k=10)\n",
    "print(f\"Test NDCG@10: {ndcg}\")\n"
   ]
  },
  {
   "cell_type": "code",
   "execution_count": 59,
   "metadata": {},
   "outputs": [
    {
     "data": {
      "image/png": "[encoded data removed]",
      "text/plain": [
       "<Figure size 1000x600 with 1 Axes>"
      ]
     },
     "metadata": {},
     "output_type": "display_data"
    },
    {
     "data": {
      "image/png": "[encoded data removed]",
      "text/plain": [
       "<Figure size 640x480 with 1 Axes>"
      ]
     },
     "metadata": {},
     "output_type": "display_data"
    }
   ],
   "source": [
    "# 학습 중 손실 값 시각화\n",
    "plt.figure(figsize=(10, 6))\n",
    "plt.plot(losses, label=\"Training Loss\")\n",
    "plt.title(\"Training Loss Over Epochs\")\n",
    "plt.xlabel(\"Epoch\")\n",
    "plt.ylabel(\"Loss\")\n",
    "plt.legend()\n",
    "plt.show()\n",
    "\n",
    "# 테스트 RMSE와 MAE 시각화\n",
    "metrics = {\"RMSE\": rmse, \"MAE\": mae}\n",
    "plt.bar(metrics.keys(), metrics.values(), color=[\"blue\", \"orange\"])\n",
    "plt.title(\"Test Performance Metrics\")\n",
    "plt.ylabel(\"Value\")\n",
    "plt.show()\n"
   ]
  }
 ],
 "metadata": {
  "kernelspec": {
   "display_name": "base",
   "language": "python",
   "name": "python3"
  },
  "language_info": {
   "codemirror_mode": {
    "name": "ipython",
    "version": 3
   },
   "file_extension": ".py",
   "mimetype": "text/x-python",
   "name": "python",
   "nbconvert_exporter": "python",
   "pygments_lexer": "ipython3",
   "version": "3.12.4"
  }
 },
 "nbformat": 4,
 "nbformat_minor": 2
}
