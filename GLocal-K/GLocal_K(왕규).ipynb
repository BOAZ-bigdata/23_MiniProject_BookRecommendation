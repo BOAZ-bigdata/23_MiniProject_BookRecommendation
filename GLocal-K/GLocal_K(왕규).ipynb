{
  "nbformat": 4,
  "nbformat_minor": 0,
  "metadata": {
    "colab": {
      "provenance": [],
      "gpuType": "T4",
      "collapsed_sections": [
        "Mb47nNWYR1HI",
        "tXydG0RbkhaJ",
        "__M0AK7SR3x_",
        "Z3k2DsdTq2Ny",
        "UOW7YgunLlSl",
        "8Z3qa_DYHF5N",
        "q4fR4o6xHLzC",
        "3EbmYqI3H8xw",
        "_-9s5i2wIDW1",
        "sZBehVdyIJWJ",
        "98-C_JXZd_4B"
      ],
      "toc_visible": true
    },
    "kernelspec": {
      "name": "python3",
      "display_name": "Python 3"
    },
    "language_info": {
      "name": "python"
    },
    "accelerator": "GPU"
  },
  "cells": [
    {
      "cell_type": "markdown",
      "source": [
        "# 라이브러리 불러오기"
      ],
      "metadata": {
        "id": "Mb47nNWYR1HI"
      }
    },
    {
      "cell_type": "code",
      "source": [
        "from google.colab import drive\n",
        "drive.mount('/content/drive')\n",
        "\n",
        "from time import time\n",
        "from scipy.sparse import csc_matrix\n",
        "import numpy as np\n",
        "import h5py\n",
        "import torch\n",
        "import torch.nn as nn\n",
        "import torch.nn.functional as F\n",
        "import torch.optim as optim\n",
        "from torch.autograd import Variable\n",
        "from torch.utils.data import Dataset, DataLoader\n",
        "from torch.nn.parameter import Parameter\n",
        "import pandas as pd\n",
        "from tqdm import tqdm\n",
        "from sklearn.model_selection import train_test_split\n",
        "import random\n",
        "\n",
        "\n",
        "torch.manual_seed(1284)\n",
        "device = torch.device(\"cuda:0\" if torch.cuda.is_available() else \"cpu\")"
      ],
      "metadata": {
        "colab": {
          "base_uri": "https://localhost:8080/"
        },
        "id": "DBXN-Nq0Qxpx",
        "outputId": "0df80b64-ff3a-457c-ea68-1129874eb53e"
      },
      "execution_count": null,
      "outputs": [
        {
          "output_type": "stream",
          "name": "stdout",
          "text": [
            "Mounted at /content/drive\n"
          ]
        }
      ]
    },
    {
      "cell_type": "markdown",
      "source": [
        "# 테스트 데이터 줄이기"
      ],
      "metadata": {
        "id": "tXydG0RbkhaJ"
      }
    },
    {
      "cell_type": "code",
      "source": [
        "test_df = pd.read_parquet(\"/content/drive/MyDrive/dataset/test.parquet\",columns=['user_id', 'parent_asin', 'rating'])"
      ],
      "metadata": {
        "id": "0i-ANxz3kg7N"
      },
      "execution_count": null,
      "outputs": []
    },
    {
      "cell_type": "code",
      "source": [
        "# test 전체 유저/아이템 수\n",
        "test_df['user_id'].nunique(), test_df['parent_asin'].nunique()"
      ],
      "metadata": {
        "colab": {
          "base_uri": "https://localhost:8080/"
        },
        "id": "63FuX9J5k_bb",
        "outputId": "2ef3fd41-0f4a-4e0c-bb79-e41ae0fde2fc"
      },
      "execution_count": null,
      "outputs": [
        {
          "output_type": "execute_result",
          "data": {
            "text/plain": [
              "(2526568, 1730174)"
            ]
          },
          "metadata": {},
          "execution_count": 3
        }
      ]
    },
    {
      "cell_type": "code",
      "source": [
        "test_df.shape"
      ],
      "metadata": {
        "colab": {
          "base_uri": "https://localhost:8080/"
        },
        "id": "wRPZTB-xo9L8",
        "outputId": "50f9160e-eafd-4c78-b845-75b56f54ef75"
      },
      "execution_count": null,
      "outputs": [
        {
          "output_type": "execute_result",
          "data": {
            "text/plain": [
              "(5193535, 3)"
            ]
          },
          "metadata": {},
          "execution_count": 4
        }
      ]
    },
    {
      "cell_type": "code",
      "source": [
        "user_count = test_df['user_id'].value_counts()\n",
        "item_count = test_df['parent_asin'].value_counts()\n",
        "\n",
        "test_df.loc[:, 'user_count'] = test_df['user_id'].map(user_count)\n",
        "test_df.loc[:, 'book_count'] = test_df['parent_asin'].map(item_count)\n",
        "test_df.head(10)"
      ],
      "metadata": {
        "colab": {
          "base_uri": "https://localhost:8080/",
          "height": 363
        },
        "id": "Oo9JefWhlGEm",
        "outputId": "18d8e5b3-ebcd-4ff0-af73-5545eef42b38"
      },
      "execution_count": null,
      "outputs": [
        {
          "output_type": "execute_result",
          "data": {
            "text/plain": [
              "                               user_id parent_asin  rating  user_count  \\\n",
              "2205097   AE22236AFRRSMQIKGG7TPTB75QEA  0441009239     5.0           4   \n",
              "2205089   AE22236AFRRSMQIKGG7TPTB75QEA  B002WGJX2G     3.0           4   \n",
              "2205087   AE22236AFRRSMQIKGG7TPTB75QEA  B0090UOJAI     5.0           4   \n",
              "2205096   AE22236AFRRSMQIKGG7TPTB75QEA  0375826688     4.0           4   \n",
              "23169678  AE2224D3S4GTKVFJ5V7ZRQJ7P4FQ  B003KK5RR8     4.0           1   \n",
              "8346809   AE2224IMTLGXRXJITJJOW5RSMW5Q  0316227706     5.0           1   \n",
              "14551801  AE2227ICQPWG234XWVOKP6KPFNGQ  098633250X     5.0           1   \n",
              "25302244  AE222A5AZ56BDHWX357L2JKNQJLA  0439918510     5.0           1   \n",
              "20944720  AE222ARFTTB3OUTW2RXSHTO3DBZQ  0393935841     5.0           1   \n",
              "24599637  AE222CQ6SEJNMJBHKF6IETR6GLTA  0345506073     5.0           1   \n",
              "\n",
              "          book_count  \n",
              "2205097           56  \n",
              "2205089           16  \n",
              "2205087          247  \n",
              "2205096          161  \n",
              "23169678           2  \n",
              "8346809           89  \n",
              "14551801           1  \n",
              "25302244           3  \n",
              "20944720          63  \n",
              "24599637           6  "
            ],
            "text/html": [
              "\n",
              "  <div id=\"df-fd2c5525-f00a-4a16-ba52-84e43754be4d\" class=\"colab-df-container\">\n",
              "    <div>\n",
              "<style scoped>\n",
              "    .dataframe tbody tr th:only-of-type {\n",
              "        vertical-align: middle;\n",
              "    }\n",
              "\n",
              "    .dataframe tbody tr th {\n",
              "        vertical-align: top;\n",
              "    }\n",
              "\n",
              "    .dataframe thead th {\n",
              "        text-align: right;\n",
              "    }\n",
              "</style>\n",
              "<table border=\"1\" class=\"dataframe\">\n",
              "  <thead>\n",
              "    <tr style=\"text-align: right;\">\n",
              "      <th></th>\n",
              "      <th>user_id</th>\n",
              "      <th>parent_asin</th>\n",
              "      <th>rating</th>\n",
              "      <th>user_count</th>\n",
              "      <th>book_count</th>\n",
              "    </tr>\n",
              "  </thead>\n",
              "  <tbody>\n",
              "    <tr>\n",
              "      <th>2205097</th>\n",
              "      <td>AE22236AFRRSMQIKGG7TPTB75QEA</td>\n",
              "      <td>0441009239</td>\n",
              "      <td>5.0</td>\n",
              "      <td>4</td>\n",
              "      <td>56</td>\n",
              "    </tr>\n",
              "    <tr>\n",
              "      <th>2205089</th>\n",
              "      <td>AE22236AFRRSMQIKGG7TPTB75QEA</td>\n",
              "      <td>B002WGJX2G</td>\n",
              "      <td>3.0</td>\n",
              "      <td>4</td>\n",
              "      <td>16</td>\n",
              "    </tr>\n",
              "    <tr>\n",
              "      <th>2205087</th>\n",
              "      <td>AE22236AFRRSMQIKGG7TPTB75QEA</td>\n",
              "      <td>B0090UOJAI</td>\n",
              "      <td>5.0</td>\n",
              "      <td>4</td>\n",
              "      <td>247</td>\n",
              "    </tr>\n",
              "    <tr>\n",
              "      <th>2205096</th>\n",
              "      <td>AE22236AFRRSMQIKGG7TPTB75QEA</td>\n",
              "      <td>0375826688</td>\n",
              "      <td>4.0</td>\n",
              "      <td>4</td>\n",
              "      <td>161</td>\n",
              "    </tr>\n",
              "    <tr>\n",
              "      <th>23169678</th>\n",
              "      <td>AE2224D3S4GTKVFJ5V7ZRQJ7P4FQ</td>\n",
              "      <td>B003KK5RR8</td>\n",
              "      <td>4.0</td>\n",
              "      <td>1</td>\n",
              "      <td>2</td>\n",
              "    </tr>\n",
              "    <tr>\n",
              "      <th>8346809</th>\n",
              "      <td>AE2224IMTLGXRXJITJJOW5RSMW5Q</td>\n",
              "      <td>0316227706</td>\n",
              "      <td>5.0</td>\n",
              "      <td>1</td>\n",
              "      <td>89</td>\n",
              "    </tr>\n",
              "    <tr>\n",
              "      <th>14551801</th>\n",
              "      <td>AE2227ICQPWG234XWVOKP6KPFNGQ</td>\n",
              "      <td>098633250X</td>\n",
              "      <td>5.0</td>\n",
              "      <td>1</td>\n",
              "      <td>1</td>\n",
              "    </tr>\n",
              "    <tr>\n",
              "      <th>25302244</th>\n",
              "      <td>AE222A5AZ56BDHWX357L2JKNQJLA</td>\n",
              "      <td>0439918510</td>\n",
              "      <td>5.0</td>\n",
              "      <td>1</td>\n",
              "      <td>3</td>\n",
              "    </tr>\n",
              "    <tr>\n",
              "      <th>20944720</th>\n",
              "      <td>AE222ARFTTB3OUTW2RXSHTO3DBZQ</td>\n",
              "      <td>0393935841</td>\n",
              "      <td>5.0</td>\n",
              "      <td>1</td>\n",
              "      <td>63</td>\n",
              "    </tr>\n",
              "    <tr>\n",
              "      <th>24599637</th>\n",
              "      <td>AE222CQ6SEJNMJBHKF6IETR6GLTA</td>\n",
              "      <td>0345506073</td>\n",
              "      <td>5.0</td>\n",
              "      <td>1</td>\n",
              "      <td>6</td>\n",
              "    </tr>\n",
              "  </tbody>\n",
              "</table>\n",
              "</div>\n",
              "    <div class=\"colab-df-buttons\">\n",
              "\n",
              "  <div class=\"colab-df-container\">\n",
              "    <button class=\"colab-df-convert\" onclick=\"convertToInteractive('df-fd2c5525-f00a-4a16-ba52-84e43754be4d')\"\n",
              "            title=\"Convert this dataframe to an interactive table.\"\n",
              "            style=\"display:none;\">\n",
              "\n",
              "  <svg xmlns=\"http://www.w3.org/2000/svg\" height=\"24px\" viewBox=\"0 -960 960 960\">\n",
              "    <path d=\"M120-120v-720h720v720H120Zm60-500h600v-160H180v160Zm220 220h160v-160H400v160Zm0 220h160v-160H400v160ZM180-400h160v-160H180v160Zm440 0h160v-160H620v160ZM180-180h160v-160H180v160Zm440 0h160v-160H620v160Z\"/>\n",
              "  </svg>\n",
              "    </button>\n",
              "\n",
              "  <style>\n",
              "    .colab-df-container {\n",
              "      display:flex;\n",
              "      gap: 12px;\n",
              "    }\n",
              "\n",
              "    .colab-df-convert {\n",
              "      background-color: #E8F0FE;\n",
              "      border: none;\n",
              "      border-radius: 50%;\n",
              "      cursor: pointer;\n",
              "      display: none;\n",
              "      fill: #1967D2;\n",
              "      height: 32px;\n",
              "      padding: 0 0 0 0;\n",
              "      width: 32px;\n",
              "    }\n",
              "\n",
              "    .colab-df-convert:hover {\n",
              "      background-color: #E2EBFA;\n",
              "      box-shadow: 0px 1px 2px rgba(60, 64, 67, 0.3), 0px 1px 3px 1px rgba(60, 64, 67, 0.15);\n",
              "      fill: #174EA6;\n",
              "    }\n",
              "\n",
              "    .colab-df-buttons div {\n",
              "      margin-bottom: 4px;\n",
              "    }\n",
              "\n",
              "    [theme=dark] .colab-df-convert {\n",
              "      background-color: #3B4455;\n",
              "      fill: #D2E3FC;\n",
              "    }\n",
              "\n",
              "    [theme=dark] .colab-df-convert:hover {\n",
              "      background-color: #434B5C;\n",
              "      box-shadow: 0px 1px 3px 1px rgba(0, 0, 0, 0.15);\n",
              "      filter: drop-shadow(0px 1px 2px rgba(0, 0, 0, 0.3));\n",
              "      fill: #FFFFFF;\n",
              "    }\n",
              "  </style>\n",
              "\n",
              "    <script>\n",
              "      const buttonEl =\n",
              "        document.querySelector('#df-fd2c5525-f00a-4a16-ba52-84e43754be4d button.colab-df-convert');\n",
              "      buttonEl.style.display =\n",
              "        google.colab.kernel.accessAllowed ? 'block' : 'none';\n",
              "\n",
              "      async function convertToInteractive(key) {\n",
              "        const element = document.querySelector('#df-fd2c5525-f00a-4a16-ba52-84e43754be4d');\n",
              "        const dataTable =\n",
              "          await google.colab.kernel.invokeFunction('convertToInteractive',\n",
              "                                                    [key], {});\n",
              "        if (!dataTable) return;\n",
              "\n",
              "        const docLinkHtml = 'Like what you see? Visit the ' +\n",
              "          '<a target=\"_blank\" href=https://colab.research.google.com/notebooks/data_table.ipynb>data table notebook</a>'\n",
              "          + ' to learn more about interactive tables.';\n",
              "        element.innerHTML = '';\n",
              "        dataTable['output_type'] = 'display_data';\n",
              "        await google.colab.output.renderOutput(dataTable, element);\n",
              "        const docLink = document.createElement('div');\n",
              "        docLink.innerHTML = docLinkHtml;\n",
              "        element.appendChild(docLink);\n",
              "      }\n",
              "    </script>\n",
              "  </div>\n",
              "\n",
              "\n",
              "<div id=\"df-b084a61a-7308-4895-a5bb-8349cf1b85c9\">\n",
              "  <button class=\"colab-df-quickchart\" onclick=\"quickchart('df-b084a61a-7308-4895-a5bb-8349cf1b85c9')\"\n",
              "            title=\"Suggest charts\"\n",
              "            style=\"display:none;\">\n",
              "\n",
              "<svg xmlns=\"http://www.w3.org/2000/svg\" height=\"24px\"viewBox=\"0 0 24 24\"\n",
              "     width=\"24px\">\n",
              "    <g>\n",
              "        <path d=\"M19 3H5c-1.1 0-2 .9-2 2v14c0 1.1.9 2 2 2h14c1.1 0 2-.9 2-2V5c0-1.1-.9-2-2-2zM9 17H7v-7h2v7zm4 0h-2V7h2v10zm4 0h-2v-4h2v4z\"/>\n",
              "    </g>\n",
              "</svg>\n",
              "  </button>\n",
              "\n",
              "<style>\n",
              "  .colab-df-quickchart {\n",
              "      --bg-color: #E8F0FE;\n",
              "      --fill-color: #1967D2;\n",
              "      --hover-bg-color: #E2EBFA;\n",
              "      --hover-fill-color: #174EA6;\n",
              "      --disabled-fill-color: #AAA;\n",
              "      --disabled-bg-color: #DDD;\n",
              "  }\n",
              "\n",
              "  [theme=dark] .colab-df-quickchart {\n",
              "      --bg-color: #3B4455;\n",
              "      --fill-color: #D2E3FC;\n",
              "      --hover-bg-color: #434B5C;\n",
              "      --hover-fill-color: #FFFFFF;\n",
              "      --disabled-bg-color: #3B4455;\n",
              "      --disabled-fill-color: #666;\n",
              "  }\n",
              "\n",
              "  .colab-df-quickchart {\n",
              "    background-color: var(--bg-color);\n",
              "    border: none;\n",
              "    border-radius: 50%;\n",
              "    cursor: pointer;\n",
              "    display: none;\n",
              "    fill: var(--fill-color);\n",
              "    height: 32px;\n",
              "    padding: 0;\n",
              "    width: 32px;\n",
              "  }\n",
              "\n",
              "  .colab-df-quickchart:hover {\n",
              "    background-color: var(--hover-bg-color);\n",
              "    box-shadow: 0 1px 2px rgba(60, 64, 67, 0.3), 0 1px 3px 1px rgba(60, 64, 67, 0.15);\n",
              "    fill: var(--button-hover-fill-color);\n",
              "  }\n",
              "\n",
              "  .colab-df-quickchart-complete:disabled,\n",
              "  .colab-df-quickchart-complete:disabled:hover {\n",
              "    background-color: var(--disabled-bg-color);\n",
              "    fill: var(--disabled-fill-color);\n",
              "    box-shadow: none;\n",
              "  }\n",
              "\n",
              "  .colab-df-spinner {\n",
              "    border: 2px solid var(--fill-color);\n",
              "    border-color: transparent;\n",
              "    border-bottom-color: var(--fill-color);\n",
              "    animation:\n",
              "      spin 1s steps(1) infinite;\n",
              "  }\n",
              "\n",
              "  @keyframes spin {\n",
              "    0% {\n",
              "      border-color: transparent;\n",
              "      border-bottom-color: var(--fill-color);\n",
              "      border-left-color: var(--fill-color);\n",
              "    }\n",
              "    20% {\n",
              "      border-color: transparent;\n",
              "      border-left-color: var(--fill-color);\n",
              "      border-top-color: var(--fill-color);\n",
              "    }\n",
              "    30% {\n",
              "      border-color: transparent;\n",
              "      border-left-color: var(--fill-color);\n",
              "      border-top-color: var(--fill-color);\n",
              "      border-right-color: var(--fill-color);\n",
              "    }\n",
              "    40% {\n",
              "      border-color: transparent;\n",
              "      border-right-color: var(--fill-color);\n",
              "      border-top-color: var(--fill-color);\n",
              "    }\n",
              "    60% {\n",
              "      border-color: transparent;\n",
              "      border-right-color: var(--fill-color);\n",
              "    }\n",
              "    80% {\n",
              "      border-color: transparent;\n",
              "      border-right-color: var(--fill-color);\n",
              "      border-bottom-color: var(--fill-color);\n",
              "    }\n",
              "    90% {\n",
              "      border-color: transparent;\n",
              "      border-bottom-color: var(--fill-color);\n",
              "    }\n",
              "  }\n",
              "</style>\n",
              "\n",
              "  <script>\n",
              "    async function quickchart(key) {\n",
              "      const quickchartButtonEl =\n",
              "        document.querySelector('#' + key + ' button');\n",
              "      quickchartButtonEl.disabled = true;  // To prevent multiple clicks.\n",
              "      quickchartButtonEl.classList.add('colab-df-spinner');\n",
              "      try {\n",
              "        const charts = await google.colab.kernel.invokeFunction(\n",
              "            'suggestCharts', [key], {});\n",
              "      } catch (error) {\n",
              "        console.error('Error during call to suggestCharts:', error);\n",
              "      }\n",
              "      quickchartButtonEl.classList.remove('colab-df-spinner');\n",
              "      quickchartButtonEl.classList.add('colab-df-quickchart-complete');\n",
              "    }\n",
              "    (() => {\n",
              "      let quickchartButtonEl =\n",
              "        document.querySelector('#df-b084a61a-7308-4895-a5bb-8349cf1b85c9 button');\n",
              "      quickchartButtonEl.style.display =\n",
              "        google.colab.kernel.accessAllowed ? 'block' : 'none';\n",
              "    })();\n",
              "  </script>\n",
              "</div>\n",
              "\n",
              "    </div>\n",
              "  </div>\n"
            ],
            "application/vnd.google.colaboratory.intrinsic+json": {
              "type": "dataframe",
              "variable_name": "test_df"
            }
          },
          "metadata": {},
          "execution_count": 3
        }
      ]
    },
    {
      "cell_type": "code",
      "source": [
        "print(test_df['user_count'].describe())\n",
        "print(test_df['book_count'].describe())"
      ],
      "metadata": {
        "colab": {
          "base_uri": "https://localhost:8080/"
        },
        "id": "3Wngf1Awlci1",
        "outputId": "7502fdba-5887-4efc-e4b0-bfc3ef44f9cd"
      },
      "execution_count": null,
      "outputs": [
        {
          "output_type": "stream",
          "name": "stdout",
          "text": [
            "count    5.193535e+06\n",
            "mean     1.377948e+01\n",
            "std      4.582960e+01\n",
            "min      1.000000e+00\n",
            "25%      1.000000e+00\n",
            "50%      2.000000e+00\n",
            "75%      7.000000e+00\n",
            "max      9.720000e+02\n",
            "Name: user_count, dtype: float64\n",
            "count    5.193535e+06\n",
            "mean     6.489068e+01\n",
            "std      3.221533e+02\n",
            "min      1.000000e+00\n",
            "25%      2.000000e+00\n",
            "50%      6.000000e+00\n",
            "75%      2.400000e+01\n",
            "max      6.156000e+03\n",
            "Name: book_count, dtype: float64\n"
          ]
        }
      ]
    },
    {
      "cell_type": "code",
      "source": [
        "test_df[test_df['user_count'] >= 30 ]['user_id'].nunique()"
      ],
      "metadata": {
        "colab": {
          "base_uri": "https://localhost:8080/"
        },
        "id": "-fW6Ho1smNXw",
        "outputId": "6cb1c6b4-ee62-43a3-a02b-018b70018b0d"
      },
      "execution_count": null,
      "outputs": [
        {
          "output_type": "execute_result",
          "data": {
            "text/plain": [
              "7795"
            ]
          },
          "metadata": {},
          "execution_count": 4
        }
      ]
    },
    {
      "cell_type": "code",
      "source": [
        "test_df[test_df['book_count'] >= 30 ]['parent_asin'].nunique()"
      ],
      "metadata": {
        "colab": {
          "base_uri": "https://localhost:8080/"
        },
        "id": "1JIN5P36no-j",
        "outputId": "e84e74d9-4d17-4b47-8ac7-0176b14a1791"
      },
      "execution_count": null,
      "outputs": [
        {
          "output_type": "execute_result",
          "data": {
            "text/plain": [
              "15292"
            ]
          },
          "metadata": {},
          "execution_count": 5
        }
      ]
    },
    {
      "cell_type": "code",
      "source": [
        "test_data = test_df[(test_df['user_count'] >= 30 ) & (test_df['book_count'] >= 30 )]\n",
        "print(\"사용자 수 : \", test_data['user_id'].nunique())\n",
        "print(\"아이템 수 : \", test_data['parent_asin'].nunique())"
      ],
      "metadata": {
        "colab": {
          "base_uri": "https://localhost:8080/"
        },
        "id": "fV94byF4n73t",
        "outputId": "0adb3994-97d7-4910-fc12-953f611819b9"
      },
      "execution_count": null,
      "outputs": [
        {
          "output_type": "stream",
          "name": "stdout",
          "text": [
            "사용자 수 :  6840\n",
            "아이템 수 :  11867\n"
          ]
        }
      ]
    },
    {
      "cell_type": "code",
      "source": [
        "test_data.shape"
      ],
      "metadata": {
        "colab": {
          "base_uri": "https://localhost:8080/"
        },
        "id": "e24qSAjyop2J",
        "outputId": "5b92b8b9-e11d-4abe-a062-a69fc327d6a5"
      },
      "execution_count": null,
      "outputs": [
        {
          "output_type": "execute_result",
          "data": {
            "text/plain": [
              "(58050, 5)"
            ]
          },
          "metadata": {},
          "execution_count": 7
        }
      ]
    },
    {
      "cell_type": "code",
      "source": [
        "test_data.head(10)"
      ],
      "metadata": {
        "colab": {
          "base_uri": "https://localhost:8080/",
          "height": 363
        },
        "collapsed": true,
        "id": "9qKsYGRUoZNM",
        "outputId": "bad982e1-f300-49e6-d721-9070fda97315"
      },
      "execution_count": null,
      "outputs": [
        {
          "output_type": "execute_result",
          "data": {
            "text/plain": [
              "                               user_id parent_asin  rating\n",
              "21246528  AE223J6LBWPONMIKQGHAI3X5GNOQ  B08ZLNTQPT     5.0\n",
              "21246576  AE223J6LBWPONMIKQGHAI3X5GNOQ  B017G93BSK     4.0\n",
              "21246548  AE223J6LBWPONMIKQGHAI3X5GNOQ  B08HX84DPQ     4.0\n",
              "21246562  AE223J6LBWPONMIKQGHAI3X5GNOQ  B086T371T7     5.0\n",
              "21246527  AE223J6LBWPONMIKQGHAI3X5GNOQ  B00CJH944U     5.0\n",
              "21246570  AE223J6LBWPONMIKQGHAI3X5GNOQ  B01FHP71KE     4.0\n",
              "21246530  AE223J6LBWPONMIKQGHAI3X5GNOQ  B08XMCMCXT     5.0\n",
              "13520485  AE224HM2QAW5TTSDL2QRDERA6KMA  1594201293     4.0\n",
              "13520479  AE224HM2QAW5TTSDL2QRDERA6KMA  B00BAXFACO     3.0\n",
              "9861977   AE224PFXAEAT66IXX43GRJSWHXCA  B009E6U56K     1.0"
            ],
            "text/html": [
              "\n",
              "  <div id=\"df-c4d2ab20-07d8-4a02-8af3-3a14400839e4\" class=\"colab-df-container\">\n",
              "    <div>\n",
              "<style scoped>\n",
              "    .dataframe tbody tr th:only-of-type {\n",
              "        vertical-align: middle;\n",
              "    }\n",
              "\n",
              "    .dataframe tbody tr th {\n",
              "        vertical-align: top;\n",
              "    }\n",
              "\n",
              "    .dataframe thead th {\n",
              "        text-align: right;\n",
              "    }\n",
              "</style>\n",
              "<table border=\"1\" class=\"dataframe\">\n",
              "  <thead>\n",
              "    <tr style=\"text-align: right;\">\n",
              "      <th></th>\n",
              "      <th>user_id</th>\n",
              "      <th>parent_asin</th>\n",
              "      <th>rating</th>\n",
              "    </tr>\n",
              "  </thead>\n",
              "  <tbody>\n",
              "    <tr>\n",
              "      <th>21246528</th>\n",
              "      <td>AE223J6LBWPONMIKQGHAI3X5GNOQ</td>\n",
              "      <td>B08ZLNTQPT</td>\n",
              "      <td>5.0</td>\n",
              "    </tr>\n",
              "    <tr>\n",
              "      <th>21246576</th>\n",
              "      <td>AE223J6LBWPONMIKQGHAI3X5GNOQ</td>\n",
              "      <td>B017G93BSK</td>\n",
              "      <td>4.0</td>\n",
              "    </tr>\n",
              "    <tr>\n",
              "      <th>21246548</th>\n",
              "      <td>AE223J6LBWPONMIKQGHAI3X5GNOQ</td>\n",
              "      <td>B08HX84DPQ</td>\n",
              "      <td>4.0</td>\n",
              "    </tr>\n",
              "    <tr>\n",
              "      <th>21246562</th>\n",
              "      <td>AE223J6LBWPONMIKQGHAI3X5GNOQ</td>\n",
              "      <td>B086T371T7</td>\n",
              "      <td>5.0</td>\n",
              "    </tr>\n",
              "    <tr>\n",
              "      <th>21246527</th>\n",
              "      <td>AE223J6LBWPONMIKQGHAI3X5GNOQ</td>\n",
              "      <td>B00CJH944U</td>\n",
              "      <td>5.0</td>\n",
              "    </tr>\n",
              "    <tr>\n",
              "      <th>21246570</th>\n",
              "      <td>AE223J6LBWPONMIKQGHAI3X5GNOQ</td>\n",
              "      <td>B01FHP71KE</td>\n",
              "      <td>4.0</td>\n",
              "    </tr>\n",
              "    <tr>\n",
              "      <th>21246530</th>\n",
              "      <td>AE223J6LBWPONMIKQGHAI3X5GNOQ</td>\n",
              "      <td>B08XMCMCXT</td>\n",
              "      <td>5.0</td>\n",
              "    </tr>\n",
              "    <tr>\n",
              "      <th>13520485</th>\n",
              "      <td>AE224HM2QAW5TTSDL2QRDERA6KMA</td>\n",
              "      <td>1594201293</td>\n",
              "      <td>4.0</td>\n",
              "    </tr>\n",
              "    <tr>\n",
              "      <th>13520479</th>\n",
              "      <td>AE224HM2QAW5TTSDL2QRDERA6KMA</td>\n",
              "      <td>B00BAXFACO</td>\n",
              "      <td>3.0</td>\n",
              "    </tr>\n",
              "    <tr>\n",
              "      <th>9861977</th>\n",
              "      <td>AE224PFXAEAT66IXX43GRJSWHXCA</td>\n",
              "      <td>B009E6U56K</td>\n",
              "      <td>1.0</td>\n",
              "    </tr>\n",
              "  </tbody>\n",
              "</table>\n",
              "</div>\n",
              "    <div class=\"colab-df-buttons\">\n",
              "\n",
              "  <div class=\"colab-df-container\">\n",
              "    <button class=\"colab-df-convert\" onclick=\"convertToInteractive('df-c4d2ab20-07d8-4a02-8af3-3a14400839e4')\"\n",
              "            title=\"Convert this dataframe to an interactive table.\"\n",
              "            style=\"display:none;\">\n",
              "\n",
              "  <svg xmlns=\"http://www.w3.org/2000/svg\" height=\"24px\" viewBox=\"0 -960 960 960\">\n",
              "    <path d=\"M120-120v-720h720v720H120Zm60-500h600v-160H180v160Zm220 220h160v-160H400v160Zm0 220h160v-160H400v160ZM180-400h160v-160H180v160Zm440 0h160v-160H620v160ZM180-180h160v-160H180v160Zm440 0h160v-160H620v160Z\"/>\n",
              "  </svg>\n",
              "    </button>\n",
              "\n",
              "  <style>\n",
              "    .colab-df-container {\n",
              "      display:flex;\n",
              "      gap: 12px;\n",
              "    }\n",
              "\n",
              "    .colab-df-convert {\n",
              "      background-color: #E8F0FE;\n",
              "      border: none;\n",
              "      border-radius: 50%;\n",
              "      cursor: pointer;\n",
              "      display: none;\n",
              "      fill: #1967D2;\n",
              "      height: 32px;\n",
              "      padding: 0 0 0 0;\n",
              "      width: 32px;\n",
              "    }\n",
              "\n",
              "    .colab-df-convert:hover {\n",
              "      background-color: #E2EBFA;\n",
              "      box-shadow: 0px 1px 2px rgba(60, 64, 67, 0.3), 0px 1px 3px 1px rgba(60, 64, 67, 0.15);\n",
              "      fill: #174EA6;\n",
              "    }\n",
              "\n",
              "    .colab-df-buttons div {\n",
              "      margin-bottom: 4px;\n",
              "    }\n",
              "\n",
              "    [theme=dark] .colab-df-convert {\n",
              "      background-color: #3B4455;\n",
              "      fill: #D2E3FC;\n",
              "    }\n",
              "\n",
              "    [theme=dark] .colab-df-convert:hover {\n",
              "      background-color: #434B5C;\n",
              "      box-shadow: 0px 1px 3px 1px rgba(0, 0, 0, 0.15);\n",
              "      filter: drop-shadow(0px 1px 2px rgba(0, 0, 0, 0.3));\n",
              "      fill: #FFFFFF;\n",
              "    }\n",
              "  </style>\n",
              "\n",
              "    <script>\n",
              "      const buttonEl =\n",
              "        document.querySelector('#df-c4d2ab20-07d8-4a02-8af3-3a14400839e4 button.colab-df-convert');\n",
              "      buttonEl.style.display =\n",
              "        google.colab.kernel.accessAllowed ? 'block' : 'none';\n",
              "\n",
              "      async function convertToInteractive(key) {\n",
              "        const element = document.querySelector('#df-c4d2ab20-07d8-4a02-8af3-3a14400839e4');\n",
              "        const dataTable =\n",
              "          await google.colab.kernel.invokeFunction('convertToInteractive',\n",
              "                                                    [key], {});\n",
              "        if (!dataTable) return;\n",
              "\n",
              "        const docLinkHtml = 'Like what you see? Visit the ' +\n",
              "          '<a target=\"_blank\" href=https://colab.research.google.com/notebooks/data_table.ipynb>data table notebook</a>'\n",
              "          + ' to learn more about interactive tables.';\n",
              "        element.innerHTML = '';\n",
              "        dataTable['output_type'] = 'display_data';\n",
              "        await google.colab.output.renderOutput(dataTable, element);\n",
              "        const docLink = document.createElement('div');\n",
              "        docLink.innerHTML = docLinkHtml;\n",
              "        element.appendChild(docLink);\n",
              "      }\n",
              "    </script>\n",
              "  </div>\n",
              "\n",
              "\n",
              "<div id=\"df-07db5475-90a9-4aab-b0c4-56cdd0d0b328\">\n",
              "  <button class=\"colab-df-quickchart\" onclick=\"quickchart('df-07db5475-90a9-4aab-b0c4-56cdd0d0b328')\"\n",
              "            title=\"Suggest charts\"\n",
              "            style=\"display:none;\">\n",
              "\n",
              "<svg xmlns=\"http://www.w3.org/2000/svg\" height=\"24px\"viewBox=\"0 0 24 24\"\n",
              "     width=\"24px\">\n",
              "    <g>\n",
              "        <path d=\"M19 3H5c-1.1 0-2 .9-2 2v14c0 1.1.9 2 2 2h14c1.1 0 2-.9 2-2V5c0-1.1-.9-2-2-2zM9 17H7v-7h2v7zm4 0h-2V7h2v10zm4 0h-2v-4h2v4z\"/>\n",
              "    </g>\n",
              "</svg>\n",
              "  </button>\n",
              "\n",
              "<style>\n",
              "  .colab-df-quickchart {\n",
              "      --bg-color: #E8F0FE;\n",
              "      --fill-color: #1967D2;\n",
              "      --hover-bg-color: #E2EBFA;\n",
              "      --hover-fill-color: #174EA6;\n",
              "      --disabled-fill-color: #AAA;\n",
              "      --disabled-bg-color: #DDD;\n",
              "  }\n",
              "\n",
              "  [theme=dark] .colab-df-quickchart {\n",
              "      --bg-color: #3B4455;\n",
              "      --fill-color: #D2E3FC;\n",
              "      --hover-bg-color: #434B5C;\n",
              "      --hover-fill-color: #FFFFFF;\n",
              "      --disabled-bg-color: #3B4455;\n",
              "      --disabled-fill-color: #666;\n",
              "  }\n",
              "\n",
              "  .colab-df-quickchart {\n",
              "    background-color: var(--bg-color);\n",
              "    border: none;\n",
              "    border-radius: 50%;\n",
              "    cursor: pointer;\n",
              "    display: none;\n",
              "    fill: var(--fill-color);\n",
              "    height: 32px;\n",
              "    padding: 0;\n",
              "    width: 32px;\n",
              "  }\n",
              "\n",
              "  .colab-df-quickchart:hover {\n",
              "    background-color: var(--hover-bg-color);\n",
              "    box-shadow: 0 1px 2px rgba(60, 64, 67, 0.3), 0 1px 3px 1px rgba(60, 64, 67, 0.15);\n",
              "    fill: var(--button-hover-fill-color);\n",
              "  }\n",
              "\n",
              "  .colab-df-quickchart-complete:disabled,\n",
              "  .colab-df-quickchart-complete:disabled:hover {\n",
              "    background-color: var(--disabled-bg-color);\n",
              "    fill: var(--disabled-fill-color);\n",
              "    box-shadow: none;\n",
              "  }\n",
              "\n",
              "  .colab-df-spinner {\n",
              "    border: 2px solid var(--fill-color);\n",
              "    border-color: transparent;\n",
              "    border-bottom-color: var(--fill-color);\n",
              "    animation:\n",
              "      spin 1s steps(1) infinite;\n",
              "  }\n",
              "\n",
              "  @keyframes spin {\n",
              "    0% {\n",
              "      border-color: transparent;\n",
              "      border-bottom-color: var(--fill-color);\n",
              "      border-left-color: var(--fill-color);\n",
              "    }\n",
              "    20% {\n",
              "      border-color: transparent;\n",
              "      border-left-color: var(--fill-color);\n",
              "      border-top-color: var(--fill-color);\n",
              "    }\n",
              "    30% {\n",
              "      border-color: transparent;\n",
              "      border-left-color: var(--fill-color);\n",
              "      border-top-color: var(--fill-color);\n",
              "      border-right-color: var(--fill-color);\n",
              "    }\n",
              "    40% {\n",
              "      border-color: transparent;\n",
              "      border-right-color: var(--fill-color);\n",
              "      border-top-color: var(--fill-color);\n",
              "    }\n",
              "    60% {\n",
              "      border-color: transparent;\n",
              "      border-right-color: var(--fill-color);\n",
              "    }\n",
              "    80% {\n",
              "      border-color: transparent;\n",
              "      border-right-color: var(--fill-color);\n",
              "      border-bottom-color: var(--fill-color);\n",
              "    }\n",
              "    90% {\n",
              "      border-color: transparent;\n",
              "      border-bottom-color: var(--fill-color);\n",
              "    }\n",
              "  }\n",
              "</style>\n",
              "\n",
              "  <script>\n",
              "    async function quickchart(key) {\n",
              "      const quickchartButtonEl =\n",
              "        document.querySelector('#' + key + ' button');\n",
              "      quickchartButtonEl.disabled = true;  // To prevent multiple clicks.\n",
              "      quickchartButtonEl.classList.add('colab-df-spinner');\n",
              "      try {\n",
              "        const charts = await google.colab.kernel.invokeFunction(\n",
              "            'suggestCharts', [key], {});\n",
              "      } catch (error) {\n",
              "        console.error('Error during call to suggestCharts:', error);\n",
              "      }\n",
              "      quickchartButtonEl.classList.remove('colab-df-spinner');\n",
              "      quickchartButtonEl.classList.add('colab-df-quickchart-complete');\n",
              "    }\n",
              "    (() => {\n",
              "      let quickchartButtonEl =\n",
              "        document.querySelector('#df-07db5475-90a9-4aab-b0c4-56cdd0d0b328 button');\n",
              "      quickchartButtonEl.style.display =\n",
              "        google.colab.kernel.accessAllowed ? 'block' : 'none';\n",
              "    })();\n",
              "  </script>\n",
              "</div>\n",
              "\n",
              "    </div>\n",
              "  </div>\n"
            ],
            "application/vnd.google.colaboratory.intrinsic+json": {
              "type": "dataframe",
              "variable_name": "test_data"
            }
          },
          "metadata": {},
          "execution_count": 17
        }
      ]
    },
    {
      "cell_type": "code",
      "source": [
        "test_data.to_csv(\"test_data\",index=False)"
      ],
      "metadata": {
        "id": "zQLcjvHCzFOj"
      },
      "execution_count": null,
      "outputs": []
    },
    {
      "cell_type": "markdown",
      "source": [
        "# 테스트 데이터에 있는 user/item만 train에서 골라오기"
      ],
      "metadata": {
        "id": "__M0AK7SR3x_"
      }
    },
    {
      "cell_type": "code",
      "source": [
        "train_df = pd.read_parquet(\"/content/drive/MyDrive/dataset/train.parquet\", columns=['user_id', 'parent_asin', 'rating'])"
      ],
      "metadata": {
        "id": "lbwFoGvCQ21r"
      },
      "execution_count": null,
      "outputs": []
    },
    {
      "cell_type": "code",
      "source": [
        "train_df.shape"
      ],
      "metadata": {
        "colab": {
          "base_uri": "https://localhost:8080/"
        },
        "id": "6qL5ZtoIpRx6",
        "outputId": "8d0dc8c3-a7b6-4c04-e759-a4d74403f5e5"
      },
      "execution_count": null,
      "outputs": [
        {
          "output_type": "execute_result",
          "data": {
            "text/plain": [
              "(24281918, 3)"
            ]
          },
          "metadata": {},
          "execution_count": 11
        }
      ]
    },
    {
      "cell_type": "code",
      "source": [
        "train_user = set(train_df['user_id'].unique())\n",
        "train_item = set(train_df['parent_asin'].unique())\n",
        "\n",
        "test_user = set(test_data['user_id'].unique())\n",
        "test_item = set(test_data['parent_asin'].unique())\n",
        "\n",
        "intersect_user = train_user.intersection(test_user)\n",
        "intersect_item = train_item.intersection(test_item)\n",
        "\n",
        "train_data = train_df[train_df['user_id'].isin(intersect_user) & train_df['parent_asin'].isin(intersect_item)]\n",
        "train_data.shape"
      ],
      "metadata": {
        "colab": {
          "base_uri": "https://localhost:8080/"
        },
        "id": "B852nil0gmCW",
        "outputId": "9ab63e8a-392d-4f46-8d5a-ec6ba9ab97ea"
      },
      "execution_count": null,
      "outputs": [
        {
          "output_type": "execute_result",
          "data": {
            "text/plain": [
              "(159759, 3)"
            ]
          },
          "metadata": {},
          "execution_count": 9
        }
      ]
    },
    {
      "cell_type": "markdown",
      "source": [
        "# TOTAL"
      ],
      "metadata": {
        "id": "Z3k2DsdTq2Ny"
      }
    },
    {
      "cell_type": "code",
      "source": [
        "total = pd.concat([train_data, test_data], axis=0)\n",
        "total.shape"
      ],
      "metadata": {
        "colab": {
          "base_uri": "https://localhost:8080/"
        },
        "id": "z3YHAmX3q16b",
        "outputId": "c9c984e4-ec53-46e9-a035-0574998b0516"
      },
      "execution_count": null,
      "outputs": [
        {
          "output_type": "execute_result",
          "data": {
            "text/plain": [
              "(217809, 5)"
            ]
          },
          "metadata": {},
          "execution_count": 10
        }
      ]
    },
    {
      "cell_type": "markdown",
      "source": [
        "# 아이템 기반 Matrix -> 기본 / Mask 만들기"
      ],
      "metadata": {
        "id": "UOW7YgunLlSl"
      }
    },
    {
      "cell_type": "code",
      "source": [
        "n_u = total['user_id'].nunique()  # num of users\n",
        "n_m = total['parent_asin'].nunique()  # num of movies\n",
        "n_train = train_data.shape[0]  # num of training ratings\n",
        "n_test = test_data.shape[0]  # num of test ratings\n",
        "\n",
        "# 고유한 사용자와 아이템 ID 통합 (훈련 데이터와 테스트 데이터의 사용자와 아이템 모두 고려)\n",
        "all_users = total['user_id'].unique()\n",
        "all_items = total['parent_asin'].unique()\n",
        "\n",
        "# 사용자와 아이템에 대해 고유한 정수 인덱스 매핑\n",
        "user_map = {user: idx for idx, user in enumerate(all_users, start=1)}\n",
        "item_map = {item: idx for idx, item in enumerate(all_items, start=1)}\n",
        "\n",
        "# 훈련 데이터와 테스트 데이터 모두에서 정수로 매핑\n",
        "train_data.loc[:, 'user_id'] = train_data['user_id'].map(user_map)\n",
        "train_data.loc[:, 'parent_asin'] = train_data['parent_asin'].map(item_map)\n",
        "\n",
        "test_data.loc[:, 'user_id'] = test_data['user_id'].map(user_map)\n",
        "test_data.loc[:, 'parent_asin'] = test_data['parent_asin'].map(item_map)\n",
        "\n",
        "# 데이터프레임을 numpy 배열로 변환\n",
        "train_data = train_data.to_numpy().astype('int32')\n",
        "test_data = test_data.to_numpy().astype('int32')\n",
        "\n",
        "train_r = np.zeros((n_m, n_u), dtype='float32')\n",
        "test_r = np.zeros((n_m, n_u), dtype='float32')\n",
        "\n",
        "# 평점 할당\n",
        "for i in range(n_train):\n",
        "    train_r[train_data[i,1]-1, train_data[i,0]-1] = train_data[i,2]\n",
        "\n",
        "for i in range(n_test):\n",
        "    test_r[test_data[i,1]-1, test_data[i,0]-1] = test_data[i,2]\n",
        "\n",
        "train_m = np.greater(train_r, 1e-12).astype('float32')  # masks indicating non-zero entries\n",
        "test_m = np.greater(test_r, 1e-12).astype('float32')\n",
        "\n",
        "print('num of users: {}'.format(n_u))\n",
        "print('num of movies: {}'.format(n_m))"
      ],
      "metadata": {
        "colab": {
          "base_uri": "https://localhost:8080/"
        },
        "id": "HF4ch0yCrJwA",
        "outputId": "ff0c3d07-98d3-4cdc-c28e-c8ba45fa1c21"
      },
      "execution_count": null,
      "outputs": [
        {
          "output_type": "stream",
          "name": "stdout",
          "text": [
            "num of users: 6840\n",
            "num of movies: 11867\n"
          ]
        }
      ]
    },
    {
      "cell_type": "code",
      "source": [
        "train_r"
      ],
      "metadata": {
        "colab": {
          "base_uri": "https://localhost:8080/"
        },
        "id": "ObMDlCTrw4oI",
        "outputId": "840346a5-73f4-4f2e-babe-c999d08038f4"
      },
      "execution_count": null,
      "outputs": [
        {
          "output_type": "execute_result",
          "data": {
            "text/plain": [
              "array([[5., 0., 0., ..., 0., 0., 0.],\n",
              "       [5., 0., 0., ..., 0., 0., 0.],\n",
              "       [4., 0., 0., ..., 0., 0., 0.],\n",
              "       ...,\n",
              "       [0., 0., 0., ..., 0., 0., 0.],\n",
              "       [0., 0., 0., ..., 0., 0., 0.],\n",
              "       [0., 0., 0., ..., 0., 0., 0.]], dtype=float32)"
            ]
          },
          "metadata": {},
          "execution_count": 12
        }
      ]
    },
    {
      "cell_type": "code",
      "source": [
        "train_m"
      ],
      "metadata": {
        "colab": {
          "base_uri": "https://localhost:8080/"
        },
        "id": "MKwg62_exDA2",
        "outputId": "c09a0349-795e-4c76-dc14-6d7e3e2cde41"
      },
      "execution_count": null,
      "outputs": [
        {
          "output_type": "execute_result",
          "data": {
            "text/plain": [
              "array([[1., 0., 0., ..., 0., 0., 0.],\n",
              "       [1., 0., 0., ..., 0., 0., 0.],\n",
              "       [1., 0., 0., ..., 0., 0., 0.],\n",
              "       ...,\n",
              "       [0., 0., 0., ..., 0., 0., 0.],\n",
              "       [0., 0., 0., ..., 0., 0., 0.],\n",
              "       [0., 0., 0., ..., 0., 0., 0.]], dtype=float32)"
            ]
          },
          "metadata": {},
          "execution_count": 13
        }
      ]
    },
    {
      "cell_type": "markdown",
      "source": [],
      "metadata": {
        "id": "tc73L1WQzkep"
      }
    },
    {
      "cell_type": "markdown",
      "source": [
        "# 파라미터"
      ],
      "metadata": {
        "id": "8Z3qa_DYHF5N"
      }
    },
    {
      "cell_type": "code",
      "execution_count": null,
      "metadata": {
        "id": "ntnGs22-G8gQ"
      },
      "outputs": [],
      "source": [
        "# Common hyperparameter settings\n",
        "n_hid = 500 # size of hidden layers\n",
        "n_dim = 5 # inner AE embedding size\n",
        "n_layers = 2 # number of hidden layers\n",
        "gk_size = 3 # width=height of kernel for convolution\n",
        "\n",
        "# Hyperparameters to tune for specific case\n",
        "max_epoch_p = 30 # 30 # max number of epochs for pretraining # item 개수가 많을 수록(ML-1M, Douban) 적은 에폭수가 필요한 것\n",
        "max_epoch_f = 1000 # max number of epochs for finetuning\n",
        "patience_p = 5 # 50 # number of consecutive rounds of early stopping condition before actual stop for pretraining\n",
        "patience_f = 25 # 20 # and finetuning\n",
        "tol_p = 1e-5 # minimum threshold for the difference between consecutive values of train rmse, used for early stopping, for pretraining\n",
        "tol_f = 1e-5 # and finetuning\n",
        "lambda_2 = 20 # 20 regularisation of number or parameters -> 가중치(weight)에 대한 패널티\n",
        "lambda_s = 0.006 # 0.06 regularisation of sparsity of the final matrix -> 커널(kernel, 필터)에 대한 패널티\n",
        "dot_scale = 1 # 1 # dot product weight for global kernel -> 0.01 ~ 1 점진적으로 늘리자"
      ]
    },
    {
      "cell_type": "markdown",
      "source": [
        "# 모델 정의"
      ],
      "metadata": {
        "id": "q4fR4o6xHLzC"
      }
    },
    {
      "cell_type": "code",
      "source": [
        "# local kernel 구현 공식\n",
        "def local_kernel(u, v):\n",
        "    dist = torch.norm(u - v, p=2, dim=2)\n",
        "    hat = torch.clamp(1. - dist**2, min=0.)\n",
        "    return hat\n",
        "\n",
        "# 입력 데이터를 처리하고 다음 층(layer)으로 넘길 출력을 만드는 역할\n",
        "class KernelLayer(nn.Module):\n",
        "    def __init__(self, n_in, n_hid, n_dim, lambda_s, lambda_2, activation=nn.Sigmoid()):\n",
        "      super().__init__()\n",
        "      self.W = nn.Parameter(torch.randn(n_in, n_hid))  # 입력과 출력을 연결하는 가중치\n",
        "      self.u = nn.Parameter(torch.randn(n_in, 1, n_dim))  # 커널(kernels) 역할을 하는 가중치\n",
        "      self.v = nn.Parameter(torch.randn(1, n_hid, n_dim)) # 커널(kernels) 역할을 하는 가중치\n",
        "      self.b = nn.Parameter(torch.randn(n_hid)) # 편향(bias). 예측 값을 조정하기 위해 더해주는 값\n",
        "\n",
        "      self.lambda_s = lambda_s # 희소성(sparsity)**을 유지하기 위한 벌점 정도를 조절\n",
        "      self.lambda_2 = lambda_2 #  L2 정규화를 위한 패널티 정도를 조절\n",
        "\n",
        "      nn.init.xavier_uniform_(self.W, gain=torch.nn.init.calculate_gain(\"relu\")) # 가중치들은 Xavier 초기화를 사용해서 적절히 설정\n",
        "      nn.init.xavier_uniform_(self.u, gain=torch.nn.init.calculate_gain(\"relu\")) # 가중치들은 Xavier 초기화를 사용해서 적절히 설정\n",
        "      nn.init.xavier_uniform_(self.v, gain=torch.nn.init.calculate_gain(\"relu\")) # 가중치들은 Xavier 초기화를 사용해서 적절히 설정\n",
        "      nn.init.zeros_(self.b) # 편향 self.b는 0으로 초기화\n",
        "      self.activation = activation # 시그모이드(Sigmoid) 함수가 사용돼요. 이 함수는 값을 0과 1 사이로 조정\n",
        "\n",
        "    def forward(self, x):\n",
        "      w_hat = local_kernel(self.u, self.v) # self.u와 self.v를 통해 **로컬 커널 행렬 (w_hat)**을 만드는데, 이것이 가중치 self.W에 추가적인 정보로 사용돼요.\n",
        "\n",
        "      sparse_reg = torch.nn.functional.mse_loss(w_hat, torch.zeros_like(w_hat)) # w_hat의 값을 0과 비교해서 희소성을 유지하도록 벌점을 계산해요.\n",
        "      sparse_reg_term = self.lambda_s * sparse_reg # (λ_s를 곱해서 사용)\n",
        "\n",
        "      l2_reg = torch.nn.functional.mse_loss(self.W, torch.zeros_like(self.W)) # self.W의 크기를 0과 비교해서 너무 커지지 않도록 벌점을 계산해요.\n",
        "      l2_reg_term = self.lambda_2 * l2_reg # (λ_2를 곱해서 사용)\n",
        "\n",
        "      W_eff = self.W * w_hat  # Local kernelised weight matrix / 최종 가중치(W_eff)는 self.W와 w_hat을 곱해서 얻어요.\n",
        "      y = torch.matmul(x, W_eff) + self.b # 입력 데이터 x에 W_eff를 곱하고, 편향 b를 더해서 출력\n",
        "      y = self.activation(y)\n",
        "\n",
        "      return y, sparse_reg_term + l2_reg_term\n",
        "\n",
        "# KernelLayer를 쌓아서 만든 큰 네트워크\n",
        "class KernelNet(nn.Module):\n",
        "    def __init__(self, n_u, n_hid, n_dim, n_layers, lambda_s, lambda_2):\n",
        "      super().__init__()\n",
        "      layers = []\n",
        "      for i in range(n_layers):\n",
        "        if i == 0:\n",
        "          layers.append(KernelLayer(n_u, n_hid, n_dim, lambda_s, lambda_2)) # 첫 번째 층은 입력 차원(n_u)을 받지만,\n",
        "        else:\n",
        "          layers.append(KernelLayer(n_hid, n_hid, n_dim, lambda_s, lambda_2)) # 이후 층들은 같은 차원(n_hid)을 사용합니다.\n",
        "      layers.append(KernelLayer(n_hid, n_u, n_dim, lambda_s, lambda_2, activation=nn.Identity())) # 마지막 층은 입력을 다시 원래 차원(n_u)으로 출력 / 마지막 층의 활성화 함수는 **nn.Identity()**로 설정되는데, 이건 아무런 변화를 주지 않고 그대로 값을 반환하는 역할\n",
        "      self.layers = nn.ModuleList(layers)\n",
        "      self.dropout = nn.Dropout(0.5)\n",
        "\n",
        "    def forward(self, x):\n",
        "      total_reg = None\n",
        "      for i, layer in enumerate(self.layers):\n",
        "        x, reg = layer(x)\n",
        "        if i < len(self.layers)-1:\n",
        "          x = self.dropout(x)\n",
        "        if total_reg is None:\n",
        "          total_reg = reg\n",
        "        else:\n",
        "          total_reg += reg #  KernelLayer에서 반환된 벌점(reg)을 모두 더해서 총 벌점을 계산합니다.\n",
        "      return x, total_reg\n",
        "\n",
        "# 데이터를 받아서 **빈칸(사용자가 아직 평가하지 않은 영화나 아이템)**을 예측하는 모델\n",
        "class CompleteNet(nn.Module):\n",
        "    def __init__(self, kernel_net, n_u, n_m, n_hid, n_dim, n_layers, lambda_s, lambda_2, gk_size, dot_scale):\n",
        "      super().__init__()\n",
        "      self.gk_size = gk_size\n",
        "      self.dot_scale = dot_scale\n",
        "      self.local_kernel_net = kernel_net\n",
        "      self.global_kernel_net = KernelNet(n_u, n_hid, n_dim, n_layers, lambda_s, lambda_2)\n",
        "      self.conv_kernel = torch.nn.Parameter(torch.randn(n_m, gk_size**2) * 0.1) # 학습 가능한 파라미터 -> 나중에 gk를 만들 때, avg_pooling과 결합해 gk 만듦\n",
        "      nn.init.xavier_uniform_(self.conv_kernel, gain=torch.nn.init.calculate_gain(\"relu\"))\n",
        "\n",
        "\n",
        "    def forward(self, train_r):\n",
        "      x, _ = self.local_kernel_net(train_r) # 로컬 네트워크를 사용해 데이터를 분석해요. 이 부분에서는 각 사용자와 영화에 대해 구체적으로 공부해요.\n",
        "      gk = self.global_kernel(x, self.gk_size, self.dot_scale) # 로컬 네트워크에서 나온 데이터를 사용해 평균 값을 계산 / 이 평균 정보를 바탕으로 **글로벌 필터(gk)**를 만드는데, 이 필터는 데이터를 더 넓게 보도록 도와줘요.\n",
        "      x = self.global_conv(train_r, gk)\n",
        "      x, global_reg_loss = self.global_kernel_net(x)\n",
        "      return x, global_reg_loss\n",
        "\n",
        "    def global_kernel(self, input, gk_size, dot_scale):\n",
        "      # 각 아이템 평균 구하기\n",
        "      avg_pooling = torch.mean(input, dim=1)\n",
        "      avg_pooling = avg_pooling.view(1, -1)\n",
        "      # (각 아이템 평균 X conv kernel) X 값 스케일(dot scale)\n",
        "      gk = torch.matmul(avg_pooling, self.conv_kernel) * dot_scale\n",
        "      gk = gk.view(1, 1, gk_size, gk_size)\n",
        "\n",
        "      return gk\n",
        "\n",
        "    def global_conv(self, input, W):\n",
        "      input = input.unsqueeze(0).unsqueeze(0)\n",
        "      conv2d = nn.LeakyReLU()(F.conv2d(input, W, stride=1, padding=1))\n",
        "      return conv2d.squeeze(0).squeeze(0)\n",
        "\n",
        "# Loss\n",
        "class Loss(nn.Module):\n",
        "    def forward(self, pred_p, reg_loss, train_m, train_r):\n",
        "      # L2 loss\n",
        "      diff = train_m * (train_r - pred_p)  # 실제 점수와 모델이 예측한 점수의 차이(오차) 계산 -> 오차는 평점이 실제로 매겨진 부분에서만 계산(train_m 곱함)\n",
        "      sqE = torch.nn.functional.mse_loss(diff, torch.zeros_like(diff)) # mse = 차이를 제곱하고 평균 / torch.zeros_like(diff)는 \"정답과 완벽히 일치했을 때\"의 값\n",
        "      loss_p = sqE + reg_loss # 패널티 추가 (reg_loss)\n",
        "      return loss_p"
      ],
      "metadata": {
        "id": "Fz9l0UyNHFBb"
      },
      "execution_count": null,
      "outputs": []
    },
    {
      "cell_type": "code",
      "source": [
        "model = KernelNet(n_u, n_hid, n_dim, n_layers, lambda_s, lambda_2).double().to(device)\n",
        "complete_model = CompleteNet(model, n_u, n_m, n_hid, n_dim, n_layers, lambda_s, lambda_2, gk_size, dot_scale).double().to(device)"
      ],
      "metadata": {
        "id": "5Q5ifFKiJQK-"
      },
      "execution_count": null,
      "outputs": []
    },
    {
      "cell_type": "markdown",
      "source": [
        "# 평가지표"
      ],
      "metadata": {
        "id": "3EbmYqI3H8xw"
      }
    },
    {
      "cell_type": "code",
      "source": [
        "def dcg_k(score_label, k):\n",
        "    dcg, i = 0., 0\n",
        "    for s in score_label:\n",
        "        if i < k:\n",
        "            dcg += (2**s[1]-1) / np.log2(2+i)\n",
        "            i += 1\n",
        "    return dcg\n",
        "\n",
        "\n",
        "def ndcg_k(y_hat, y, k):\n",
        "    score_label = np.stack([y_hat, y], axis=1).tolist()\n",
        "    score_label = sorted(score_label, key=lambda d:d[0], reverse=True)\n",
        "    score_label_ = sorted(score_label, key=lambda d:d[1], reverse=True)\n",
        "    norm, i = 0., 0\n",
        "    for s in score_label_:\n",
        "        if i < k:\n",
        "            norm += (2**s[1]-1) / np.log2(2+i)\n",
        "            i += 1\n",
        "    dcg = dcg_k(score_label, k)\n",
        "    return dcg / norm\n",
        "\n",
        "\n",
        "def call_ndcg(y_hat, y):\n",
        "    ndcg_sum, num = 0, 0\n",
        "    y_hat, y = y_hat.T, y.T\n",
        "    n_users = y.shape[0]\n",
        "\n",
        "    for i in range(n_users):\n",
        "        y_hat_i = y_hat[i][np.where(y[i])]\n",
        "        y_i = y[i][np.where(y[i])]\n",
        "\n",
        "        if y_i.shape[0] < 2:\n",
        "            continue\n",
        "\n",
        "        ndcg_sum += ndcg_k(y_hat_i, y_i, y_i.shape[0])  # user-wise calculation\n",
        "        num += 1\n",
        "\n",
        "    return ndcg_sum / num"
      ],
      "metadata": {
        "id": "1YYcrf4JH8EM"
      },
      "execution_count": null,
      "outputs": []
    },
    {
      "cell_type": "markdown",
      "source": [
        "# Pre-training"
      ],
      "metadata": {
        "id": "_-9s5i2wIDW1"
      }
    },
    {
      "cell_type": "code",
      "source": [
        "best_rmse_ep, best_mae_ep, best_ndcg_ep = 0, 0, 0\n",
        "best_rmse, best_mae, best_ndcg = float(\"inf\"), float(\"inf\"), 0\n",
        "\n",
        "time_cumulative = 0\n",
        "tic = time()\n",
        "\n",
        "# Pre-Training\n",
        "optimizer = torch.optim.AdamW(complete_model.local_kernel_net.parameters(), lr=0.001)\n",
        "\n",
        "def closure():  # 모델을 한 번 업데이트하는 데 필요한 손실(loss)을 계산하는 역할\n",
        "    optimizer.zero_grad()  # 이전 계산된 **기울기(gradient)**를 초기화\n",
        "    x = torch.Tensor(train_r).double().to(device)\n",
        "    m = torch.Tensor(train_m).double().to(device)\n",
        "    complete_model.local_kernel_net.train()  # 모델의 local_kernel_net(로컬 커널 네트워크)을 학습 모드로 설정\n",
        "    pred, reg = complete_model.local_kernel_net(x)  # 입력 데이터 x를 넣어 예측 값(pred)과 정규화 손실(reg)을 얻음\n",
        "    loss = Loss().to(device)(pred, reg, m, x)  # 모델의 예측값 pred과 실제 값 x의 차이 / 마스크 m을 사용해 빈칸을 제외하고 계산\n",
        "    loss.backward()\n",
        "    return loss\n",
        "\n",
        "last_rmse = np.inf\n",
        "counter = 0\n",
        "\n",
        "for i in tqdm(range(max_epoch_p)):\n",
        "    optimizer.step(closure)  # 옵티마이저가 closure를 호출해 손실을 계산하고 기울기를 업데이트\n",
        "    complete_model.local_kernel_net.eval()  # 평가 모드로 전환\n",
        "    t = time() - tic\n",
        "    time_cumulative += t\n",
        "\n",
        "    pre, _ = complete_model.local_kernel_net(torch.Tensor(train_r).double().to(device))  # 모델이 현재 학습된 상태로 예측을 수행\n",
        "    pre = pre.float().cpu().detach().numpy()  # pre를 GPU에서 CPU로 가져오고, NumPy 배열로 변환\n",
        "\n",
        "    # RMSE 계산\n",
        "    error = (test_m * (np.clip(pre, 1., 5.) - test_r) ** 2).sum() / test_m.sum()  # test error\n",
        "    test_rmse = np.sqrt(error)\n",
        "\n",
        "    error_train = (train_m * (np.clip(pre, 1., 5.) - train_r) ** 2).sum() / train_m.sum()  # train error\n",
        "    train_rmse = np.sqrt(error_train)\n",
        "\n",
        "    # Precision@10, Recall@10 및 MAP 계산\n",
        "    top_k = 10\n",
        "    precision_at_10, recall_at_10, avg_precision = 0, 0, 0\n",
        "    num_users = pre.shape[1]\n",
        "\n",
        "    for user_idx in range(num_users):\n",
        "        # 해당 사용자의 예측을 추출\n",
        "        user_predictions = pre[:, user_idx]\n",
        "        user_test_ratings = test_r[:, user_idx]\n",
        "        user_test_mask = test_m[:, user_idx]\n",
        "\n",
        "        # 테스트에서 사용자의 상위 10개 예측을 선택\n",
        "        top_10_indices = np.argsort(user_predictions)[::-1][:top_k]\n",
        "        top_10_relevant = user_test_ratings[top_10_indices] >= 3\n",
        "        top_10_mask = user_test_mask[top_10_indices]\n",
        "\n",
        "        # precision@10 계산\n",
        "        num_relevant_in_top_10 = (top_10_relevant * top_10_mask).sum()\n",
        "        precision_at_10 += (num_relevant_in_top_10 / top_k) if top_k > 0 else 0\n",
        "\n",
        "        # recall@10 계산\n",
        "        num_relevant_in_total = (user_test_ratings >= 3).sum()\n",
        "        recall_at_10 += (num_relevant_in_top_10 / num_relevant_in_total) if num_relevant_in_total > 0 else 0\n",
        "\n",
        "        # Average Precision 계산 (AP)\n",
        "        sorted_indices = np.argsort(user_predictions)[::-1]\n",
        "        relevant_items = (user_test_ratings[sorted_indices] >= 3) * user_test_mask[sorted_indices]\n",
        "        cumulated_precision = 0\n",
        "        num_relevant_items = 0\n",
        "\n",
        "        for rank, is_relevant in enumerate(relevant_items, start=1):\n",
        "            if is_relevant:\n",
        "                num_relevant_items += 1\n",
        "                cumulated_precision += num_relevant_items / rank\n",
        "\n",
        "        avg_precision += cumulated_precision / num_relevant_in_total if num_relevant_in_total > 0 else 0\n",
        "\n",
        "    # 사용자 수로 precision@10, recall@10, MAP 평균\n",
        "    precision_at_10 /= num_users\n",
        "    recall_at_10 /= num_users\n",
        "    mean_avg_precision = avg_precision / num_users\n",
        "\n",
        "    if last_rmse - train_rmse < tol_p:  # 이전 RMSE(last_rmse)와 현재 RMSE(train_rmse)의 차이가 **tol_p**보다 작다면,\n",
        "        counter += 1                    # → 학습이 충분히 이루어졌다고 판단하여 **카운터(counter)**를 증가시킵니다.\n",
        "    else:\n",
        "        counter = 0\n",
        "\n",
        "    last_rmse = train_rmse\n",
        "\n",
        "    if patience_p == counter:\n",
        "        print('.-^-._' * 12)\n",
        "        print('PRE-TRAINING')\n",
        "        print('Epoch:', i+1, 'test rmse:', test_rmse, 'train rmse:', train_rmse)\n",
        "        print('Precision@10:', precision_at_10, 'Recall@10:', recall_at_10, 'MAP:', mean_avg_precision)\n",
        "        print('Time:', t, 'seconds')\n",
        "        print('Time cumulative:', time_cumulative, 'seconds')\n",
        "        print('.-^-._' * 12)\n",
        "        break\n",
        "\n",
        "    if i % 10 != 0:\n",
        "        continue\n",
        "\n",
        "    print('.-^-._' * 12)\n",
        "    print('PRE-TRAINING')\n",
        "    print('Epoch:', i, 'test rmse:', test_rmse, 'train rmse:', train_rmse)\n",
        "    print('Precision@10:', precision_at_10, 'Recall@10:', recall_at_10, 'MAP:', mean_avg_precision)\n",
        "    print('Time:', t, 'seconds')\n",
        "    print('Time cumulative:', time_cumulative, 'seconds')\n",
        "    print('.-^-._' * 12)\n"
      ],
      "metadata": {
        "colab": {
          "base_uri": "https://localhost:8080/"
        },
        "id": "5959ozJt3TH8",
        "outputId": "435f8aa4-2da6-48d9-e4b0-d59c3f913750"
      },
      "execution_count": null,
      "outputs": [
        {
          "output_type": "stream",
          "name": "stderr",
          "text": [
            "  7%|▋         | 2/30 [00:01<00:21,  1.29it/s]"
          ]
        },
        {
          "output_type": "stream",
          "name": "stdout",
          "text": [
            ".-^-._.-^-._.-^-._.-^-._.-^-._.-^-._.-^-._.-^-._.-^-._.-^-._.-^-._.-^-._\n",
            "PRE-TRAINING\n",
            "Epoch: 0 test rmse: 3.2946153 train rmse: 3.2946153\n",
            "Precision@10: 0.013265306122448962 Recall@10: 0.04858542345787243 MAP: 0.030106409401248764\n",
            "Time: 4.906737565994263 seconds\n",
            "Time cumulative: 4.906737565994263 seconds\n",
            ".-^-._.-^-._.-^-._.-^-._.-^-._.-^-._.-^-._.-^-._.-^-._.-^-._.-^-._.-^-._\n"
          ]
        },
        {
          "output_type": "stream",
          "name": "stderr",
          "text": [
            " 40%|████      | 12/30 [00:04<00:03,  5.50it/s]"
          ]
        },
        {
          "output_type": "stream",
          "name": "stdout",
          "text": [
            ".-^-._.-^-._.-^-._.-^-._.-^-._.-^-._.-^-._.-^-._.-^-._.-^-._.-^-._.-^-._\n",
            "PRE-TRAINING\n",
            "Epoch: 10 test rmse: 1.7690713 train rmse: 1.7690713\n",
            "Precision@10: 0.0370748299319728 Recall@10: 0.11779793807855038 MAP: 0.07571724134225505\n",
            "Time: 7.1967291831970215 seconds\n",
            "Time cumulative: 66.67750477790833 seconds\n",
            ".-^-._.-^-._.-^-._.-^-._.-^-._.-^-._.-^-._.-^-._.-^-._.-^-._.-^-._.-^-._\n"
          ]
        },
        {
          "output_type": "stream",
          "name": "stderr",
          "text": [
            " 70%|███████   | 21/30 [00:06<00:02,  4.15it/s]"
          ]
        },
        {
          "output_type": "stream",
          "name": "stdout",
          "text": [
            ".-^-._.-^-._.-^-._.-^-._.-^-._.-^-._.-^-._.-^-._.-^-._.-^-._.-^-._.-^-._\n",
            "PRE-TRAINING\n",
            "Epoch: 20 test rmse: 0.99646 train rmse: 0.99646\n",
            "Precision@10: 0.04761904761904772 Recall@10: 0.15758361064483523 MAP: 0.10158075194328961\n",
            "Time: 9.317988395690918 seconds\n",
            "Time cumulative: 149.42744612693787 seconds\n",
            ".-^-._.-^-._.-^-._.-^-._.-^-._.-^-._.-^-._.-^-._.-^-._.-^-._.-^-._.-^-._\n"
          ]
        },
        {
          "output_type": "stream",
          "name": "stderr",
          "text": [
            "100%|██████████| 30/30 [00:08<00:00,  3.57it/s]\n"
          ]
        }
      ]
    },
    {
      "cell_type": "markdown",
      "source": [
        "# Fine-tuning"
      ],
      "metadata": {
        "id": "sZBehVdyIJWJ"
      }
    },
    {
      "cell_type": "code",
      "source": [
        "# Fine-Tuning\n",
        "optimizer = torch.optim.AdamW(complete_model.parameters(), lr=0.001)\n",
        "\n",
        "def closure():\n",
        "  optimizer.zero_grad()\n",
        "  x = torch.Tensor(train_r).double().to(device)\n",
        "  m = torch.Tensor(train_m).double().to(device)\n",
        "  complete_model.train()\n",
        "  pred, reg = complete_model(x)\n",
        "  loss = Loss().to(device)(pred, reg, m, x)\n",
        "  loss.backward()\n",
        "  return loss\n",
        "\n",
        "last_rmse = np.inf\n",
        "counter = 0\n",
        "\n",
        "# 결과 저장용 리스트\n",
        "train_rmse_list = []\n",
        "test_rmse_list = []\n",
        "train_mae_list = []\n",
        "test_mae_list = []\n",
        "train_ndcg_list = []\n",
        "test_ndcg_list = []\n",
        "train_precision_list = []\n",
        "test_precision_list = []\n",
        "train_recall_list = []\n",
        "test_recall_list = []\n",
        "train_map_list = []\n",
        "test_map_list = []\n",
        "\n",
        "for i in tqdm(range(max_epoch_f)):\n",
        "    optimizer.step(closure)\n",
        "    complete_model.eval()\n",
        "    t = time() - tic\n",
        "    time_cumulative += t\n",
        "\n",
        "    # 모델의 예측 값 계산\n",
        "    pre, _ = complete_model(torch.Tensor(train_r).double().to(device))\n",
        "    pre = pre.float().cpu().detach().numpy()\n",
        "\n",
        "    # RMSE 및 MAE 계산\n",
        "    error = (test_m * (np.clip(pre, 1., 5.) - test_r) ** 2).sum() / test_m.sum()  # test error\n",
        "    test_rmse = np.sqrt(error)\n",
        "    error_train = (train_m * (np.clip(pre, 1., 5.) - train_r) ** 2).sum() / train_m.sum()  # train error\n",
        "    train_rmse = np.sqrt(error_train)\n",
        "\n",
        "    test_mae = (test_m * np.abs(np.clip(pre, 1., 5.) - test_r)).sum() / test_m.sum()\n",
        "    train_mae = (train_m * np.abs(np.clip(pre, 1., 5.) - train_r)).sum() / train_m.sum()\n",
        "\n",
        "    # nDCG 계산\n",
        "    test_ndcg = call_ndcg(np.clip(pre, 1., 5.), test_r)\n",
        "    train_ndcg = call_ndcg(np.clip(pre, 1., 5.), train_r)\n",
        "\n",
        "    # Precision@10, Recall@10 및 MAP 계산\n",
        "    top_k = 10\n",
        "\n",
        "    # 테스트 데이터에 대한 Precision@10, Recall@10, MAP 계산\n",
        "    precision_at_10, recall_at_10, avg_precision = 0, 0, 0\n",
        "    train_precision_at_10, train_recall_at_10, train_avg_precision = 0, 0, 0\n",
        "    num_users = pre.shape[1]\n",
        "\n",
        "    for user_idx in range(num_users):\n",
        "        # 해당 사용자의 예측을 추출\n",
        "        user_predictions = pre[:, user_idx]\n",
        "        user_test_ratings = test_r[:, user_idx]\n",
        "        user_test_mask = test_m[:, user_idx]\n",
        "\n",
        "        # 테스트에서 사용자의 상위 10개 예측을 선택\n",
        "        top_10_indices = np.argsort(user_predictions)[::-1][:top_k]\n",
        "        top_10_relevant = user_test_ratings[top_10_indices] >= 3\n",
        "        top_10_mask = user_test_mask[top_10_indices]\n",
        "\n",
        "        # precision@10 계산\n",
        "        num_relevant_in_top_10 = (top_10_relevant * top_10_mask).sum()\n",
        "        precision_at_10 += (num_relevant_in_top_10 / top_k) if top_k > 0 else 0\n",
        "\n",
        "        # recall@10 계산\n",
        "        num_relevant_in_total = (user_test_ratings >= 3).sum()\n",
        "        recall_at_10 += (num_relevant_in_top_10 / num_relevant_in_total) if num_relevant_in_total > 0 else 0\n",
        "\n",
        "        # Average Precision 계산 (AP)\n",
        "        sorted_indices = np.argsort(user_predictions)[::-1]\n",
        "        relevant_items = (user_test_ratings[sorted_indices] >= 3) * user_test_mask[sorted_indices]\n",
        "        cumulated_precision = 0\n",
        "        num_relevant_items = 0\n",
        "\n",
        "        for rank, is_relevant in enumerate(relevant_items, start=1):\n",
        "            if is_relevant:\n",
        "                num_relevant_items += 1\n",
        "                cumulated_precision += num_relevant_items / rank\n",
        "\n",
        "        avg_precision += cumulated_precision / num_relevant_in_total if num_relevant_in_total > 0 else 0\n",
        "\n",
        "        # 학습 데이터에 대한 Precision@10, Recall@10 및 MAP 계산\n",
        "        train_user_ratings = train_r[:, user_idx]\n",
        "        train_user_mask = train_m[:, user_idx]\n",
        "        train_top_10_relevant = train_user_ratings[top_10_indices] >= 3\n",
        "        train_top_10_mask = train_user_mask[top_10_indices]\n",
        "\n",
        "        # Training precision@10\n",
        "        train_num_relevant_in_top_10 = (train_top_10_relevant * train_top_10_mask).sum()\n",
        "        train_precision_at_10 += (train_num_relevant_in_top_10 / top_k) if top_k > 0 else 0\n",
        "\n",
        "        # Training recall@10\n",
        "        train_num_relevant_in_total = (train_user_ratings >= 3).sum()\n",
        "        train_recall_at_10 += (train_num_relevant_in_top_10 / train_num_relevant_in_total) if train_num_relevant_in_total > 0 else 0\n",
        "\n",
        "        # Training Average Precision 계산 (AP)\n",
        "        train_relevant_items = (train_user_ratings[sorted_indices] >= 3) * train_user_mask[sorted_indices]\n",
        "        train_cumulated_precision = 0\n",
        "        train_num_relevant_items = 0\n",
        "\n",
        "        for rank, is_relevant in enumerate(train_relevant_items, start=1):\n",
        "            if is_relevant:\n",
        "                train_num_relevant_items += 1\n",
        "                train_cumulated_precision += train_num_relevant_items / rank\n",
        "\n",
        "        train_avg_precision += train_cumulated_precision / train_num_relevant_in_total if train_num_relevant_in_total > 0 else 0\n",
        "\n",
        "    # 사용자 수로 precision@10, recall@10, MAP 평균\n",
        "    precision_at_10 /= num_users\n",
        "    recall_at_10 /= num_users\n",
        "    mean_avg_precision = avg_precision / num_users\n",
        "    train_precision_at_10 /= num_users\n",
        "    train_recall_at_10 /= num_users\n",
        "    train_mean_avg_precision = train_avg_precision / num_users\n",
        "\n",
        "    # 결과 저장\n",
        "    train_rmse_list.append(train_rmse)\n",
        "    test_rmse_list.append(test_rmse)\n",
        "    train_mae_list.append(train_mae)\n",
        "    test_mae_list.append(test_mae)\n",
        "    train_ndcg_list.append(train_ndcg)\n",
        "    test_ndcg_list.append(test_ndcg)\n",
        "    train_precision_list.append(train_precision_at_10)\n",
        "    test_precision_list.append(precision_at_10)\n",
        "    train_recall_list.append(train_recall_at_10)\n",
        "    test_recall_list.append(recall_at_10)\n",
        "    train_map_list.append(train_mean_avg_precision)\n",
        "    test_map_list.append(mean_avg_precision)\n",
        "\n",
        "    if test_rmse < best_rmse:\n",
        "        best_rmse = test_rmse\n",
        "        best_rmse_ep = i + 1\n",
        "\n",
        "    if test_mae < best_mae:\n",
        "        best_mae = test_mae\n",
        "        best_mae_ep = i + 1\n",
        "\n",
        "    if best_ndcg < test_ndcg:\n",
        "        best_ndcg = test_ndcg\n",
        "        best_ndcg_ep = i + 1\n",
        "\n",
        "    if last_rmse - train_rmse < tol_f:\n",
        "        counter += 1\n",
        "    else:\n",
        "        counter = 0\n",
        "\n",
        "    last_rmse = train_rmse\n",
        "\n",
        "    if patience_f == counter:\n",
        "        print('.-^-._' * 12)\n",
        "        print('FINE-TUNING')\n",
        "        print('Epoch:', i + 1, 'test rmse:', test_rmse, 'test mae:', test_mae, 'test ndcg:', test_ndcg)\n",
        "        print('Epoch:', i + 1, 'train rmse:', train_rmse, 'train mae:', train_mae, 'train ndcg:', train_ndcg)\n",
        "        print('Precision@10:', precision_at_10, 'Recall@10:', recall_at_10, 'MAP:', mean_avg_precision)\n",
        "        print('Train Precision@10:', train_precision_at_10, 'Train Recall@10:', train_recall_at_10, 'Train MAP:', train_mean_avg_precision)\n",
        "        print('Time:', t, 'seconds')\n",
        "        print('Time cumulative:', time_cumulative, 'seconds')\n",
        "        print('.-^-._' * 12)\n",
        "        break\n",
        "\n",
        "    if i % 10 != 0:\n",
        "        continue\n",
        "\n",
        "    print('.-^-._' * 12)\n",
        "    print('FINE-TUNING')\n",
        "    print('Epoch:', i, 'test rmse:', test_rmse, 'test mae:', test_mae, 'test ndcg:', test_ndcg)\n",
        "    print('Epoch:', i, 'train rmse:', train_rmse, 'train mae:', train_mae, 'train ndcg:', train_ndcg)\n",
        "    print('Precision@10:', precision_at_10, 'Recall@10:', recall_at_10, 'MAP:', mean_avg_precision)\n",
        "    print('Train Precision@10:', train_precision_at_10, 'Train Recall@10:', train_recall_at_10, 'Train MAP:', train_mean_avg_precision)\n",
        "    print('Time:', t, 'seconds')\n",
        "    print('Time cumulative:', time_cumulative, 'seconds')\n",
        "    print('.-^-._' * 12)\n"
      ],
      "metadata": {
        "colab": {
          "base_uri": "https://localhost:8080/"
        },
        "id": "9vofX2-14AVy",
        "outputId": "9602488d-597f-45db-aa2c-368af2466feb"
      },
      "execution_count": null,
      "outputs": [
        {
          "output_type": "stream",
          "name": "stderr",
          "text": [
            "  0%|          | 1/1000 [00:00<13:34,  1.23it/s]"
          ]
        },
        {
          "output_type": "stream",
          "name": "stdout",
          "text": [
            ".-^-._.-^-._.-^-._.-^-._.-^-._.-^-._.-^-._.-^-._.-^-._.-^-._.-^-._.-^-._\n",
            "FINE-TUNING\n",
            "Epoch: 0 test rmse: 3.3089397 test mae: 3.1720986 test ndcg: 0.9265523941370213\n",
            "Epoch: 0 train rmse: 3.3089397 train mae: 3.1720986 train ndcg: 0.9265523941370213\n",
            "Precision@10: 0.007993197278911563 Recall@10: 0.02931410992635482 MAP: 0.02128533157138316\n",
            "Train Precision@10: 0.007993197278911563 Train Recall@10: 0.02931410992635482 Train MAP: 0.02128533157138316\n",
            "Time: 165.7115683555603 seconds\n",
            "Time cumulative: 410.26775598526 seconds\n",
            ".-^-._.-^-._.-^-._.-^-._.-^-._.-^-._.-^-._.-^-._.-^-._.-^-._.-^-._.-^-._\n"
          ]
        },
        {
          "output_type": "stream",
          "name": "stderr",
          "text": [
            "  1%|          | 11/1000 [00:04<06:35,  2.50it/s]"
          ]
        },
        {
          "output_type": "stream",
          "name": "stdout",
          "text": [
            ".-^-._.-^-._.-^-._.-^-._.-^-._.-^-._.-^-._.-^-._.-^-._.-^-._.-^-._.-^-._\n",
            "FINE-TUNING\n",
            "Epoch: 10 test rmse: 1.7754152 test mae: 1.4894178 test ndcg: 0.9399208482687558\n",
            "Epoch: 10 train rmse: 1.7754152 train mae: 1.4894178 train ndcg: 0.9399208482687558\n",
            "Precision@10: 0.06071428571428595 Recall@10: 0.20509011491154344 MAP: 0.11760037974129356\n",
            "Train Precision@10: 0.06071428571428595 Train Recall@10: 0.20509011491154344 Train MAP: 0.11760037974129356\n",
            "Time: 168.87183237075806 seconds\n",
            "Time cumulative: 2083.645243883133 seconds\n",
            ".-^-._.-^-._.-^-._.-^-._.-^-._.-^-._.-^-._.-^-._.-^-._.-^-._.-^-._.-^-._\n"
          ]
        },
        {
          "output_type": "stream",
          "name": "stderr",
          "text": [
            "  2%|▏         | 21/1000 [00:08<05:13,  3.12it/s]"
          ]
        },
        {
          "output_type": "stream",
          "name": "stdout",
          "text": [
            ".-^-._.-^-._.-^-._.-^-._.-^-._.-^-._.-^-._.-^-._.-^-._.-^-._.-^-._.-^-._\n",
            "FINE-TUNING\n",
            "Epoch: 20 test rmse: 0.97499716 test mae: 0.6840038 test ndcg: 0.9565761358500139\n",
            "Epoch: 20 train rmse: 0.97499716 train mae: 0.6840038 train ndcg: 0.9565761358500139\n",
            "Precision@10: 0.11241496598639501 Recall@10: 0.4581397816091693 MAP: 0.3054436199350314\n",
            "Train Precision@10: 0.11241496598639501 Train Recall@10: 0.4581397816091693 Train MAP: 0.3054436199350314\n",
            "Time: 172.936669588089 seconds\n",
            "Time cumulative: 3796.4798543453217 seconds\n",
            ".-^-._.-^-._.-^-._.-^-._.-^-._.-^-._.-^-._.-^-._.-^-._.-^-._.-^-._.-^-._\n"
          ]
        },
        {
          "output_type": "stream",
          "name": "stderr",
          "text": [
            "  3%|▎         | 31/1000 [00:12<05:23,  2.99it/s]"
          ]
        },
        {
          "output_type": "stream",
          "name": "stdout",
          "text": [
            ".-^-._.-^-._.-^-._.-^-._.-^-._.-^-._.-^-._.-^-._.-^-._.-^-._.-^-._.-^-._\n",
            "FINE-TUNING\n",
            "Epoch: 30 test rmse: 0.73365164 test mae: 0.5671341 test ndcg: 0.9778973961964228\n",
            "Epoch: 30 train rmse: 0.73365164 train mae: 0.5671341 train ndcg: 0.9778973961964228\n",
            "Precision@10: 0.12159863945578263 Recall@10: 0.546043969258255 MAP: 0.4060488761680449\n",
            "Train Precision@10: 0.12159863945578263 Train Recall@10: 0.546043969258255 Train MAP: 0.4060488761680449\n",
            "Time: 177.55068922042847 seconds\n",
            "Time cumulative: 5553.188517808914 seconds\n",
            ".-^-._.-^-._.-^-._.-^-._.-^-._.-^-._.-^-._.-^-._.-^-._.-^-._.-^-._.-^-._\n"
          ]
        },
        {
          "output_type": "stream",
          "name": "stderr",
          "text": [
            "  4%|▍         | 41/1000 [00:15<04:24,  3.63it/s]"
          ]
        },
        {
          "output_type": "stream",
          "name": "stdout",
          "text": [
            ".-^-._.-^-._.-^-._.-^-._.-^-._.-^-._.-^-._.-^-._.-^-._.-^-._.-^-._.-^-._\n",
            "FINE-TUNING\n",
            "Epoch: 40 test rmse: 0.7345305 test mae: 0.6067513 test ndcg: 0.9896220091147303\n",
            "Epoch: 40 train rmse: 0.7345305 train mae: 0.6067513 train ndcg: 0.9896220091147303\n",
            "Precision@10: 0.13724489795918351 Recall@10: 0.5904299168329783 MAP: 0.4706960760523125\n",
            "Train Precision@10: 0.13724489795918351 Train Recall@10: 0.5904299168329783 Train MAP: 0.4706960760523125\n",
            "Time: 180.33148074150085 seconds\n",
            "Time cumulative: 7344.159611463547 seconds\n",
            ".-^-._.-^-._.-^-._.-^-._.-^-._.-^-._.-^-._.-^-._.-^-._.-^-._.-^-._.-^-._\n"
          ]
        },
        {
          "output_type": "stream",
          "name": "stderr",
          "text": [
            "  5%|▌         | 51/1000 [00:18<06:23,  2.48it/s]"
          ]
        },
        {
          "output_type": "stream",
          "name": "stdout",
          "text": [
            ".-^-._.-^-._.-^-._.-^-._.-^-._.-^-._.-^-._.-^-._.-^-._.-^-._.-^-._.-^-._\n",
            "FINE-TUNING\n",
            "Epoch: 50 test rmse: 0.63621616 test mae: 0.49283895 test ndcg: 0.9949372638805063\n",
            "Epoch: 50 train rmse: 0.63621616 train mae: 0.49283895 train ndcg: 0.9949372638805063\n",
            "Precision@10: 0.1440476190476188 Recall@10: 0.6083280381749764 MAP: 0.5053764747088109\n",
            "Train Precision@10: 0.1440476190476188 Train Recall@10: 0.6083280381749764 Train MAP: 0.5053764747088109\n",
            "Time: 183.56302404403687 seconds\n",
            "Time cumulative: 9163.526506662369 seconds\n",
            ".-^-._.-^-._.-^-._.-^-._.-^-._.-^-._.-^-._.-^-._.-^-._.-^-._.-^-._.-^-._\n"
          ]
        },
        {
          "output_type": "stream",
          "name": "stderr",
          "text": [
            "  6%|▌         | 61/1000 [00:22<04:47,  3.27it/s]"
          ]
        },
        {
          "output_type": "stream",
          "name": "stdout",
          "text": [
            ".-^-._.-^-._.-^-._.-^-._.-^-._.-^-._.-^-._.-^-._.-^-._.-^-._.-^-._.-^-._\n",
            "FINE-TUNING\n",
            "Epoch: 60 test rmse: 0.646322 test mae: 0.5297122 test ndcg: 0.9978826243417181\n",
            "Epoch: 60 train rmse: 0.646322 train mae: 0.5297122 train ndcg: 0.9978826243417181\n",
            "Precision@10: 0.14200680272108832 Recall@10: 0.5948435021139099 MAP: 0.4944972936685186\n",
            "Train Precision@10: 0.14200680272108832 Train Recall@10: 0.5948435021139099 Train MAP: 0.4944972936685186\n",
            "Time: 187.4464464187622 seconds\n",
            "Time cumulative: 11022.897370815277 seconds\n",
            ".-^-._.-^-._.-^-._.-^-._.-^-._.-^-._.-^-._.-^-._.-^-._.-^-._.-^-._.-^-._\n"
          ]
        },
        {
          "output_type": "stream",
          "name": "stderr",
          "text": [
            "  7%|▋         | 71/1000 [00:25<04:15,  3.63it/s]"
          ]
        },
        {
          "output_type": "stream",
          "name": "stdout",
          "text": [
            ".-^-._.-^-._.-^-._.-^-._.-^-._.-^-._.-^-._.-^-._.-^-._.-^-._.-^-._.-^-._\n",
            "FINE-TUNING\n",
            "Epoch: 70 test rmse: 0.6395013 test mae: 0.51435226 test ndcg: 0.9985592295302393\n",
            "Epoch: 70 train rmse: 0.6395013 train mae: 0.51435226 train ndcg: 0.9985592295302393\n",
            "Precision@10: 0.13452380952380952 Recall@10: 0.5599513534462514 MAP: 0.4494817391937932\n",
            "Train Precision@10: 0.13452380952380952 Train Recall@10: 0.5599513534462514 Train MAP: 0.4494817391937932\n",
            "Time: 190.18125915527344 seconds\n",
            "Time cumulative: 12912.480329751968 seconds\n",
            ".-^-._.-^-._.-^-._.-^-._.-^-._.-^-._.-^-._.-^-._.-^-._.-^-._.-^-._.-^-._\n"
          ]
        },
        {
          "output_type": "stream",
          "name": "stderr",
          "text": [
            "  8%|▊         | 81/1000 [00:27<04:13,  3.62it/s]"
          ]
        },
        {
          "output_type": "stream",
          "name": "stdout",
          "text": [
            ".-^-._.-^-._.-^-._.-^-._.-^-._.-^-._.-^-._.-^-._.-^-._.-^-._.-^-._.-^-._\n",
            "FINE-TUNING\n",
            "Epoch: 80 test rmse: 0.6277673 test mae: 0.49497396 test ndcg: 0.9983164731633328\n",
            "Epoch: 80 train rmse: 0.6277673 train mae: 0.49497396 train ndcg: 0.9983164731633328\n",
            "Precision@10: 0.10935374149659924 Recall@10: 0.45978138452628253 MAP: 0.3222589685588668\n",
            "Train Precision@10: 0.10935374149659924 Train Recall@10: 0.45978138452628253 Train MAP: 0.3222589685588668\n",
            "Time: 192.88483715057373 seconds\n",
            "Time cumulative: 14829.240027189255 seconds\n",
            ".-^-._.-^-._.-^-._.-^-._.-^-._.-^-._.-^-._.-^-._.-^-._.-^-._.-^-._.-^-._\n"
          ]
        },
        {
          "output_type": "stream",
          "name": "stderr",
          "text": [
            "  9%|▉         | 91/1000 [00:30<04:14,  3.56it/s]"
          ]
        },
        {
          "output_type": "stream",
          "name": "stdout",
          "text": [
            ".-^-._.-^-._.-^-._.-^-._.-^-._.-^-._.-^-._.-^-._.-^-._.-^-._.-^-._.-^-._\n",
            "FINE-TUNING\n",
            "Epoch: 90 test rmse: 0.63762987 test mae: 0.5140318 test ndcg: 0.9972271874662912\n",
            "Epoch: 90 train rmse: 0.63762987 train mae: 0.5140318 train ndcg: 0.9972271874662912\n",
            "Precision@10: 0.08214285714285757 Recall@10: 0.328046315928969 MAP: 0.20344996229988968\n",
            "Train Precision@10: 0.08214285714285757 Train Recall@10: 0.328046315928969 Train MAP: 0.20344996229988968\n",
            "Time: 195.65927529335022 seconds\n",
            "Time cumulative: 16773.51386499405 seconds\n",
            ".-^-._.-^-._.-^-._.-^-._.-^-._.-^-._.-^-._.-^-._.-^-._.-^-._.-^-._.-^-._\n"
          ]
        },
        {
          "output_type": "stream",
          "name": "stderr",
          "text": [
            " 10%|█         | 101/1000 [00:35<06:19,  2.37it/s]"
          ]
        },
        {
          "output_type": "stream",
          "name": "stdout",
          "text": [
            ".-^-._.-^-._.-^-._.-^-._.-^-._.-^-._.-^-._.-^-._.-^-._.-^-._.-^-._.-^-._\n",
            "FINE-TUNING\n",
            "Epoch: 100 test rmse: 0.63059664 test mae: 0.4998182 test ndcg: 0.9945708954556368\n",
            "Epoch: 100 train rmse: 0.63059664 train mae: 0.4998182 train ndcg: 0.9945708954556368\n",
            "Precision@10: 0.05340136054421785 Recall@10: 0.2026788829084749 MAP: 0.12093372280383219\n",
            "Train Precision@10: 0.05340136054421785 Train Recall@10: 0.2026788829084749 Train MAP: 0.12093372280383219\n",
            "Time: 200.0301148891449 seconds\n",
            "Time cumulative: 18752.738295078278 seconds\n",
            ".-^-._.-^-._.-^-._.-^-._.-^-._.-^-._.-^-._.-^-._.-^-._.-^-._.-^-._.-^-._\n"
          ]
        },
        {
          "output_type": "stream",
          "name": "stderr",
          "text": [
            " 11%|█         | 111/1000 [00:37<04:07,  3.59it/s]"
          ]
        },
        {
          "output_type": "stream",
          "name": "stdout",
          "text": [
            ".-^-._.-^-._.-^-._.-^-._.-^-._.-^-._.-^-._.-^-._.-^-._.-^-._.-^-._.-^-._\n",
            "FINE-TUNING\n",
            "Epoch: 110 test rmse: 0.6410201 test mae: 0.51673317 test ndcg: 0.9922561207110207\n",
            "Epoch: 110 train rmse: 0.6410201 train mae: 0.51673317 train ndcg: 0.9922561207110207\n",
            "Precision@10: 0.03452380952380955 Recall@10: 0.13132506193730692 MAP: 0.06900412297667767\n",
            "Train Precision@10: 0.03452380952380955 Train Recall@10: 0.13132506193730692 Train MAP: 0.06900412297667767\n",
            "Time: 202.78463459014893 seconds\n",
            "Time cumulative: 20768.188028097153 seconds\n",
            ".-^-._.-^-._.-^-._.-^-._.-^-._.-^-._.-^-._.-^-._.-^-._.-^-._.-^-._.-^-._\n"
          ]
        },
        {
          "output_type": "stream",
          "name": "stderr",
          "text": [
            " 12%|█▏        | 121/1000 [00:40<04:06,  3.56it/s]"
          ]
        },
        {
          "output_type": "stream",
          "name": "stdout",
          "text": [
            ".-^-._.-^-._.-^-._.-^-._.-^-._.-^-._.-^-._.-^-._.-^-._.-^-._.-^-._.-^-._\n",
            "FINE-TUNING\n",
            "Epoch: 120 test rmse: 0.63591045 test mae: 0.50750434 test ndcg: 0.9872127324379508\n",
            "Epoch: 120 train rmse: 0.63591045 train mae: 0.50750434 train ndcg: 0.9872127324379508\n",
            "Precision@10: 0.023979591836734652 Recall@10: 0.08967541339990322 MAP: 0.041025574711951444\n",
            "Train Precision@10: 0.023979591836734652 Train Recall@10: 0.08967541339990322 Train MAP: 0.041025574711951444\n",
            "Time: 205.57879543304443 seconds\n",
            "Time cumulative: 22811.386911392212 seconds\n",
            ".-^-._.-^-._.-^-._.-^-._.-^-._.-^-._.-^-._.-^-._.-^-._.-^-._.-^-._.-^-._\n"
          ]
        },
        {
          "output_type": "stream",
          "name": "stderr",
          "text": [
            " 13%|█▎        | 131/1000 [00:43<03:55,  3.69it/s]"
          ]
        },
        {
          "output_type": "stream",
          "name": "stdout",
          "text": [
            ".-^-._.-^-._.-^-._.-^-._.-^-._.-^-._.-^-._.-^-._.-^-._.-^-._.-^-._.-^-._\n",
            "FINE-TUNING\n",
            "Epoch: 130 test rmse: 0.6363746 test mae: 0.5079225 test ndcg: 0.9810861653895392\n",
            "Epoch: 130 train rmse: 0.6363746 train mae: 0.5079225 train ndcg: 0.9810861653895392\n",
            "Precision@10: 0.017517006802721058 Recall@10: 0.07043355831621138 MAP: 0.033115802257770305\n",
            "Train Precision@10: 0.017517006802721058 Train Recall@10: 0.07043355831621138 Train MAP: 0.033115802257770305\n",
            "Time: 208.33872270584106 seconds\n",
            "Time cumulative: 24882.57771205902 seconds\n",
            ".-^-._.-^-._.-^-._.-^-._.-^-._.-^-._.-^-._.-^-._.-^-._.-^-._.-^-._.-^-._\n"
          ]
        },
        {
          "output_type": "stream",
          "name": "stderr",
          "text": [
            " 14%|█▍        | 141/1000 [00:47<06:08,  2.33it/s]"
          ]
        },
        {
          "output_type": "stream",
          "name": "stdout",
          "text": [
            ".-^-._.-^-._.-^-._.-^-._.-^-._.-^-._.-^-._.-^-._.-^-._.-^-._.-^-._.-^-._\n",
            "FINE-TUNING\n",
            "Epoch: 140 test rmse: 0.63346165 test mae: 0.502511 test ndcg: 0.9776778906354844\n",
            "Epoch: 140 train rmse: 0.63346165 train mae: 0.502511 train ndcg: 0.9776778906354844\n",
            "Precision@10: 0.014795918367346917 Recall@10: 0.05600824912049401 MAP: 0.02873637852372371\n",
            "Train Precision@10: 0.014795918367346917 Train Recall@10: 0.05600824912049401 Train MAP: 0.02873637852372371\n",
            "Time: 211.92009592056274 seconds\n",
            "Time cumulative: 26983.626171588898 seconds\n",
            ".-^-._.-^-._.-^-._.-^-._.-^-._.-^-._.-^-._.-^-._.-^-._.-^-._.-^-._.-^-._\n"
          ]
        },
        {
          "output_type": "stream",
          "name": "stderr",
          "text": [
            " 15%|█▌        | 151/1000 [00:50<04:12,  3.36it/s]"
          ]
        },
        {
          "output_type": "stream",
          "name": "stdout",
          "text": [
            ".-^-._.-^-._.-^-._.-^-._.-^-._.-^-._.-^-._.-^-._.-^-._.-^-._.-^-._.-^-._\n",
            "FINE-TUNING\n",
            "Epoch: 150 test rmse: 0.6384106 test mae: 0.5120589 test ndcg: 0.9730874745047086\n",
            "Epoch: 150 train rmse: 0.6384106 train mae: 0.5120589 train ndcg: 0.9730874745047086\n",
            "Precision@10: 0.013945578231292497 Recall@10: 0.04979142173019724 MAP: 0.027644589347673054\n",
            "Train Precision@10: 0.013945578231292497 Train Recall@10: 0.04979142173019724 Train MAP: 0.027644589347673054\n",
            "Time: 215.65658497810364 seconds\n",
            "Time cumulative: 29125.843497037888 seconds\n",
            ".-^-._.-^-._.-^-._.-^-._.-^-._.-^-._.-^-._.-^-._.-^-._.-^-._.-^-._.-^-._\n"
          ]
        },
        {
          "output_type": "stream",
          "name": "stderr",
          "text": [
            " 16%|█▌        | 161/1000 [00:53<03:49,  3.65it/s]"
          ]
        },
        {
          "output_type": "stream",
          "name": "stdout",
          "text": [
            ".-^-._.-^-._.-^-._.-^-._.-^-._.-^-._.-^-._.-^-._.-^-._.-^-._.-^-._.-^-._\n",
            "FINE-TUNING\n",
            "Epoch: 160 test rmse: 0.6372194 test mae: 0.51175594 test ndcg: 0.9708487386173881\n",
            "Epoch: 160 train rmse: 0.6372194 train mae: 0.51175594 train ndcg: 0.9708487386173881\n",
            "Precision@10: 0.011224489795918354 Recall@10: 0.045002460691236194 MAP: 0.02590841904996791\n",
            "Train Precision@10: 0.011224489795918354 Train Recall@10: 0.045002460691236194 Train MAP: 0.02590841904996791\n",
            "Time: 218.48898005485535 seconds\n",
            "Time cumulative: 31298.335495233536 seconds\n",
            ".-^-._.-^-._.-^-._.-^-._.-^-._.-^-._.-^-._.-^-._.-^-._.-^-._.-^-._.-^-._\n"
          ]
        },
        {
          "output_type": "stream",
          "name": "stderr",
          "text": [
            " 17%|█▋        | 171/1000 [00:56<03:46,  3.66it/s]"
          ]
        },
        {
          "output_type": "stream",
          "name": "stdout",
          "text": [
            ".-^-._.-^-._.-^-._.-^-._.-^-._.-^-._.-^-._.-^-._.-^-._.-^-._.-^-._.-^-._\n",
            "FINE-TUNING\n",
            "Epoch: 170 test rmse: 0.63584846 test mae: 0.5086626 test ndcg: 0.9670723242248396\n",
            "Epoch: 170 train rmse: 0.63584846 train mae: 0.5086626 train ndcg: 0.9670723242248396\n",
            "Precision@10: 0.01258503401360543 Recall@10: 0.04457195299032033 MAP: 0.025522238943272477\n",
            "Train Precision@10: 0.01258503401360543 Train Recall@10: 0.04457195299032033 Train MAP: 0.025522238943272477\n",
            "Time: 221.31459951400757 seconds\n",
            "Time cumulative: 33499.0644595623 seconds\n",
            ".-^-._.-^-._.-^-._.-^-._.-^-._.-^-._.-^-._.-^-._.-^-._.-^-._.-^-._.-^-._\n"
          ]
        },
        {
          "output_type": "stream",
          "name": "stderr",
          "text": [
            " 18%|█▊        | 181/1000 [00:59<03:48,  3.58it/s]"
          ]
        },
        {
          "output_type": "stream",
          "name": "stdout",
          "text": [
            ".-^-._.-^-._.-^-._.-^-._.-^-._.-^-._.-^-._.-^-._.-^-._.-^-._.-^-._.-^-._\n",
            "FINE-TUNING\n",
            "Epoch: 180 test rmse: 0.638353 test mae: 0.51086235 test ndcg: 0.9686991753244366\n",
            "Epoch: 180 train rmse: 0.638353 train mae: 0.51086235 train ndcg: 0.9686991753244366\n",
            "Precision@10: 0.009523809523809521 Recall@10: 0.03580940035021668 MAP: 0.026455577688568373\n",
            "Train Precision@10: 0.009523809523809521 Train Recall@10: 0.03580940035021668 Train MAP: 0.026455577688568373\n",
            "Time: 224.0337724685669 seconds\n",
            "Time cumulative: 35727.18399095535 seconds\n",
            ".-^-._.-^-._.-^-._.-^-._.-^-._.-^-._.-^-._.-^-._.-^-._.-^-._.-^-._.-^-._\n"
          ]
        },
        {
          "output_type": "stream",
          "name": "stderr",
          "text": [
            " 19%|█▉        | 191/1000 [01:03<05:39,  2.38it/s]"
          ]
        },
        {
          "output_type": "stream",
          "name": "stdout",
          "text": [
            ".-^-._.-^-._.-^-._.-^-._.-^-._.-^-._.-^-._.-^-._.-^-._.-^-._.-^-._.-^-._\n",
            "FINE-TUNING\n",
            "Epoch: 190 test rmse: 0.63693744 test mae: 0.51342577 test ndcg: 0.9674315967100097\n",
            "Epoch: 190 train rmse: 0.63693744 train mae: 0.51342577 train ndcg: 0.9674315967100097\n",
            "Precision@10: 0.012755102040816313 Recall@10: 0.04530357680867885 MAP: 0.024464337212712912\n",
            "Train Precision@10: 0.012755102040816313 Train Recall@10: 0.04530357680867885 Train MAP: 0.024464337212712912\n",
            "Time: 228.5617163181305 seconds\n",
            "Time cumulative: 37991.32665467262 seconds\n",
            ".-^-._.-^-._.-^-._.-^-._.-^-._.-^-._.-^-._.-^-._.-^-._.-^-._.-^-._.-^-._\n"
          ]
        },
        {
          "output_type": "stream",
          "name": "stderr",
          "text": [
            " 20%|██        | 201/1000 [01:06<03:46,  3.52it/s]"
          ]
        },
        {
          "output_type": "stream",
          "name": "stdout",
          "text": [
            ".-^-._.-^-._.-^-._.-^-._.-^-._.-^-._.-^-._.-^-._.-^-._.-^-._.-^-._.-^-._\n",
            "FINE-TUNING\n",
            "Epoch: 200 test rmse: 0.63970494 test mae: 0.5146999 test ndcg: 0.9663011202339695\n",
            "Epoch: 200 train rmse: 0.63970494 train mae: 0.5146999 train ndcg: 0.9663011202339695\n",
            "Precision@10: 0.013605442176870734 Recall@10: 0.04713585733993897 MAP: 0.026203322604079437\n",
            "Train Precision@10: 0.013605442176870734 Train Recall@10: 0.04713585733993897 Train MAP: 0.026203322604079437\n",
            "Time: 231.3725447654724 seconds\n",
            "Time cumulative: 40292.517375707626 seconds\n",
            ".-^-._.-^-._.-^-._.-^-._.-^-._.-^-._.-^-._.-^-._.-^-._.-^-._.-^-._.-^-._\n"
          ]
        },
        {
          "output_type": "stream",
          "name": "stderr",
          "text": [
            " 21%|██        | 211/1000 [01:09<03:37,  3.63it/s]"
          ]
        },
        {
          "output_type": "stream",
          "name": "stdout",
          "text": [
            ".-^-._.-^-._.-^-._.-^-._.-^-._.-^-._.-^-._.-^-._.-^-._.-^-._.-^-._.-^-._\n",
            "FINE-TUNING\n",
            "Epoch: 210 test rmse: 0.6398475 test mae: 0.51377463 test ndcg: 0.9649435206911143\n",
            "Epoch: 210 train rmse: 0.6398475 train mae: 0.51377463 train ndcg: 0.9649435206911143\n",
            "Precision@10: 0.011394557823129243 Recall@10: 0.03968599427783102 MAP: 0.024431020722287318\n",
            "Train Precision@10: 0.011394557823129243 Train Recall@10: 0.03968599427783102 Train MAP: 0.024431020722287318\n",
            "Time: 234.11593294143677 seconds\n",
            "Time cumulative: 42621.42734456062 seconds\n",
            ".-^-._.-^-._.-^-._.-^-._.-^-._.-^-._.-^-._.-^-._.-^-._.-^-._.-^-._.-^-._\n"
          ]
        },
        {
          "output_type": "stream",
          "name": "stderr",
          "text": [
            " 22%|██▏       | 221/1000 [01:11<03:32,  3.66it/s]"
          ]
        },
        {
          "output_type": "stream",
          "name": "stdout",
          "text": [
            ".-^-._.-^-._.-^-._.-^-._.-^-._.-^-._.-^-._.-^-._.-^-._.-^-._.-^-._.-^-._\n",
            "FINE-TUNING\n",
            "Epoch: 220 test rmse: 0.6405468 test mae: 0.5167682 test ndcg: 0.9652077739579752\n",
            "Epoch: 220 train rmse: 0.6405468 train mae: 0.5167682 train ndcg: 0.9652077739579752\n",
            "Precision@10: 0.010544217687074822 Recall@10: 0.03604842814026487 MAP: 0.027456252119431843\n",
            "Train Precision@10: 0.010544217687074822 Train Recall@10: 0.03604842814026487 Train MAP: 0.027456252119431843\n",
            "Time: 236.83479142189026 seconds\n",
            "Time cumulative: 44977.64905524254 seconds\n",
            ".-^-._.-^-._.-^-._.-^-._.-^-._.-^-._.-^-._.-^-._.-^-._.-^-._.-^-._.-^-._\n"
          ]
        },
        {
          "output_type": "stream",
          "name": "stderr",
          "text": [
            " 23%|██▎       | 231/1000 [01:15<05:26,  2.35it/s]"
          ]
        },
        {
          "output_type": "stream",
          "name": "stdout",
          "text": [
            ".-^-._.-^-._.-^-._.-^-._.-^-._.-^-._.-^-._.-^-._.-^-._.-^-._.-^-._.-^-._\n",
            "FINE-TUNING\n",
            "Epoch: 230 test rmse: 0.6403115 test mae: 0.5166742 test ndcg: 0.9647280130283561\n",
            "Epoch: 230 train rmse: 0.6403115 train mae: 0.5166742 train ndcg: 0.9647280130283561\n",
            "Precision@10: 0.013095238095238085 Recall@10: 0.04457954177341933 MAP: 0.02673781966004639\n",
            "Train Precision@10: 0.013095238095238085 Train Recall@10: 0.04457954177341933 Train MAP: 0.02673781966004639\n",
            "Time: 240.33409881591797 seconds\n",
            "Time cumulative: 47363.131041526794 seconds\n",
            ".-^-._.-^-._.-^-._.-^-._.-^-._.-^-._.-^-._.-^-._.-^-._.-^-._.-^-._.-^-._\n"
          ]
        },
        {
          "output_type": "stream",
          "name": "stderr",
          "text": [
            " 24%|██▍       | 241/1000 [01:19<03:45,  3.37it/s]"
          ]
        },
        {
          "output_type": "stream",
          "name": "stdout",
          "text": [
            ".-^-._.-^-._.-^-._.-^-._.-^-._.-^-._.-^-._.-^-._.-^-._.-^-._.-^-._.-^-._\n",
            "FINE-TUNING\n",
            "Epoch: 240 test rmse: 0.6400233 test mae: 0.5153928 test ndcg: 0.9651714853301621\n",
            "Epoch: 240 train rmse: 0.6400233 train mae: 0.5153928 train ndcg: 0.9651714853301621\n",
            "Precision@10: 0.01513605442176869 Recall@10: 0.04971522241930405 MAP: 0.02725025060776403\n",
            "Train Precision@10: 0.01513605442176869 Train Recall@10: 0.04971522241930405 Train MAP: 0.02725025060776403\n",
            "Time: 244.0626256465912 seconds\n",
            "Time cumulative: 49789.36109781265 seconds\n",
            ".-^-._.-^-._.-^-._.-^-._.-^-._.-^-._.-^-._.-^-._.-^-._.-^-._.-^-._.-^-._\n"
          ]
        },
        {
          "output_type": "stream",
          "name": "stderr",
          "text": [
            " 25%|██▌       | 251/1000 [01:21<03:21,  3.72it/s]"
          ]
        },
        {
          "output_type": "stream",
          "name": "stdout",
          "text": [
            ".-^-._.-^-._.-^-._.-^-._.-^-._.-^-._.-^-._.-^-._.-^-._.-^-._.-^-._.-^-._\n",
            "FINE-TUNING\n",
            "Epoch: 250 test rmse: 0.6418638 test mae: 0.5184828 test ndcg: 0.9650217599111358\n",
            "Epoch: 250 train rmse: 0.6418638 train mae: 0.5184828 train ndcg: 0.9650217599111358\n",
            "Precision@10: 0.014455782312925158 Recall@10: 0.04403336176295358 MAP: 0.027331754036694748\n",
            "Train Precision@10: 0.014455782312925158 Train Recall@10: 0.04403336176295358 Train MAP: 0.027331754036694748\n",
            "Time: 246.76983547210693 seconds\n",
            "Time cumulative: 52244.94649839401 seconds\n",
            ".-^-._.-^-._.-^-._.-^-._.-^-._.-^-._.-^-._.-^-._.-^-._.-^-._.-^-._.-^-._\n"
          ]
        },
        {
          "output_type": "stream",
          "name": "stderr",
          "text": [
            " 26%|██▌       | 261/1000 [01:24<03:30,  3.51it/s]"
          ]
        },
        {
          "output_type": "stream",
          "name": "stdout",
          "text": [
            ".-^-._.-^-._.-^-._.-^-._.-^-._.-^-._.-^-._.-^-._.-^-._.-^-._.-^-._.-^-._\n",
            "FINE-TUNING\n",
            "Epoch: 260 test rmse: 0.64175403 test mae: 0.5184969 test ndcg: 0.9652700601747485\n",
            "Epoch: 260 train rmse: 0.64175403 train mae: 0.5184969 train ndcg: 0.9652700601747485\n",
            "Precision@10: 0.014795918367346925 Recall@10: 0.04437693353509679 MAP: 0.028053997099558466\n",
            "Train Precision@10: 0.014795918367346925 Train Recall@10: 0.04437693353509679 Train MAP: 0.028053997099558466\n",
            "Time: 249.5478916168213 seconds\n",
            "Time cumulative: 54727.84297657013 seconds\n",
            ".-^-._.-^-._.-^-._.-^-._.-^-._.-^-._.-^-._.-^-._.-^-._.-^-._.-^-._.-^-._\n"
          ]
        },
        {
          "output_type": "stream",
          "name": "stderr",
          "text": [
            " 27%|██▋       | 271/1000 [01:27<03:37,  3.36it/s]"
          ]
        },
        {
          "output_type": "stream",
          "name": "stdout",
          "text": [
            ".-^-._.-^-._.-^-._.-^-._.-^-._.-^-._.-^-._.-^-._.-^-._.-^-._.-^-._.-^-._\n",
            "FINE-TUNING\n",
            "Epoch: 270 test rmse: 0.6418093 test mae: 0.5193123 test ndcg: 0.9643809052194732\n",
            "Epoch: 270 train rmse: 0.6418093 train mae: 0.5193123 train ndcg: 0.9643809052194732\n",
            "Precision@10: 0.013775510204081617 Recall@10: 0.04336742716844757 MAP: 0.02715823914757398\n",
            "Train Precision@10: 0.013775510204081617 Train Recall@10: 0.04336742716844757 Train MAP: 0.02715823914757398\n",
            "Time: 252.33422994613647 seconds\n",
            "Time cumulative: 57238.67869782448 seconds\n",
            ".-^-._.-^-._.-^-._.-^-._.-^-._.-^-._.-^-._.-^-._.-^-._.-^-._.-^-._.-^-._\n"
          ]
        },
        {
          "output_type": "stream",
          "name": "stderr",
          "text": [
            " 28%|██▊       | 281/1000 [01:31<04:36,  2.60it/s]"
          ]
        },
        {
          "output_type": "stream",
          "name": "stdout",
          "text": [
            ".-^-._.-^-._.-^-._.-^-._.-^-._.-^-._.-^-._.-^-._.-^-._.-^-._.-^-._.-^-._\n",
            "FINE-TUNING\n",
            "Epoch: 280 test rmse: 0.6459484 test mae: 0.52481353 test ndcg: 0.9647349468161381\n",
            "Epoch: 280 train rmse: 0.6459484 train mae: 0.52481353 train ndcg: 0.9647349468161381\n",
            "Precision@10: 0.01377551020408162 Recall@10: 0.04416580207396534 MAP: 0.027368473890323795\n",
            "Train Precision@10: 0.01377551020408162 Train Recall@10: 0.04416580207396534 Train MAP: 0.027368473890323795\n",
            "Time: 256.765841960907 seconds\n",
            "Time cumulative: 59786.1171476841 seconds\n",
            ".-^-._.-^-._.-^-._.-^-._.-^-._.-^-._.-^-._.-^-._.-^-._.-^-._.-^-._.-^-._\n"
          ]
        },
        {
          "output_type": "stream",
          "name": "stderr",
          "text": [
            " 29%|██▉       | 291/1000 [01:34<03:15,  3.62it/s]"
          ]
        },
        {
          "output_type": "stream",
          "name": "stdout",
          "text": [
            ".-^-._.-^-._.-^-._.-^-._.-^-._.-^-._.-^-._.-^-._.-^-._.-^-._.-^-._.-^-._\n",
            "FINE-TUNING\n",
            "Epoch: 290 test rmse: 0.6448956 test mae: 0.5232866 test ndcg: 0.9642768269281675\n",
            "Epoch: 290 train rmse: 0.6448956 train mae: 0.5232866 train ndcg: 0.9642768269281675\n",
            "Precision@10: 0.010204081632653053 Recall@10: 0.03455364552303327 MAP: 0.025042864908824736\n",
            "Train Precision@10: 0.010204081632653053 Train Recall@10: 0.03455364552303327 Train MAP: 0.025042864908824736\n",
            "Time: 259.4562282562256 seconds\n",
            "Time cumulative: 62368.67971944809 seconds\n",
            ".-^-._.-^-._.-^-._.-^-._.-^-._.-^-._.-^-._.-^-._.-^-._.-^-._.-^-._.-^-._\n"
          ]
        },
        {
          "output_type": "stream",
          "name": "stderr",
          "text": [
            " 30%|███       | 301/1000 [01:37<03:10,  3.66it/s]"
          ]
        },
        {
          "output_type": "stream",
          "name": "stdout",
          "text": [
            ".-^-._.-^-._.-^-._.-^-._.-^-._.-^-._.-^-._.-^-._.-^-._.-^-._.-^-._.-^-._\n",
            "FINE-TUNING\n",
            "Epoch: 300 test rmse: 0.6419147 test mae: 0.5180655 test ndcg: 0.9654424997970115\n",
            "Epoch: 300 train rmse: 0.6419147 train mae: 0.5180655 train ndcg: 0.9654424997970115\n",
            "Precision@10: 0.013775510204081623 Recall@10: 0.0442939241408629 MAP: 0.02890595627038784\n",
            "Train Precision@10: 0.013775510204081623 Train Recall@10: 0.0442939241408629 Train MAP: 0.02890595627038784\n",
            "Time: 262.22759103775024 seconds\n",
            "Time cumulative: 64978.64949417114 seconds\n",
            ".-^-._.-^-._.-^-._.-^-._.-^-._.-^-._.-^-._.-^-._.-^-._.-^-._.-^-._.-^-._\n"
          ]
        },
        {
          "output_type": "stream",
          "name": "stderr",
          "text": [
            " 31%|███       | 311/1000 [01:40<04:15,  2.70it/s]"
          ]
        },
        {
          "output_type": "stream",
          "name": "stdout",
          "text": [
            ".-^-._.-^-._.-^-._.-^-._.-^-._.-^-._.-^-._.-^-._.-^-._.-^-._.-^-._.-^-._\n",
            "FINE-TUNING\n",
            "Epoch: 310 test rmse: 0.64352894 test mae: 0.51939285 test ndcg: 0.9644263042823575\n",
            "Epoch: 310 train rmse: 0.64352894 train mae: 0.51939285 train ndcg: 0.9644263042823575\n",
            "Precision@10: 0.013605442176870736 Recall@10: 0.04082096569341467 MAP: 0.03352452571639646\n",
            "Train Precision@10: 0.013605442176870736 Train Recall@10: 0.04082096569341467 Train MAP: 0.03352452571639646\n",
            "Time: 265.0860903263092 seconds\n",
            "Time cumulative: 67616.45890879631 seconds\n",
            ".-^-._.-^-._.-^-._.-^-._.-^-._.-^-._.-^-._.-^-._.-^-._.-^-._.-^-._.-^-._\n"
          ]
        },
        {
          "output_type": "stream",
          "name": "stderr",
          "text": [
            " 32%|███▏      | 321/1000 [01:44<04:53,  2.32it/s]"
          ]
        },
        {
          "output_type": "stream",
          "name": "stdout",
          "text": [
            ".-^-._.-^-._.-^-._.-^-._.-^-._.-^-._.-^-._.-^-._.-^-._.-^-._.-^-._.-^-._\n",
            "FINE-TUNING\n",
            "Epoch: 320 test rmse: 0.64526767 test mae: 0.5209649 test ndcg: 0.9643885732048575\n",
            "Epoch: 320 train rmse: 0.64526767 train mae: 0.5209649 train ndcg: 0.9643885732048575\n",
            "Precision@10: 0.012585034013605433 Recall@10: 0.03720364574956412 MAP: 0.02836058221512587\n",
            "Train Precision@10: 0.012585034013605433 Train Recall@10: 0.03720364574956412 Train MAP: 0.02836058221512587\n",
            "Time: 268.9780571460724 seconds\n",
            "Time cumulative: 70287.84546661377 seconds\n",
            ".-^-._.-^-._.-^-._.-^-._.-^-._.-^-._.-^-._.-^-._.-^-._.-^-._.-^-._.-^-._\n"
          ]
        },
        {
          "output_type": "stream",
          "name": "stderr",
          "text": [
            " 33%|███▎      | 331/1000 [01:47<03:11,  3.49it/s]"
          ]
        },
        {
          "output_type": "stream",
          "name": "stdout",
          "text": [
            ".-^-._.-^-._.-^-._.-^-._.-^-._.-^-._.-^-._.-^-._.-^-._.-^-._.-^-._.-^-._\n",
            "FINE-TUNING\n",
            "Epoch: 330 test rmse: 0.64690155 test mae: 0.52277666 test ndcg: 0.9642962291858065\n",
            "Epoch: 330 train rmse: 0.64690155 train mae: 0.52277666 train ndcg: 0.9642962291858065\n",
            "Precision@10: 0.014795918367346922 Recall@10: 0.04902758805820029 MAP: 0.03515582711737421\n",
            "Train Precision@10: 0.014795918367346922 Train Recall@10: 0.04902758805820029 Train MAP: 0.03515582711737421\n",
            "Time: 272.4569528102875 seconds\n",
            "Time cumulative: 72999.22641015053 seconds\n",
            ".-^-._.-^-._.-^-._.-^-._.-^-._.-^-._.-^-._.-^-._.-^-._.-^-._.-^-._.-^-._\n"
          ]
        },
        {
          "output_type": "stream",
          "name": "stderr",
          "text": [
            " 34%|███▍      | 341/1000 [01:50<02:59,  3.66it/s]"
          ]
        },
        {
          "output_type": "stream",
          "name": "stdout",
          "text": [
            ".-^-._.-^-._.-^-._.-^-._.-^-._.-^-._.-^-._.-^-._.-^-._.-^-._.-^-._.-^-._\n",
            "FINE-TUNING\n",
            "Epoch: 340 test rmse: 0.6450528 test mae: 0.52120054 test ndcg: 0.9640048145632223\n",
            "Epoch: 340 train rmse: 0.6450528 train mae: 0.52120054 train ndcg: 0.9640048145632223\n",
            "Precision@10: 0.018367346938775484 Recall@10: 0.06301952488176976 MAP: 0.033946513616538755\n",
            "Train Precision@10: 0.018367346938775484 Train Recall@10: 0.06301952488176976 Train MAP: 0.033946513616538755\n",
            "Time: 275.23917412757874 seconds\n",
            "Time cumulative: 75739.25068545341 seconds\n",
            ".-^-._.-^-._.-^-._.-^-._.-^-._.-^-._.-^-._.-^-._.-^-._.-^-._.-^-._.-^-._\n"
          ]
        },
        {
          "output_type": "stream",
          "name": "stderr",
          "text": [
            " 35%|███▌      | 351/1000 [01:53<03:07,  3.47it/s]"
          ]
        },
        {
          "output_type": "stream",
          "name": "stdout",
          "text": [
            ".-^-._.-^-._.-^-._.-^-._.-^-._.-^-._.-^-._.-^-._.-^-._.-^-._.-^-._.-^-._\n",
            "FINE-TUNING\n",
            "Epoch: 350 test rmse: 0.64804006 test mae: 0.5257056 test ndcg: 0.9643673603072402\n",
            "Epoch: 350 train rmse: 0.64804006 train mae: 0.5257056 train ndcg: 0.9643673603072402\n",
            "Precision@10: 0.017006802721088413 Recall@10: 0.05385080244774121 MAP: 0.03426414652310695\n",
            "Train Precision@10: 0.017006802721088413 Train Recall@10: 0.05385080244774121 Train MAP: 0.03426414652310695\n",
            "Time: 278.0227196216583 seconds\n",
            "Time cumulative: 78506.81780576706 seconds\n",
            ".-^-._.-^-._.-^-._.-^-._.-^-._.-^-._.-^-._.-^-._.-^-._.-^-._.-^-._.-^-._\n"
          ]
        },
        {
          "output_type": "stream",
          "name": "stderr",
          "text": [
            " 36%|███▌      | 361/1000 [01:56<03:35,  2.96it/s]"
          ]
        },
        {
          "output_type": "stream",
          "name": "stdout",
          "text": [
            ".-^-._.-^-._.-^-._.-^-._.-^-._.-^-._.-^-._.-^-._.-^-._.-^-._.-^-._.-^-._\n",
            "FINE-TUNING\n",
            "Epoch: 360 test rmse: 0.64808714 test mae: 0.5243401 test ndcg: 0.9644024580143545\n",
            "Epoch: 360 train rmse: 0.64808714 train mae: 0.5243401 train ndcg: 0.9644024580143545\n",
            "Precision@10: 0.013265306122448967 Recall@10: 0.04114838298511767 MAP: 0.033048202027169175\n",
            "Train Precision@10: 0.013265306122448967 Train Recall@10: 0.04114838298511767 Train MAP: 0.033048202027169175\n",
            "Time: 280.888876914978 seconds\n",
            "Time cumulative: 81302.76556324959 seconds\n",
            ".-^-._.-^-._.-^-._.-^-._.-^-._.-^-._.-^-._.-^-._.-^-._.-^-._.-^-._.-^-._\n"
          ]
        },
        {
          "output_type": "stream",
          "name": "stderr",
          "text": [
            " 37%|███▋      | 371/1000 [02:00<03:53,  2.69it/s]"
          ]
        },
        {
          "output_type": "stream",
          "name": "stdout",
          "text": [
            ".-^-._.-^-._.-^-._.-^-._.-^-._.-^-._.-^-._.-^-._.-^-._.-^-._.-^-._.-^-._\n",
            "FINE-TUNING\n",
            "Epoch: 370 test rmse: 0.6488417 test mae: 0.5249225 test ndcg: 0.9645248144262252\n",
            "Epoch: 370 train rmse: 0.6488417 train mae: 0.5249225 train ndcg: 0.9645248144262252\n",
            "Precision@10: 0.013775510204081623 Recall@10: 0.038527808170665305 MAP: 0.03325841069021565\n",
            "Train Precision@10: 0.013775510204081623 Train Recall@10: 0.038527808170665305 Train MAP: 0.03325841069021565\n",
            "Time: 285.31200408935547 seconds\n",
            "Time cumulative: 84136.70653772354 seconds\n",
            ".-^-._.-^-._.-^-._.-^-._.-^-._.-^-._.-^-._.-^-._.-^-._.-^-._.-^-._.-^-._\n"
          ]
        },
        {
          "output_type": "stream",
          "name": "stderr",
          "text": [
            " 38%|███▊      | 381/1000 [02:03<02:49,  3.66it/s]"
          ]
        },
        {
          "output_type": "stream",
          "name": "stdout",
          "text": [
            ".-^-._.-^-._.-^-._.-^-._.-^-._.-^-._.-^-._.-^-._.-^-._.-^-._.-^-._.-^-._\n",
            "FINE-TUNING\n",
            "Epoch: 380 test rmse: 0.65027875 test mae: 0.52663326 test ndcg: 0.964784442300384\n",
            "Epoch: 380 train rmse: 0.65027875 train mae: 0.52663326 train ndcg: 0.964784442300384\n",
            "Precision@10: 0.011054421768707473 Recall@10: 0.032956938186530026 MAP: 0.028133566594354148\n",
            "Train Precision@10: 0.011054421768707473 Train Recall@10: 0.032956938186530026 Train MAP: 0.028133566594354148\n",
            "Time: 288.0127308368683 seconds\n",
            "Time cumulative: 87004.9248354435 seconds\n",
            ".-^-._.-^-._.-^-._.-^-._.-^-._.-^-._.-^-._.-^-._.-^-._.-^-._.-^-._.-^-._\n"
          ]
        },
        {
          "output_type": "stream",
          "name": "stderr",
          "text": [
            " 39%|███▉      | 391/1000 [02:05<02:52,  3.53it/s]"
          ]
        },
        {
          "output_type": "stream",
          "name": "stdout",
          "text": [
            ".-^-._.-^-._.-^-._.-^-._.-^-._.-^-._.-^-._.-^-._.-^-._.-^-._.-^-._.-^-._\n",
            "FINE-TUNING\n",
            "Epoch: 390 test rmse: 0.65069056 test mae: 0.52687055 test ndcg: 0.9650606288028274\n",
            "Epoch: 390 train rmse: 0.65069056 train mae: 0.52687055 train ndcg: 0.9650606288028274\n",
            "Precision@10: 0.014795918367346922 Recall@10: 0.0512439327490348 MAP: 0.032259504119549594\n",
            "Train Precision@10: 0.014795918367346922 Train Recall@10: 0.0512439327490348 Train MAP: 0.032259504119549594\n",
            "Time: 290.8466811180115 seconds\n",
            "Time cumulative: 89900.65431714058 seconds\n",
            ".-^-._.-^-._.-^-._.-^-._.-^-._.-^-._.-^-._.-^-._.-^-._.-^-._.-^-._.-^-._\n"
          ]
        },
        {
          "output_type": "stream",
          "name": "stderr",
          "text": [
            " 40%|████      | 401/1000 [02:08<02:43,  3.66it/s]"
          ]
        },
        {
          "output_type": "stream",
          "name": "stdout",
          "text": [
            ".-^-._.-^-._.-^-._.-^-._.-^-._.-^-._.-^-._.-^-._.-^-._.-^-._.-^-._.-^-._\n",
            "FINE-TUNING\n",
            "Epoch: 400 test rmse: 0.6508806 test mae: 0.52564865 test ndcg: 0.9639453020233231\n",
            "Epoch: 400 train rmse: 0.6508806 train mae: 0.52564865 train ndcg: 0.9639453020233231\n",
            "Precision@10: 0.016326530612244882 Recall@10: 0.05346544989402132 MAP: 0.03244838023953073\n",
            "Train Precision@10: 0.016326530612244882 Train Recall@10: 0.05346544989402132 Train MAP: 0.03244838023953073\n",
            "Time: 293.57952642440796 seconds\n",
            "Time cumulative: 92824.34443044662 seconds\n",
            ".-^-._.-^-._.-^-._.-^-._.-^-._.-^-._.-^-._.-^-._.-^-._.-^-._.-^-._.-^-._\n"
          ]
        },
        {
          "output_type": "stream",
          "name": "stderr",
          "text": [
            " 41%|████      | 411/1000 [02:12<04:10,  2.35it/s]"
          ]
        },
        {
          "output_type": "stream",
          "name": "stdout",
          "text": [
            ".-^-._.-^-._.-^-._.-^-._.-^-._.-^-._.-^-._.-^-._.-^-._.-^-._.-^-._.-^-._\n",
            "FINE-TUNING\n",
            "Epoch: 410 test rmse: 0.6506256 test mae: 0.5249303 test ndcg: 0.9664395328658523\n",
            "Epoch: 410 train rmse: 0.6506256 train mae: 0.5249303 train ndcg: 0.9664395328658523\n",
            "Precision@10: 0.0129251700680272 Recall@10: 0.04260201721936416 MAP: 0.0328148422040301\n",
            "Train Precision@10: 0.0129251700680272 Train Recall@10: 0.04260201721936416 Train MAP: 0.0328148422040301\n",
            "Time: 297.08888387680054 seconds\n",
            "Time cumulative: 95777.42893886566 seconds\n",
            ".-^-._.-^-._.-^-._.-^-._.-^-._.-^-._.-^-._.-^-._.-^-._.-^-._.-^-._.-^-._\n"
          ]
        },
        {
          "output_type": "stream",
          "name": "stderr",
          "text": [
            " 42%|████▏     | 421/1000 [02:15<02:49,  3.41it/s]"
          ]
        },
        {
          "output_type": "stream",
          "name": "stdout",
          "text": [
            ".-^-._.-^-._.-^-._.-^-._.-^-._.-^-._.-^-._.-^-._.-^-._.-^-._.-^-._.-^-._\n",
            "FINE-TUNING\n",
            "Epoch: 420 test rmse: 0.6546005 test mae: 0.53083664 test ndcg: 0.9656004721537486\n",
            "Epoch: 420 train rmse: 0.6546005 train mae: 0.53083664 train ndcg: 0.9656004721537486\n",
            "Precision@10: 0.010884353741496593 Recall@10: 0.031743922177595654 MAP: 0.025894327507001595\n",
            "Train Precision@10: 0.010884353741496593 Train Recall@10: 0.031743922177595654 Train MAP: 0.025894327507001595\n",
            "Time: 300.7155523300171 seconds\n",
            "Time cumulative: 98770.81244969368 seconds\n",
            ".-^-._.-^-._.-^-._.-^-._.-^-._.-^-._.-^-._.-^-._.-^-._.-^-._.-^-._.-^-._\n"
          ]
        },
        {
          "output_type": "stream",
          "name": "stderr",
          "text": [
            " 43%|████▎     | 431/1000 [02:18<02:33,  3.71it/s]"
          ]
        },
        {
          "output_type": "stream",
          "name": "stdout",
          "text": [
            ".-^-._.-^-._.-^-._.-^-._.-^-._.-^-._.-^-._.-^-._.-^-._.-^-._.-^-._.-^-._\n",
            "FINE-TUNING\n",
            "Epoch: 430 test rmse: 0.6534205 test mae: 0.52887565 test ndcg: 0.9660953607535617\n",
            "Epoch: 430 train rmse: 0.6534205 train mae: 0.52887565 train ndcg: 0.9660953607535617\n",
            "Precision@10: 0.013435374149659856 Recall@10: 0.04196166645146237 MAP: 0.0281254858937809\n",
            "Train Precision@10: 0.013435374149659856 Train Recall@10: 0.04196166645146237 Train MAP: 0.0281254858937809\n",
            "Time: 303.44448947906494 seconds\n",
            "Time cumulative: 101793.13782143593 seconds\n",
            ".-^-._.-^-._.-^-._.-^-._.-^-._.-^-._.-^-._.-^-._.-^-._.-^-._.-^-._.-^-._\n"
          ]
        },
        {
          "output_type": "stream",
          "name": "stderr",
          "text": [
            " 44%|████▍     | 441/1000 [02:21<02:40,  3.48it/s]"
          ]
        },
        {
          "output_type": "stream",
          "name": "stdout",
          "text": [
            ".-^-._.-^-._.-^-._.-^-._.-^-._.-^-._.-^-._.-^-._.-^-._.-^-._.-^-._.-^-._\n",
            "FINE-TUNING\n",
            "Epoch: 440 test rmse: 0.6535918 test mae: 0.52935356 test ndcg: 0.9677016427708728\n",
            "Epoch: 440 train rmse: 0.6535918 train mae: 0.52935356 train ndcg: 0.9677016427708728\n",
            "Precision@10: 0.011224489795918358 Recall@10: 0.03469530752694018 MAP: 0.025860357959093958\n",
            "Train Precision@10: 0.011224489795918358 Train Recall@10: 0.03469530752694018 Train MAP: 0.025860357959093958\n",
            "Time: 306.1884732246399 seconds\n",
            "Time cumulative: 104842.65701127052 seconds\n",
            ".-^-._.-^-._.-^-._.-^-._.-^-._.-^-._.-^-._.-^-._.-^-._.-^-._.-^-._.-^-._\n"
          ]
        },
        {
          "output_type": "stream",
          "name": "stderr",
          "text": [
            " 45%|████▌     | 451/1000 [02:24<02:39,  3.45it/s]"
          ]
        },
        {
          "output_type": "stream",
          "name": "stdout",
          "text": [
            ".-^-._.-^-._.-^-._.-^-._.-^-._.-^-._.-^-._.-^-._.-^-._.-^-._.-^-._.-^-._\n",
            "FINE-TUNING\n",
            "Epoch: 450 test rmse: 0.65127784 test mae: 0.5246754 test ndcg: 0.9650182858658868\n",
            "Epoch: 450 train rmse: 0.65127784 train mae: 0.5246754 train ndcg: 0.9650182858658868\n",
            "Precision@10: 0.014285714285714268 Recall@10: 0.04517665818686226 MAP: 0.028632090716426688\n",
            "Train Precision@10: 0.014285714285714268 Train Recall@10: 0.04517665818686226 Train MAP: 0.028632090716426688\n",
            "Time: 309.02056670188904 seconds\n",
            "Time cumulative: 107920.27814245224 seconds\n",
            ".-^-._.-^-._.-^-._.-^-._.-^-._.-^-._.-^-._.-^-._.-^-._.-^-._.-^-._.-^-._\n"
          ]
        },
        {
          "output_type": "stream",
          "name": "stderr",
          "text": [
            " 46%|████▌     | 461/1000 [02:28<04:01,  2.24it/s]"
          ]
        },
        {
          "output_type": "stream",
          "name": "stdout",
          "text": [
            ".-^-._.-^-._.-^-._.-^-._.-^-._.-^-._.-^-._.-^-._.-^-._.-^-._.-^-._.-^-._\n",
            "FINE-TUNING\n",
            "Epoch: 460 test rmse: 0.6562634 test mae: 0.53240615 test ndcg: 0.9665155851708618\n",
            "Epoch: 460 train rmse: 0.6562634 train mae: 0.53240615 train ndcg: 0.9665155851708618\n",
            "Precision@10: 0.014115646258503388 Recall@10: 0.04798895832059096 MAP: 0.028846290856777576\n",
            "Train Precision@10: 0.014115646258503388 Train Recall@10: 0.04798895832059096 Train MAP: 0.028846290856777576\n",
            "Time: 313.50230407714844 seconds\n",
            "Time cumulative: 111034.35415768623 seconds\n",
            ".-^-._.-^-._.-^-._.-^-._.-^-._.-^-._.-^-._.-^-._.-^-._.-^-._.-^-._.-^-._\n"
          ]
        },
        {
          "output_type": "stream",
          "name": "stderr",
          "text": [
            " 47%|████▋     | 471/1000 [02:31<02:28,  3.57it/s]"
          ]
        },
        {
          "output_type": "stream",
          "name": "stdout",
          "text": [
            ".-^-._.-^-._.-^-._.-^-._.-^-._.-^-._.-^-._.-^-._.-^-._.-^-._.-^-._.-^-._\n",
            "FINE-TUNING\n",
            "Epoch: 470 test rmse: 0.6574672 test mae: 0.5346011 test ndcg: 0.9654707020550396\n",
            "Epoch: 470 train rmse: 0.6574672 train mae: 0.5346011 train ndcg: 0.9654707020550396\n",
            "Precision@10: 0.012414965986394544 Recall@10: 0.041810433519617184 MAP: 0.029231723839972433\n",
            "Train Precision@10: 0.012414965986394544 Train Recall@10: 0.041810433519617184 Train MAP: 0.029231723839972433\n",
            "Time: 316.3752028942108 seconds\n",
            "Time cumulative: 114185.85621166229 seconds\n",
            ".-^-._.-^-._.-^-._.-^-._.-^-._.-^-._.-^-._.-^-._.-^-._.-^-._.-^-._.-^-._\n"
          ]
        },
        {
          "output_type": "stream",
          "name": "stderr",
          "text": [
            " 48%|████▊     | 481/1000 [02:34<02:20,  3.69it/s]"
          ]
        },
        {
          "output_type": "stream",
          "name": "stdout",
          "text": [
            ".-^-._.-^-._.-^-._.-^-._.-^-._.-^-._.-^-._.-^-._.-^-._.-^-._.-^-._.-^-._\n",
            "FINE-TUNING\n",
            "Epoch: 480 test rmse: 0.6537963 test mae: 0.5265832 test ndcg: 0.9646966599024236\n",
            "Epoch: 480 train rmse: 0.6537963 train mae: 0.5265832 train ndcg: 0.9646966599024236\n",
            "Precision@10: 0.013605442176870734 Recall@10: 0.046701300400279984 MAP: 0.028035955151364547\n",
            "Train Precision@10: 0.013605442176870734 Train Recall@10: 0.046701300400279984 Train MAP: 0.028035955151364547\n",
            "Time: 319.0885543823242 seconds\n",
            "Time cumulative: 117364.64937996864 seconds\n",
            ".-^-._.-^-._.-^-._.-^-._.-^-._.-^-._.-^-._.-^-._.-^-._.-^-._.-^-._.-^-._\n"
          ]
        },
        {
          "output_type": "stream",
          "name": "stderr",
          "text": [
            " 49%|████▉     | 491/1000 [02:36<02:19,  3.66it/s]"
          ]
        },
        {
          "output_type": "stream",
          "name": "stdout",
          "text": [
            ".-^-._.-^-._.-^-._.-^-._.-^-._.-^-._.-^-._.-^-._.-^-._.-^-._.-^-._.-^-._\n",
            "FINE-TUNING\n",
            "Epoch: 490 test rmse: 0.6589237 test mae: 0.53454894 test ndcg: 0.9651171179429089\n",
            "Epoch: 490 train rmse: 0.6589237 train mae: 0.53454894 train ndcg: 0.9651171179429089\n",
            "Precision@10: 0.012414965986394551 Recall@10: 0.04086775846979929 MAP: 0.03011971430538396\n",
            "Train Precision@10: 0.012414965986394551 Train Recall@10: 0.04086775846979929 Train MAP: 0.03011971430538396\n",
            "Time: 321.82665634155273 seconds\n",
            "Time cumulative: 120570.60104823112 seconds\n",
            ".-^-._.-^-._.-^-._.-^-._.-^-._.-^-._.-^-._.-^-._.-^-._.-^-._.-^-._.-^-._\n"
          ]
        },
        {
          "output_type": "stream",
          "name": "stderr",
          "text": [
            " 50%|█████     | 501/1000 [02:40<03:19,  2.50it/s]"
          ]
        },
        {
          "output_type": "stream",
          "name": "stdout",
          "text": [
            ".-^-._.-^-._.-^-._.-^-._.-^-._.-^-._.-^-._.-^-._.-^-._.-^-._.-^-._.-^-._\n",
            "FINE-TUNING\n",
            "Epoch: 500 test rmse: 0.65526056 test mae: 0.5289532 test ndcg: 0.9646470179010712\n",
            "Epoch: 500 train rmse: 0.65526056 train mae: 0.5289532 train ndcg: 0.9646470179010712\n",
            "Precision@10: 0.014455782312925158 Recall@10: 0.05467756449899306 MAP: 0.030323046579113003\n",
            "Train Precision@10: 0.014455782312925158 Train Recall@10: 0.05467756449899306 Train MAP: 0.030323046579113003\n",
            "Time: 325.02266669273376 seconds\n",
            "Time cumulative: 123804.76874184608 seconds\n",
            ".-^-._.-^-._.-^-._.-^-._.-^-._.-^-._.-^-._.-^-._.-^-._.-^-._.-^-._.-^-._\n"
          ]
        },
        {
          "output_type": "stream",
          "name": "stderr",
          "text": [
            " 51%|█████     | 511/1000 [02:43<02:29,  3.27it/s]"
          ]
        },
        {
          "output_type": "stream",
          "name": "stdout",
          "text": [
            ".-^-._.-^-._.-^-._.-^-._.-^-._.-^-._.-^-._.-^-._.-^-._.-^-._.-^-._.-^-._\n",
            "FINE-TUNING\n",
            "Epoch: 510 test rmse: 0.6580851 test mae: 0.53188485 test ndcg: 0.963362962738997\n",
            "Epoch: 510 train rmse: 0.6580851 train mae: 0.53188485 train ndcg: 0.963362962738997\n",
            "Precision@10: 0.012074829931972777 Recall@10: 0.0433741570221162 MAP: 0.027185538181505296\n",
            "Train Precision@10: 0.012074829931972777 Train Recall@10: 0.0433741570221162 Train MAP: 0.027185538181505296\n",
            "Time: 328.90214467048645 seconds\n",
            "Time cumulative: 127078.42032909393 seconds\n",
            ".-^-._.-^-._.-^-._.-^-._.-^-._.-^-._.-^-._.-^-._.-^-._.-^-._.-^-._.-^-._\n"
          ]
        },
        {
          "output_type": "stream",
          "name": "stderr",
          "text": [
            " 52%|█████▏    | 521/1000 [02:46<02:09,  3.69it/s]"
          ]
        },
        {
          "output_type": "stream",
          "name": "stdout",
          "text": [
            ".-^-._.-^-._.-^-._.-^-._.-^-._.-^-._.-^-._.-^-._.-^-._.-^-._.-^-._.-^-._\n",
            "FINE-TUNING\n",
            "Epoch: 520 test rmse: 0.65841615 test mae: 0.5339447 test ndcg: 0.9646395444718325\n",
            "Epoch: 520 train rmse: 0.65841615 train mae: 0.5339447 train ndcg: 0.9646395444718325\n",
            "Precision@10: 0.015986394557823108 Recall@10: 0.05311658296352174 MAP: 0.028951052720017027\n",
            "Train Precision@10: 0.015986394557823108 Train Recall@10: 0.05311658296352174 Train MAP: 0.028951052720017027\n",
            "Time: 331.6283550262451 seconds\n",
            "Time cumulative: 130382.44832539558 seconds\n",
            ".-^-._.-^-._.-^-._.-^-._.-^-._.-^-._.-^-._.-^-._.-^-._.-^-._.-^-._.-^-._\n"
          ]
        },
        {
          "output_type": "stream",
          "name": "stderr",
          "text": [
            " 53%|█████▎    | 531/1000 [02:49<02:04,  3.75it/s]"
          ]
        },
        {
          "output_type": "stream",
          "name": "stdout",
          "text": [
            ".-^-._.-^-._.-^-._.-^-._.-^-._.-^-._.-^-._.-^-._.-^-._.-^-._.-^-._.-^-._\n",
            "FINE-TUNING\n",
            "Epoch: 530 test rmse: 0.65639335 test mae: 0.5299185 test ndcg: 0.9639576401985752\n",
            "Epoch: 530 train rmse: 0.65639335 train mae: 0.5299185 train ndcg: 0.9639576401985752\n",
            "Precision@10: 0.015646258503401338 Recall@10: 0.05437663243785692 MAP: 0.03495699638473287\n",
            "Train Precision@10: 0.015646258503401338 Train Recall@10: 0.05437663243785692 Train MAP: 0.03495699638473287\n",
            "Time: 334.3131949901581 seconds\n",
            "Time cumulative: 133713.59354901314 seconds\n",
            ".-^-._.-^-._.-^-._.-^-._.-^-._.-^-._.-^-._.-^-._.-^-._.-^-._.-^-._.-^-._\n"
          ]
        },
        {
          "output_type": "stream",
          "name": "stderr",
          "text": [
            " 54%|█████▍    | 541/1000 [02:52<02:07,  3.60it/s]"
          ]
        },
        {
          "output_type": "stream",
          "name": "stdout",
          "text": [
            ".-^-._.-^-._.-^-._.-^-._.-^-._.-^-._.-^-._.-^-._.-^-._.-^-._.-^-._.-^-._\n",
            "FINE-TUNING\n",
            "Epoch: 540 test rmse: 0.6609604 test mae: 0.5361581 test ndcg: 0.965222720907109\n",
            "Epoch: 540 train rmse: 0.6609604 train mae: 0.5361581 train ndcg: 0.965222720907109\n",
            "Precision@10: 0.014965986394557805 Recall@10: 0.04837156890728319 MAP: 0.03195604008581143\n",
            "Train Precision@10: 0.014965986394557805 Train Recall@10: 0.04837156890728319 Train MAP: 0.03195604008581143\n",
            "Time: 337.02990078926086 seconds\n",
            "Time cumulative: 137071.693046093 seconds\n",
            ".-^-._.-^-._.-^-._.-^-._.-^-._.-^-._.-^-._.-^-._.-^-._.-^-._.-^-._.-^-._\n"
          ]
        },
        {
          "output_type": "stream",
          "name": "stderr",
          "text": [
            " 55%|█████▌    | 551/1000 [02:56<03:21,  2.23it/s]"
          ]
        },
        {
          "output_type": "stream",
          "name": "stdout",
          "text": [
            ".-^-._.-^-._.-^-._.-^-._.-^-._.-^-._.-^-._.-^-._.-^-._.-^-._.-^-._.-^-._\n",
            "FINE-TUNING\n",
            "Epoch: 550 test rmse: 0.6593581 test mae: 0.5336344 test ndcg: 0.9660629046470173\n",
            "Epoch: 550 train rmse: 0.6593581 train mae: 0.5336344 train ndcg: 0.9660629046470173\n",
            "Precision@10: 0.014285714285714271 Recall@10: 0.05465991397113844 MAP: 0.028640498739579138\n",
            "Train Precision@10: 0.014285714285714271 Train Recall@10: 0.05465991397113844 Train MAP: 0.028640498739579138\n",
            "Time: 341.0470550060272 seconds\n",
            "Time cumulative: 140462.34095788002 seconds\n",
            ".-^-._.-^-._.-^-._.-^-._.-^-._.-^-._.-^-._.-^-._.-^-._.-^-._.-^-._.-^-._\n"
          ]
        },
        {
          "output_type": "stream",
          "name": "stderr",
          "text": [
            " 56%|█████▌    | 561/1000 [02:59<02:04,  3.52it/s]"
          ]
        },
        {
          "output_type": "stream",
          "name": "stdout",
          "text": [
            ".-^-._.-^-._.-^-._.-^-._.-^-._.-^-._.-^-._.-^-._.-^-._.-^-._.-^-._.-^-._\n",
            "FINE-TUNING\n",
            "Epoch: 560 test rmse: 0.6611491 test mae: 0.5362048 test ndcg: 0.9643646635839339\n",
            "Epoch: 560 train rmse: 0.6611491 train mae: 0.5362048 train ndcg: 0.9643646635839339\n",
            "Precision@10: 0.01326530612244897 Recall@10: 0.045264434167495385 MAP: 0.03560203731500963\n",
            "Train Precision@10: 0.01326530612244897 Train Recall@10: 0.045264434167495385 Train MAP: 0.03560203731500963\n",
            "Time: 344.30617928504944 seconds\n",
            "Time cumulative: 143892.72700285912 seconds\n",
            ".-^-._.-^-._.-^-._.-^-._.-^-._.-^-._.-^-._.-^-._.-^-._.-^-._.-^-._.-^-._\n"
          ]
        },
        {
          "output_type": "stream",
          "name": "stderr",
          "text": [
            " 57%|█████▋    | 571/1000 [03:02<01:55,  3.72it/s]"
          ]
        },
        {
          "output_type": "stream",
          "name": "stdout",
          "text": [
            ".-^-._.-^-._.-^-._.-^-._.-^-._.-^-._.-^-._.-^-._.-^-._.-^-._.-^-._.-^-._\n",
            "FINE-TUNING\n",
            "Epoch: 570 test rmse: 0.6599682 test mae: 0.5339382 test ndcg: 0.9642409618149552\n",
            "Epoch: 570 train rmse: 0.6599682 train mae: 0.5339382 train ndcg: 0.9642409618149552\n",
            "Precision@10: 0.014285714285714268 Recall@10: 0.05677821800270778 MAP: 0.03985656147291406\n",
            "Train Precision@10: 0.014285714285714268 Train Recall@10: 0.05677821800270778 Train MAP: 0.03985656147291406\n",
            "Time: 347.0246832370758 seconds\n",
            "Time cumulative: 147350.87379837036 seconds\n",
            ".-^-._.-^-._.-^-._.-^-._.-^-._.-^-._.-^-._.-^-._.-^-._.-^-._.-^-._.-^-._\n"
          ]
        },
        {
          "output_type": "stream",
          "name": "stderr",
          "text": [
            " 58%|█████▊    | 581/1000 [03:04<02:00,  3.47it/s]"
          ]
        },
        {
          "output_type": "stream",
          "name": "stdout",
          "text": [
            ".-^-._.-^-._.-^-._.-^-._.-^-._.-^-._.-^-._.-^-._.-^-._.-^-._.-^-._.-^-._\n",
            "FINE-TUNING\n",
            "Epoch: 580 test rmse: 0.6595444 test mae: 0.53268534 test ndcg: 0.9644058155852985\n",
            "Epoch: 580 train rmse: 0.6595444 train mae: 0.53268534 train ndcg: 0.9644058155852985\n",
            "Precision@10: 0.011734693877551008 Recall@10: 0.045585508595712664 MAP: 0.027423276928163064\n",
            "Train Precision@10: 0.011734693877551008 Train Recall@10: 0.045585508595712664 Train MAP: 0.027423276928163064\n",
            "Time: 349.78692388534546 seconds\n",
            "Time cumulative: 150836.09381699562 seconds\n",
            ".-^-._.-^-._.-^-._.-^-._.-^-._.-^-._.-^-._.-^-._.-^-._.-^-._.-^-._.-^-._\n"
          ]
        },
        {
          "output_type": "stream",
          "name": "stderr",
          "text": [
            " 59%|█████▉    | 591/1000 [03:07<02:25,  2.81it/s]"
          ]
        },
        {
          "output_type": "stream",
          "name": "stdout",
          "text": [
            ".-^-._.-^-._.-^-._.-^-._.-^-._.-^-._.-^-._.-^-._.-^-._.-^-._.-^-._.-^-._\n",
            "FINE-TUNING\n",
            "Epoch: 590 test rmse: 0.65843105 test mae: 0.53089905 test ndcg: 0.9659242226311355\n",
            "Epoch: 590 train rmse: 0.65843105 train mae: 0.53089905 train ndcg: 0.9659242226311355\n",
            "Precision@10: 0.013265306122448965 Recall@10: 0.05414445720568169 MAP: 0.03139901605416921\n",
            "Train Precision@10: 0.013265306122448965 Train Recall@10: 0.05414445720568169 Train MAP: 0.03139901605416921\n",
            "Time: 352.7229619026184 seconds\n",
            "Time cumulative: 154349.47205996513 seconds\n",
            ".-^-._.-^-._.-^-._.-^-._.-^-._.-^-._.-^-._.-^-._.-^-._.-^-._.-^-._.-^-._\n"
          ]
        },
        {
          "output_type": "stream",
          "name": "stderr",
          "text": [
            " 60%|██████    | 601/1000 [03:12<02:19,  2.87it/s]"
          ]
        },
        {
          "output_type": "stream",
          "name": "stdout",
          "text": [
            ".-^-._.-^-._.-^-._.-^-._.-^-._.-^-._.-^-._.-^-._.-^-._.-^-._.-^-._.-^-._\n",
            "FINE-TUNING\n",
            "Epoch: 600 test rmse: 0.6583765 test mae: 0.53056467 test ndcg: 0.9650302162855389\n",
            "Epoch: 600 train rmse: 0.6583765 train mae: 0.53056467 train ndcg: 0.9650302162855389\n",
            "Precision@10: 0.014115646258503384 Recall@10: 0.05234649137710361 MAP: 0.029874974784735955\n",
            "Train Precision@10: 0.014115646258503384 Train Recall@10: 0.05234649137710361 Train MAP: 0.029874974784735955\n",
            "Time: 357.0385031700134 seconds\n",
            "Time cumulative: 157901.53515267372 seconds\n",
            ".-^-._.-^-._.-^-._.-^-._.-^-._.-^-._.-^-._.-^-._.-^-._.-^-._.-^-._.-^-._\n"
          ]
        },
        {
          "output_type": "stream",
          "name": "stderr",
          "text": [
            " 61%|██████    | 611/1000 [03:14<01:50,  3.53it/s]"
          ]
        },
        {
          "output_type": "stream",
          "name": "stdout",
          "text": [
            ".-^-._.-^-._.-^-._.-^-._.-^-._.-^-._.-^-._.-^-._.-^-._.-^-._.-^-._.-^-._\n",
            "FINE-TUNING\n",
            "Epoch: 610 test rmse: 0.6620337 test mae: 0.5358437 test ndcg: 0.9653115959029763\n",
            "Epoch: 610 train rmse: 0.6620337 train mae: 0.5358437 train ndcg: 0.9653115959029763\n",
            "Precision@10: 0.012585034013605428 Recall@10: 0.04396260391158349 MAP: 0.02697615825115869\n",
            "Train Precision@10: 0.012585034013605428 Train Recall@10: 0.04396260391158349 Train MAP: 0.02697615825115869\n",
            "Time: 359.77179050445557 seconds\n",
            "Time cumulative: 161486.96896982193 seconds\n",
            ".-^-._.-^-._.-^-._.-^-._.-^-._.-^-._.-^-._.-^-._.-^-._.-^-._.-^-._.-^-._\n"
          ]
        },
        {
          "output_type": "stream",
          "name": "stderr",
          "text": [
            " 62%|██████▏   | 621/1000 [03:17<01:44,  3.64it/s]"
          ]
        },
        {
          "output_type": "stream",
          "name": "stdout",
          "text": [
            ".-^-._.-^-._.-^-._.-^-._.-^-._.-^-._.-^-._.-^-._.-^-._.-^-._.-^-._.-^-._\n",
            "FINE-TUNING\n",
            "Epoch: 620 test rmse: 0.6605505 test mae: 0.5333873 test ndcg: 0.9651315948088365\n",
            "Epoch: 620 train rmse: 0.6605505 train mae: 0.5333873 train ndcg: 0.9651315948088365\n",
            "Precision@10: 0.01377551020408162 Recall@10: 0.046751750705832325 MAP: 0.030700481850849403\n",
            "Train Precision@10: 0.01377551020408162 Train Recall@10: 0.046751750705832325 Train MAP: 0.030700481850849403\n",
            "Time: 362.54618072509766 seconds\n",
            "Time cumulative: 165100.20664429665 seconds\n",
            ".-^-._.-^-._.-^-._.-^-._.-^-._.-^-._.-^-._.-^-._.-^-._.-^-._.-^-._.-^-._\n"
          ]
        },
        {
          "output_type": "stream",
          "name": "stderr",
          "text": [
            " 63%|██████▎   | 631/1000 [03:20<01:41,  3.65it/s]"
          ]
        },
        {
          "output_type": "stream",
          "name": "stdout",
          "text": [
            ".-^-._.-^-._.-^-._.-^-._.-^-._.-^-._.-^-._.-^-._.-^-._.-^-._.-^-._.-^-._\n",
            "FINE-TUNING\n",
            "Epoch: 630 test rmse: 0.6611379 test mae: 0.5354049 test ndcg: 0.9638692490997722\n",
            "Epoch: 630 train rmse: 0.6611379 train mae: 0.5354049 train ndcg: 0.9638692490997722\n",
            "Precision@10: 0.01122448979591836 Recall@10: 0.037813731053526964 MAP: 0.029045558280741002\n",
            "Train Precision@10: 0.01122448979591836 Train Recall@10: 0.037813731053526964 Train MAP: 0.029045558280741002\n",
            "Time: 365.3161768913269 seconds\n",
            "Time cumulative: 168741.014854908 seconds\n",
            ".-^-._.-^-._.-^-._.-^-._.-^-._.-^-._.-^-._.-^-._.-^-._.-^-._.-^-._.-^-._\n"
          ]
        },
        {
          "output_type": "stream",
          "name": "stderr",
          "text": [
            " 64%|██████▍   | 641/1000 [03:24<02:39,  2.25it/s]"
          ]
        },
        {
          "output_type": "stream",
          "name": "stdout",
          "text": [
            ".-^-._.-^-._.-^-._.-^-._.-^-._.-^-._.-^-._.-^-._.-^-._.-^-._.-^-._.-^-._\n",
            "FINE-TUNING\n",
            "Epoch: 640 test rmse: 0.664108 test mae: 0.53845304 test ndcg: 0.9653617101747048\n",
            "Epoch: 640 train rmse: 0.664108 train mae: 0.53845304 train ndcg: 0.9653617101747048\n",
            "Precision@10: 0.014795918367346922 Recall@10: 0.05253737664451949 MAP: 0.029180014565659988\n",
            "Train Precision@10: 0.014795918367346922 Train Recall@10: 0.05253737664451949 Train MAP: 0.029180014565659988\n",
            "Time: 369.01191759109497 seconds\n",
            "Time cumulative: 172412.40322756767 seconds\n",
            ".-^-._.-^-._.-^-._.-^-._.-^-._.-^-._.-^-._.-^-._.-^-._.-^-._.-^-._.-^-._\n"
          ]
        },
        {
          "output_type": "stream",
          "name": "stderr",
          "text": [
            " 65%|██████▌   | 651/1000 [03:27<01:47,  3.24it/s]"
          ]
        },
        {
          "output_type": "stream",
          "name": "stdout",
          "text": [
            ".-^-._.-^-._.-^-._.-^-._.-^-._.-^-._.-^-._.-^-._.-^-._.-^-._.-^-._.-^-._\n",
            "FINE-TUNING\n",
            "Epoch: 650 test rmse: 0.6621697 test mae: 0.53583926 test ndcg: 0.9653897159764211\n",
            "Epoch: 650 train rmse: 0.6621697 train mae: 0.53583926 train ndcg: 0.9653897159764211\n",
            "Precision@10: 0.01377551020408162 Recall@10: 0.04534997787548807 MAP: 0.03122534730923201\n",
            "Train Precision@10: 0.01377551020408162 Train Recall@10: 0.04534997787548807 Train MAP: 0.03122534730923201\n",
            "Time: 372.87173104286194 seconds\n",
            "Time cumulative: 176125.9676091671 seconds\n",
            ".-^-._.-^-._.-^-._.-^-._.-^-._.-^-._.-^-._.-^-._.-^-._.-^-._.-^-._.-^-._\n"
          ]
        },
        {
          "output_type": "stream",
          "name": "stderr",
          "text": [
            " 66%|██████▌   | 661/1000 [03:30<01:34,  3.58it/s]"
          ]
        },
        {
          "output_type": "stream",
          "name": "stdout",
          "text": [
            ".-^-._.-^-._.-^-._.-^-._.-^-._.-^-._.-^-._.-^-._.-^-._.-^-._.-^-._.-^-._\n",
            "FINE-TUNING\n",
            "Epoch: 660 test rmse: 0.66151845 test mae: 0.5352194 test ndcg: 0.9651102738247073\n",
            "Epoch: 660 train rmse: 0.66151845 train mae: 0.5352194 train ndcg: 0.9651102738247073\n",
            "Precision@10: 0.015306122448979574 Recall@10: 0.05201637459290518 MAP: 0.032867074809299464\n",
            "Train Precision@10: 0.015306122448979574 Train Recall@10: 0.05201637459290518 Train MAP: 0.032867074809299464\n",
            "Time: 375.6905200481415 seconds\n",
            "Time cumulative: 179870.19228720665 seconds\n",
            ".-^-._.-^-._.-^-._.-^-._.-^-._.-^-._.-^-._.-^-._.-^-._.-^-._.-^-._.-^-._\n"
          ]
        },
        {
          "output_type": "stream",
          "name": "stderr",
          "text": [
            " 67%|██████▋   | 671/1000 [03:33<01:31,  3.59it/s]"
          ]
        },
        {
          "output_type": "stream",
          "name": "stdout",
          "text": [
            ".-^-._.-^-._.-^-._.-^-._.-^-._.-^-._.-^-._.-^-._.-^-._.-^-._.-^-._.-^-._\n",
            "FINE-TUNING\n",
            "Epoch: 670 test rmse: 0.6627834 test mae: 0.53565615 test ndcg: 0.9650913922093118\n",
            "Epoch: 670 train rmse: 0.6627834 train mae: 0.53565615 train ndcg: 0.9650913922093118\n",
            "Precision@10: 0.011564625850340127 Recall@10: 0.037403002326471715 MAP: 0.03011749246497486\n",
            "Train Precision@10: 0.011564625850340127 Train Recall@10: 0.037403002326471715 Train MAP: 0.03011749246497486\n",
            "Time: 378.41988801956177 seconds\n",
            "Time cumulative: 183642.19135141373 seconds\n",
            ".-^-._.-^-._.-^-._.-^-._.-^-._.-^-._.-^-._.-^-._.-^-._.-^-._.-^-._.-^-._\n"
          ]
        },
        {
          "output_type": "stream",
          "name": "stderr",
          "text": [
            " 68%|██████▊   | 681/1000 [03:36<01:55,  2.77it/s]"
          ]
        },
        {
          "output_type": "stream",
          "name": "stdout",
          "text": [
            ".-^-._.-^-._.-^-._.-^-._.-^-._.-^-._.-^-._.-^-._.-^-._.-^-._.-^-._.-^-._\n",
            "FINE-TUNING\n",
            "Epoch: 680 test rmse: 0.6626792 test mae: 0.53562695 test ndcg: 0.9654337759018905\n",
            "Epoch: 680 train rmse: 0.6626792 train mae: 0.53562695 train ndcg: 0.9654337759018905\n",
            "Precision@10: 0.013605442176870734 Recall@10: 0.04428515079025281 MAP: 0.027077943367246993\n",
            "Train Precision@10: 0.013605442176870734 Train Recall@10: 0.04428515079025281 Train MAP: 0.027077943367246993\n",
            "Time: 381.3527820110321 seconds\n",
            "Time cumulative: 187441.8765964508 seconds\n",
            ".-^-._.-^-._.-^-._.-^-._.-^-._.-^-._.-^-._.-^-._.-^-._.-^-._.-^-._.-^-._\n"
          ]
        },
        {
          "output_type": "stream",
          "name": "stderr",
          "text": [
            " 69%|██████▉   | 691/1000 [03:40<01:44,  2.95it/s]"
          ]
        },
        {
          "output_type": "stream",
          "name": "stdout",
          "text": [
            ".-^-._.-^-._.-^-._.-^-._.-^-._.-^-._.-^-._.-^-._.-^-._.-^-._.-^-._.-^-._\n",
            "FINE-TUNING\n",
            "Epoch: 690 test rmse: 0.6647018 test mae: 0.5374955 test ndcg: 0.963692363190527\n",
            "Epoch: 690 train rmse: 0.6647018 train mae: 0.5374955 train ndcg: 0.963692363190527\n",
            "Precision@10: 0.013945578231292506 Recall@10: 0.044467201354956444 MAP: 0.03286624563435014\n",
            "Train Precision@10: 0.013945578231292506 Train Recall@10: 0.044467201354956444 Train MAP: 0.03286624563435014\n",
            "Time: 385.54431772232056 seconds\n",
            "Time cumulative: 191279.63757276535 seconds\n",
            ".-^-._.-^-._.-^-._.-^-._.-^-._.-^-._.-^-._.-^-._.-^-._.-^-._.-^-._.-^-._\n"
          ]
        },
        {
          "output_type": "stream",
          "name": "stderr",
          "text": [
            " 70%|███████   | 701/1000 [03:43<01:21,  3.65it/s]"
          ]
        },
        {
          "output_type": "stream",
          "name": "stdout",
          "text": [
            ".-^-._.-^-._.-^-._.-^-._.-^-._.-^-._.-^-._.-^-._.-^-._.-^-._.-^-._.-^-._\n",
            "FINE-TUNING\n",
            "Epoch: 700 test rmse: 0.65987396 test mae: 0.5321861 test ndcg: 0.9641779352061095\n",
            "Epoch: 700 train rmse: 0.65987396 train mae: 0.5321861 train ndcg: 0.9641779352061095\n",
            "Precision@10: 0.014285714285714275 Recall@10: 0.044845130304313974 MAP: 0.02831144613343262\n",
            "Train Precision@10: 0.014285714285714275 Train Recall@10: 0.044845130304313974 Train MAP: 0.02831144613343262\n",
            "Time: 388.2653503417969 seconds\n",
            "Time cumulative: 195150.08542084694 seconds\n",
            ".-^-._.-^-._.-^-._.-^-._.-^-._.-^-._.-^-._.-^-._.-^-._.-^-._.-^-._.-^-._\n"
          ]
        },
        {
          "output_type": "stream",
          "name": "stderr",
          "text": [
            " 71%|███████   | 711/1000 [03:46<01:18,  3.66it/s]"
          ]
        },
        {
          "output_type": "stream",
          "name": "stdout",
          "text": [
            ".-^-._.-^-._.-^-._.-^-._.-^-._.-^-._.-^-._.-^-._.-^-._.-^-._.-^-._.-^-._\n",
            "FINE-TUNING\n",
            "Epoch: 710 test rmse: 0.66258997 test mae: 0.53593415 test ndcg: 0.9647391349281816\n",
            "Epoch: 710 train rmse: 0.66258997 train mae: 0.53593415 train ndcg: 0.9647391349281816\n",
            "Precision@10: 0.012755102040816315 Recall@10: 0.04419117824730069 MAP: 0.02579080133755252\n",
            "Train Precision@10: 0.012755102040816315 Train Recall@10: 0.04419117824730069 Train MAP: 0.02579080133755252\n",
            "Time: 390.98347878456116 seconds\n",
            "Time cumulative: 199047.8093559742 seconds\n",
            ".-^-._.-^-._.-^-._.-^-._.-^-._.-^-._.-^-._.-^-._.-^-._.-^-._.-^-._.-^-._\n"
          ]
        },
        {
          "output_type": "stream",
          "name": "stderr",
          "text": [
            " 72%|███████▏  | 721/1000 [03:48<01:15,  3.69it/s]"
          ]
        },
        {
          "output_type": "stream",
          "name": "stdout",
          "text": [
            ".-^-._.-^-._.-^-._.-^-._.-^-._.-^-._.-^-._.-^-._.-^-._.-^-._.-^-._.-^-._\n",
            "FINE-TUNING\n",
            "Epoch: 720 test rmse: 0.66187 test mae: 0.5343703 test ndcg: 0.9639425995301254\n",
            "Epoch: 720 train rmse: 0.66187 train mae: 0.5343703 train ndcg: 0.9639425995301254\n",
            "Precision@10: 0.013435374149659854 Recall@10: 0.04294542381277076 MAP: 0.02502053579470123\n",
            "Train Precision@10: 0.013435374149659854 Train Recall@10: 0.04294542381277076 Train MAP: 0.02502053579470123\n",
            "Time: 393.68783926963806 seconds\n",
            "Time cumulative: 202972.6525132656 seconds\n",
            ".-^-._.-^-._.-^-._.-^-._.-^-._.-^-._.-^-._.-^-._.-^-._.-^-._.-^-._.-^-._\n"
          ]
        },
        {
          "output_type": "stream",
          "name": "stderr",
          "text": [
            " 73%|███████▎  | 731/1000 [03:52<01:57,  2.29it/s]"
          ]
        },
        {
          "output_type": "stream",
          "name": "stdout",
          "text": [
            ".-^-._.-^-._.-^-._.-^-._.-^-._.-^-._.-^-._.-^-._.-^-._.-^-._.-^-._.-^-._\n",
            "FINE-TUNING\n",
            "Epoch: 730 test rmse: 0.6627297 test mae: 0.53600514 test ndcg: 0.9637982817290108\n",
            "Epoch: 730 train rmse: 0.6627297 train mae: 0.53600514 train ndcg: 0.9637982817290108\n",
            "Precision@10: 0.01003401360544217 Recall@10: 0.03631825468560162 MAP: 0.023501344222234724\n",
            "Train Precision@10: 0.01003401360544217 Train Recall@10: 0.03631825468560162 Train MAP: 0.023501344222234724\n",
            "Time: 397.33376479148865 seconds\n",
            "Time cumulative: 206927.4127345085 seconds\n",
            ".-^-._.-^-._.-^-._.-^-._.-^-._.-^-._.-^-._.-^-._.-^-._.-^-._.-^-._.-^-._\n"
          ]
        },
        {
          "output_type": "stream",
          "name": "stderr",
          "text": [
            " 74%|███████▍  | 741/1000 [03:56<01:15,  3.45it/s]"
          ]
        },
        {
          "output_type": "stream",
          "name": "stdout",
          "text": [
            ".-^-._.-^-._.-^-._.-^-._.-^-._.-^-._.-^-._.-^-._.-^-._.-^-._.-^-._.-^-._\n",
            "FINE-TUNING\n",
            "Epoch: 740 test rmse: 0.6621965 test mae: 0.5361737 test ndcg: 0.9628492582148926\n",
            "Epoch: 740 train rmse: 0.6621965 train mae: 0.5361737 train ndcg: 0.9628492582148926\n",
            "Precision@10: 0.010034013605442172 Recall@10: 0.028496597884352985 MAP: 0.023781303863840194\n",
            "Train Precision@10: 0.010034013605442172 Train Recall@10: 0.028496597884352985 Train MAP: 0.023781303863840194\n",
            "Time: 400.9170138835907 seconds\n",
            "Time cumulative: 210922.86769127846 seconds\n",
            ".-^-._.-^-._.-^-._.-^-._.-^-._.-^-._.-^-._.-^-._.-^-._.-^-._.-^-._.-^-._\n"
          ]
        },
        {
          "output_type": "stream",
          "name": "stderr",
          "text": [
            " 75%|███████▌  | 751/1000 [04:00<02:10,  1.91it/s]"
          ]
        },
        {
          "output_type": "stream",
          "name": "stdout",
          "text": [
            ".-^-._.-^-._.-^-._.-^-._.-^-._.-^-._.-^-._.-^-._.-^-._.-^-._.-^-._.-^-._\n",
            "FINE-TUNING\n",
            "Epoch: 750 test rmse: 0.6638132 test mae: 0.5369262 test ndcg: 0.9643271000449012\n",
            "Epoch: 750 train rmse: 0.6638132 train mae: 0.5369262 train ndcg: 0.9643271000449012\n",
            "Precision@10: 0.00952380952380952 Recall@10: 0.033863741134149306 MAP: 0.022927462031402297\n",
            "Train Precision@10: 0.00952380952380952 Train Recall@10: 0.033863741134149306 Train MAP: 0.022927462031402297\n",
            "Time: 405.18950605392456 seconds\n",
            "Time cumulative: 214950.777271986 seconds\n",
            ".-^-._.-^-._.-^-._.-^-._.-^-._.-^-._.-^-._.-^-._.-^-._.-^-._.-^-._.-^-._\n"
          ]
        },
        {
          "output_type": "stream",
          "name": "stderr",
          "text": [
            " 76%|███████▌  | 761/1000 [04:03<01:07,  3.52it/s]"
          ]
        },
        {
          "output_type": "stream",
          "name": "stdout",
          "text": [
            ".-^-._.-^-._.-^-._.-^-._.-^-._.-^-._.-^-._.-^-._.-^-._.-^-._.-^-._.-^-._\n",
            "FINE-TUNING\n",
            "Epoch: 760 test rmse: 0.66190755 test mae: 0.53460485 test ndcg: 0.9634846661585698\n",
            "Epoch: 760 train rmse: 0.66190755 train mae: 0.53460485 train ndcg: 0.9634846661585698\n",
            "Precision@10: 0.010884353741496591 Recall@10: 0.03466825124988391 MAP: 0.031885336579706505\n",
            "Train Precision@10: 0.010884353741496591 Train Recall@10: 0.03466825124988391 Train MAP: 0.031885336579706505\n",
            "Time: 408.0442142486572 seconds\n",
            "Time cumulative: 219018.84919309616 seconds\n",
            ".-^-._.-^-._.-^-._.-^-._.-^-._.-^-._.-^-._.-^-._.-^-._.-^-._.-^-._.-^-._\n"
          ]
        },
        {
          "output_type": "stream",
          "name": "stderr",
          "text": [
            " 77%|███████▋  | 771/1000 [04:07<01:49,  2.08it/s]"
          ]
        },
        {
          "output_type": "stream",
          "name": "stdout",
          "text": [
            ".-^-._.-^-._.-^-._.-^-._.-^-._.-^-._.-^-._.-^-._.-^-._.-^-._.-^-._.-^-._\n",
            "FINE-TUNING\n",
            "Epoch: 770 test rmse: 0.66371727 test mae: 0.537938 test ndcg: 0.9629153031058993\n",
            "Epoch: 770 train rmse: 0.66371727 train mae: 0.537938 train ndcg: 0.9629153031058993\n",
            "Precision@10: 0.01122448979591836 Recall@10: 0.035044726626359275 MAP: 0.025781981767614807\n",
            "Train Precision@10: 0.01122448979591836 Train Recall@10: 0.035044726626359275 Train MAP: 0.025781981767614807\n",
            "Time: 412.5626871585846 seconds\n",
            "Time cumulative: 223121.73505663872 seconds\n",
            ".-^-._.-^-._.-^-._.-^-._.-^-._.-^-._.-^-._.-^-._.-^-._.-^-._.-^-._.-^-._\n"
          ]
        },
        {
          "output_type": "stream",
          "name": "stderr",
          "text": [
            " 78%|███████▊  | 781/1000 [04:10<01:00,  3.62it/s]"
          ]
        },
        {
          "output_type": "stream",
          "name": "stdout",
          "text": [
            ".-^-._.-^-._.-^-._.-^-._.-^-._.-^-._.-^-._.-^-._.-^-._.-^-._.-^-._.-^-._\n",
            "FINE-TUNING\n",
            "Epoch: 780 test rmse: 0.65991074 test mae: 0.5321615 test ndcg: 0.963434169758017\n",
            "Epoch: 780 train rmse: 0.65991074 train mae: 0.5321615 train ndcg: 0.963434169758017\n",
            "Precision@10: 0.011394557823129245 Recall@10: 0.03423622862398372 MAP: 0.029156165694912712\n",
            "Train Precision@10: 0.011394557823129245 Train Recall@10: 0.03423622862398372 Train MAP: 0.029156165694912712\n",
            "Time: 415.67387652397156 seconds\n",
            "Time cumulative: 227266.02464485168 seconds\n",
            ".-^-._.-^-._.-^-._.-^-._.-^-._.-^-._.-^-._.-^-._.-^-._.-^-._.-^-._.-^-._\n"
          ]
        },
        {
          "output_type": "stream",
          "name": "stderr",
          "text": [
            " 79%|███████▉  | 791/1000 [04:13<00:56,  3.70it/s]"
          ]
        },
        {
          "output_type": "stream",
          "name": "stdout",
          "text": [
            ".-^-._.-^-._.-^-._.-^-._.-^-._.-^-._.-^-._.-^-._.-^-._.-^-._.-^-._.-^-._\n",
            "FINE-TUNING\n",
            "Epoch: 790 test rmse: 0.66371053 test mae: 0.5370445 test ndcg: 0.9629195026114683\n",
            "Epoch: 790 train rmse: 0.66371053 train mae: 0.5370445 train ndcg: 0.9629195026114683\n",
            "Precision@10: 0.013265306122448969 Recall@10: 0.04057267373593903 MAP: 0.03164664737477408\n",
            "Train Precision@10: 0.013265306122448969 Train Recall@10: 0.04057267373593903 Train MAP: 0.03164664737477408\n",
            "Time: 418.3955705165863 seconds\n",
            "Time cumulative: 231437.76358056068 seconds\n",
            ".-^-._.-^-._.-^-._.-^-._.-^-._.-^-._.-^-._.-^-._.-^-._.-^-._.-^-._.-^-._\n"
          ]
        },
        {
          "output_type": "stream",
          "name": "stderr",
          "text": [
            " 80%|████████  | 801/1000 [04:16<00:55,  3.61it/s]"
          ]
        },
        {
          "output_type": "stream",
          "name": "stdout",
          "text": [
            ".-^-._.-^-._.-^-._.-^-._.-^-._.-^-._.-^-._.-^-._.-^-._.-^-._.-^-._.-^-._\n",
            "FINE-TUNING\n",
            "Epoch: 800 test rmse: 0.66126555 test mae: 0.5329812 test ndcg: 0.9637857279255294\n",
            "Epoch: 800 train rmse: 0.66126555 train mae: 0.5329812 train ndcg: 0.9637857279255294\n",
            "Precision@10: 0.010884353741496594 Recall@10: 0.03374970645378809 MAP: 0.027057205927291415\n",
            "Train Precision@10: 0.010884353741496594 Train Recall@10: 0.03374970645378809 Train MAP: 0.027057205927291415\n",
            "Time: 421.1079421043396 seconds\n",
            "Time cumulative: 235636.64282298088 seconds\n",
            ".-^-._.-^-._.-^-._.-^-._.-^-._.-^-._.-^-._.-^-._.-^-._.-^-._.-^-._.-^-._\n"
          ]
        },
        {
          "output_type": "stream",
          "name": "stderr",
          "text": [
            " 81%|████████  | 811/1000 [04:19<01:12,  2.62it/s]"
          ]
        },
        {
          "output_type": "stream",
          "name": "stdout",
          "text": [
            ".-^-._.-^-._.-^-._.-^-._.-^-._.-^-._.-^-._.-^-._.-^-._.-^-._.-^-._.-^-._\n",
            "FINE-TUNING\n",
            "Epoch: 810 test rmse: 0.6623673 test mae: 0.5365621 test ndcg: 0.963785269861691\n",
            "Epoch: 810 train rmse: 0.6623673 train mae: 0.5365621 train ndcg: 0.963785269861691\n",
            "Precision@10: 0.013435374149659857 Recall@10: 0.04014069358457114 MAP: 0.031056671187161468\n",
            "Train Precision@10: 0.013435374149659857 Train Recall@10: 0.04014069358457114 Train MAP: 0.031056671187161468\n",
            "Time: 424.194135427475 seconds\n",
            "Time cumulative: 239863.53511714935 seconds\n",
            ".-^-._.-^-._.-^-._.-^-._.-^-._.-^-._.-^-._.-^-._.-^-._.-^-._.-^-._.-^-._\n"
          ]
        },
        {
          "output_type": "stream",
          "name": "stderr",
          "text": [
            " 82%|████████▏ | 821/1000 [04:23<00:56,  3.18it/s]"
          ]
        },
        {
          "output_type": "stream",
          "name": "stdout",
          "text": [
            ".-^-._.-^-._.-^-._.-^-._.-^-._.-^-._.-^-._.-^-._.-^-._.-^-._.-^-._.-^-._\n",
            "FINE-TUNING\n",
            "Epoch: 820 test rmse: 0.66143405 test mae: 0.53362495 test ndcg: 0.9645004135180875\n",
            "Epoch: 820 train rmse: 0.66143405 train mae: 0.53362495 train ndcg: 0.9645004135180875\n",
            "Precision@10: 0.013945578231292504 Recall@10: 0.04195755586061709 MAP: 0.02480594693420954\n",
            "Train Precision@10: 0.013945578231292504 Train Recall@10: 0.04195755586061709 Train MAP: 0.02480594693420954\n",
            "Time: 428.24644446372986 seconds\n",
            "Time cumulative: 244129.79725456238 seconds\n",
            ".-^-._.-^-._.-^-._.-^-._.-^-._.-^-._.-^-._.-^-._.-^-._.-^-._.-^-._.-^-._\n"
          ]
        },
        {
          "output_type": "stream",
          "name": "stderr",
          "text": [
            " 83%|████████▎ | 831/1000 [04:26<00:46,  3.61it/s]"
          ]
        },
        {
          "output_type": "stream",
          "name": "stdout",
          "text": [
            ".-^-._.-^-._.-^-._.-^-._.-^-._.-^-._.-^-._.-^-._.-^-._.-^-._.-^-._.-^-._\n",
            "FINE-TUNING\n",
            "Epoch: 830 test rmse: 0.66174495 test mae: 0.53218776 test ndcg: 0.966132179378482\n",
            "Epoch: 830 train rmse: 0.66174495 train mae: 0.53218776 train ndcg: 0.966132179378482\n",
            "Precision@10: 0.01207482993197278 Recall@10: 0.03768145592125185 MAP: 0.02363924019784932\n",
            "Train Precision@10: 0.01207482993197278 Train Recall@10: 0.03768145592125185 Train MAP: 0.02363924019784932\n",
            "Time: 431.0412585735321 seconds\n",
            "Time cumulative: 248427.63372278214 seconds\n",
            ".-^-._.-^-._.-^-._.-^-._.-^-._.-^-._.-^-._.-^-._.-^-._.-^-._.-^-._.-^-._\n"
          ]
        },
        {
          "output_type": "stream",
          "name": "stderr",
          "text": [
            " 84%|████████▍ | 841/1000 [04:30<00:51,  3.12it/s]"
          ]
        },
        {
          "output_type": "stream",
          "name": "stdout",
          "text": [
            ".-^-._.-^-._.-^-._.-^-._.-^-._.-^-._.-^-._.-^-._.-^-._.-^-._.-^-._.-^-._\n",
            "FINE-TUNING\n",
            "Epoch: 840 test rmse: 0.66559917 test mae: 0.5400901 test ndcg: 0.9647883587454125\n",
            "Epoch: 840 train rmse: 0.66559917 train mae: 0.5400901 train ndcg: 0.9647883587454125\n",
            "Precision@10: 0.011054421768707476 Recall@10: 0.037240702419273845 MAP: 0.026320828078931276\n",
            "Train Precision@10: 0.011054421768707476 Train Recall@10: 0.037240702419273845 Train MAP: 0.026320828078931276\n",
            "Time: 434.9697880744934 seconds\n",
            "Time cumulative: 252760.12807774544 seconds\n",
            ".-^-._.-^-._.-^-._.-^-._.-^-._.-^-._.-^-._.-^-._.-^-._.-^-._.-^-._.-^-._\n"
          ]
        },
        {
          "output_type": "stream",
          "name": "stderr",
          "text": [
            " 85%|████████▌ | 851/1000 [04:33<00:55,  2.70it/s]"
          ]
        },
        {
          "output_type": "stream",
          "name": "stdout",
          "text": [
            ".-^-._.-^-._.-^-._.-^-._.-^-._.-^-._.-^-._.-^-._.-^-._.-^-._.-^-._.-^-._\n",
            "FINE-TUNING\n",
            "Epoch: 850 test rmse: 0.66276383 test mae: 0.5309218 test ndcg: 0.9645912530503108\n",
            "Epoch: 850 train rmse: 0.66276383 train mae: 0.5309218 train ndcg: 0.9645912530503108\n",
            "Precision@10: 0.01326530612244897 Recall@10: 0.04397863568781935 MAP: 0.025863572534221408\n",
            "Train Precision@10: 0.01326530612244897 Train Recall@10: 0.04397863568781935 Train MAP: 0.025863572534221408\n",
            "Time: 437.92384004592896 seconds\n",
            "Time cumulative: 257125.22736668587 seconds\n",
            ".-^-._.-^-._.-^-._.-^-._.-^-._.-^-._.-^-._.-^-._.-^-._.-^-._.-^-._.-^-._\n"
          ]
        },
        {
          "output_type": "stream",
          "name": "stderr",
          "text": [
            " 86%|████████▌ | 861/1000 [04:37<00:47,  2.90it/s]"
          ]
        },
        {
          "output_type": "stream",
          "name": "stdout",
          "text": [
            ".-^-._.-^-._.-^-._.-^-._.-^-._.-^-._.-^-._.-^-._.-^-._.-^-._.-^-._.-^-._\n",
            "FINE-TUNING\n",
            "Epoch: 860 test rmse: 0.666024 test mae: 0.54050404 test ndcg: 0.9647009360049182\n",
            "Epoch: 860 train rmse: 0.666024 train mae: 0.54050404 train ndcg: 0.9647009360049182\n",
            "Precision@10: 0.013265306122448969 Recall@10: 0.04383691233181028 MAP: 0.027446048651161667\n",
            "Train Precision@10: 0.013265306122448969 Train Recall@10: 0.04383691233181028 Train MAP: 0.027446048651161667\n",
            "Time: 442.25579810142517 seconds\n",
            "Time cumulative: 261529.5608906746 seconds\n",
            ".-^-._.-^-._.-^-._.-^-._.-^-._.-^-._.-^-._.-^-._.-^-._.-^-._.-^-._.-^-._\n"
          ]
        },
        {
          "output_type": "stream",
          "name": "stderr",
          "text": [
            " 87%|████████▋ | 871/1000 [04:40<00:37,  3.48it/s]"
          ]
        },
        {
          "output_type": "stream",
          "name": "stdout",
          "text": [
            ".-^-._.-^-._.-^-._.-^-._.-^-._.-^-._.-^-._.-^-._.-^-._.-^-._.-^-._.-^-._\n",
            "FINE-TUNING\n",
            "Epoch: 870 test rmse: 0.66003513 test mae: 0.5328301 test ndcg: 0.9645630988163246\n",
            "Epoch: 870 train rmse: 0.66003513 train mae: 0.5328301 train ndcg: 0.9645630988163246\n",
            "Precision@10: 0.013265306122448969 Recall@10: 0.04221852410627919 MAP: 0.03436248120551621\n",
            "Train Precision@10: 0.013265306122448969 Train Recall@10: 0.04221852410627919 Train MAP: 0.03436248120551621\n",
            "Time: 445.0073187351227 seconds\n",
            "Time cumulative: 265967.255507946 seconds\n",
            ".-^-._.-^-._.-^-._.-^-._.-^-._.-^-._.-^-._.-^-._.-^-._.-^-._.-^-._.-^-._\n"
          ]
        },
        {
          "output_type": "stream",
          "name": "stderr",
          "text": [
            " 88%|████████▊ | 881/1000 [04:42<00:32,  3.61it/s]"
          ]
        },
        {
          "output_type": "stream",
          "name": "stdout",
          "text": [
            ".-^-._.-^-._.-^-._.-^-._.-^-._.-^-._.-^-._.-^-._.-^-._.-^-._.-^-._.-^-._\n",
            "FINE-TUNING\n",
            "Epoch: 880 test rmse: 0.6650815 test mae: 0.53651303 test ndcg: 0.963803540879513\n",
            "Epoch: 880 train rmse: 0.6650815 train mae: 0.53651303 train ndcg: 0.963803540879513\n",
            "Precision@10: 0.013265306122448969 Recall@10: 0.041183433913025744 MAP: 0.029106657372105355\n",
            "Train Precision@10: 0.013265306122448969 Train Recall@10: 0.041183433913025744 Train MAP: 0.029106657372105355\n",
            "Time: 447.7768189907074 seconds\n",
            "Time cumulative: 270432.6445674896 seconds\n",
            ".-^-._.-^-._.-^-._.-^-._.-^-._.-^-._.-^-._.-^-._.-^-._.-^-._.-^-._.-^-._\n"
          ]
        },
        {
          "output_type": "stream",
          "name": "stderr",
          "text": [
            " 89%|████████▉ | 891/1000 [04:45<00:29,  3.69it/s]"
          ]
        },
        {
          "output_type": "stream",
          "name": "stdout",
          "text": [
            ".-^-._.-^-._.-^-._.-^-._.-^-._.-^-._.-^-._.-^-._.-^-._.-^-._.-^-._.-^-._\n",
            "FINE-TUNING\n",
            "Epoch: 890 test rmse: 0.66792065 test mae: 0.542035 test ndcg: 0.9651072766360278\n",
            "Epoch: 890 train rmse: 0.66792065 train mae: 0.542035 train ndcg: 0.9651072766360278\n",
            "Precision@10: 0.013095238095238082 Recall@10: 0.046919732761569494 MAP: 0.02404980491566744\n",
            "Train Precision@10: 0.013095238095238082 Train Recall@10: 0.046919732761569494 Train MAP: 0.02404980491566744\n",
            "Time: 450.53863859176636 seconds\n",
            "Time cumulative: 274925.71119475365 seconds\n",
            ".-^-._.-^-._.-^-._.-^-._.-^-._.-^-._.-^-._.-^-._.-^-._.-^-._.-^-._.-^-._\n"
          ]
        },
        {
          "output_type": "stream",
          "name": "stderr",
          "text": [
            " 90%|█████████ | 901/1000 [04:49<00:42,  2.34it/s]"
          ]
        },
        {
          "output_type": "stream",
          "name": "stdout",
          "text": [
            ".-^-._.-^-._.-^-._.-^-._.-^-._.-^-._.-^-._.-^-._.-^-._.-^-._.-^-._.-^-._\n",
            "FINE-TUNING\n",
            "Epoch: 900 test rmse: 0.6595152 test mae: 0.529724 test ndcg: 0.9659216021390044\n",
            "Epoch: 900 train rmse: 0.6595152 train mae: 0.529724 train ndcg: 0.9659216021390044\n",
            "Precision@10: 0.013095238095238083 Recall@10: 0.04226715744572888 MAP: 0.03216268604256115\n",
            "Train Precision@10: 0.013095238095238083 Train Recall@10: 0.04226715744572888 Train MAP: 0.03216268604256115\n",
            "Time: 454.19708037376404 seconds\n",
            "Time cumulative: 279449.23608636856 seconds\n",
            ".-^-._.-^-._.-^-._.-^-._.-^-._.-^-._.-^-._.-^-._.-^-._.-^-._.-^-._.-^-._\n"
          ]
        },
        {
          "output_type": "stream",
          "name": "stderr",
          "text": [
            " 91%|█████████ | 911/1000 [04:52<00:25,  3.46it/s]"
          ]
        },
        {
          "output_type": "stream",
          "name": "stdout",
          "text": [
            ".-^-._.-^-._.-^-._.-^-._.-^-._.-^-._.-^-._.-^-._.-^-._.-^-._.-^-._.-^-._\n",
            "FINE-TUNING\n",
            "Epoch: 910 test rmse: 0.66292346 test mae: 0.5325339 test ndcg: 0.9646284249101745\n",
            "Epoch: 910 train rmse: 0.66292346 train mae: 0.5325339 train ndcg: 0.9646284249101745\n",
            "Precision@10: 0.01530612244897957 Recall@10: 0.049221215292643845 MAP: 0.03336230930066567\n",
            "Train Precision@10: 0.01530612244897957 Train Recall@10: 0.049221215292643845 Train MAP: 0.03336230930066567\n",
            "Time: 457.7809462547302 seconds\n",
            "Time cumulative: 284013.31571674347 seconds\n",
            ".-^-._.-^-._.-^-._.-^-._.-^-._.-^-._.-^-._.-^-._.-^-._.-^-._.-^-._.-^-._\n"
          ]
        },
        {
          "output_type": "stream",
          "name": "stderr",
          "text": [
            " 92%|█████████▏| 921/1000 [04:55<00:21,  3.60it/s]"
          ]
        },
        {
          "output_type": "stream",
          "name": "stdout",
          "text": [
            ".-^-._.-^-._.-^-._.-^-._.-^-._.-^-._.-^-._.-^-._.-^-._.-^-._.-^-._.-^-._\n",
            "FINE-TUNING\n",
            "Epoch: 920 test rmse: 0.6626673 test mae: 0.53503376 test ndcg: 0.9653450744740644\n",
            "Epoch: 920 train rmse: 0.6626673 train mae: 0.53503376 train ndcg: 0.9653450744740644\n",
            "Precision@10: 0.014285714285714271 Recall@10: 0.05002425295792643 MAP: 0.032588833624548334\n",
            "Train Precision@10: 0.014285714285714271 Train Recall@10: 0.05002425295792643 Train MAP: 0.032588833624548334\n",
            "Time: 460.52066135406494 seconds\n",
            "Time cumulative: 288606.1452822685 seconds\n",
            ".-^-._.-^-._.-^-._.-^-._.-^-._.-^-._.-^-._.-^-._.-^-._.-^-._.-^-._.-^-._\n"
          ]
        },
        {
          "output_type": "stream",
          "name": "stderr",
          "text": [
            " 93%|█████████▎| 931/1000 [04:58<00:18,  3.66it/s]"
          ]
        },
        {
          "output_type": "stream",
          "name": "stdout",
          "text": [
            ".-^-._.-^-._.-^-._.-^-._.-^-._.-^-._.-^-._.-^-._.-^-._.-^-._.-^-._.-^-._\n",
            "FINE-TUNING\n",
            "Epoch: 930 test rmse: 0.6634332 test mae: 0.53475183 test ndcg: 0.9641858193619071\n",
            "Epoch: 930 train rmse: 0.6634332 train mae: 0.53475183 train ndcg: 0.9641858193619071\n",
            "Precision@10: 0.012925170068027198 Recall@10: 0.04192438325091387 MAP: 0.03174991609480718\n",
            "Train Precision@10: 0.012925170068027198 Train Recall@10: 0.04192438325091387 Train MAP: 0.03174991609480718\n",
            "Time: 463.2188813686371 seconds\n",
            "Time cumulative: 293226.31948041916 seconds\n",
            ".-^-._.-^-._.-^-._.-^-._.-^-._.-^-._.-^-._.-^-._.-^-._.-^-._.-^-._.-^-._\n"
          ]
        },
        {
          "output_type": "stream",
          "name": "stderr",
          "text": [
            " 94%|█████████▍| 941/1000 [05:01<00:17,  3.30it/s]"
          ]
        },
        {
          "output_type": "stream",
          "name": "stdout",
          "text": [
            ".-^-._.-^-._.-^-._.-^-._.-^-._.-^-._.-^-._.-^-._.-^-._.-^-._.-^-._.-^-._\n",
            "FINE-TUNING\n",
            "Epoch: 940 test rmse: 0.66779745 test mae: 0.54365456 test ndcg: 0.9635599014616095\n",
            "Epoch: 940 train rmse: 0.66779745 train mae: 0.54365456 train ndcg: 0.9635599014616095\n",
            "Precision@10: 0.013605442176870736 Recall@10: 0.04531353472680005 MAP: 0.033196588462197626\n",
            "Train Precision@10: 0.013605442176870736 Train Recall@10: 0.04531353472680005 Train MAP: 0.033196588462197626\n",
            "Time: 466.0253801345825 seconds\n",
            "Time cumulative: 297874.14538788795 seconds\n",
            ".-^-._.-^-._.-^-._.-^-._.-^-._.-^-._.-^-._.-^-._.-^-._.-^-._.-^-._.-^-._\n"
          ]
        },
        {
          "output_type": "stream",
          "name": "stderr",
          "text": [
            " 95%|█████████▌| 951/1000 [05:05<00:17,  2.76it/s]"
          ]
        },
        {
          "output_type": "stream",
          "name": "stdout",
          "text": [
            ".-^-._.-^-._.-^-._.-^-._.-^-._.-^-._.-^-._.-^-._.-^-._.-^-._.-^-._.-^-._\n",
            "FINE-TUNING\n",
            "Epoch: 950 test rmse: 0.6603828 test mae: 0.52901185 test ndcg: 0.9632426269404175\n",
            "Epoch: 950 train rmse: 0.6603828 train mae: 0.52901185 train ndcg: 0.9632426269404175\n",
            "Precision@10: 0.010884353741496591 Recall@10: 0.034410345889937737 MAP: 0.030656726823700575\n",
            "Train Precision@10: 0.010884353741496591 Train Recall@10: 0.034410345889937737 Train MAP: 0.030656726823700575\n",
            "Time: 470.3253610134125 seconds\n",
            "Time cumulative: 302558.2497739792 seconds\n",
            ".-^-._.-^-._.-^-._.-^-._.-^-._.-^-._.-^-._.-^-._.-^-._.-^-._.-^-._.-^-._\n"
          ]
        },
        {
          "output_type": "stream",
          "name": "stderr",
          "text": [
            " 96%|█████████▌| 961/1000 [05:08<00:10,  3.65it/s]"
          ]
        },
        {
          "output_type": "stream",
          "name": "stdout",
          "text": [
            ".-^-._.-^-._.-^-._.-^-._.-^-._.-^-._.-^-._.-^-._.-^-._.-^-._.-^-._.-^-._\n",
            "FINE-TUNING\n",
            "Epoch: 960 test rmse: 0.6663759 test mae: 0.53929776 test ndcg: 0.9637973971278514\n",
            "Epoch: 960 train rmse: 0.6663759 train mae: 0.53929776 train ndcg: 0.9637973971278514\n",
            "Precision@10: 0.013945578231292504 Recall@10: 0.04685427006855578 MAP: 0.027393932235101413\n",
            "Train Precision@10: 0.013945578231292504 Train Recall@10: 0.04685427006855578 Train MAP: 0.027393932235101413\n",
            "Time: 473.02294754981995 seconds\n",
            "Time cumulative: 307276.41590094566 seconds\n",
            ".-^-._.-^-._.-^-._.-^-._.-^-._.-^-._.-^-._.-^-._.-^-._.-^-._.-^-._.-^-._\n"
          ]
        },
        {
          "output_type": "stream",
          "name": "stderr",
          "text": [
            " 97%|█████████▋| 971/1000 [05:10<00:08,  3.59it/s]"
          ]
        },
        {
          "output_type": "stream",
          "name": "stdout",
          "text": [
            ".-^-._.-^-._.-^-._.-^-._.-^-._.-^-._.-^-._.-^-._.-^-._.-^-._.-^-._.-^-._\n",
            "FINE-TUNING\n",
            "Epoch: 970 test rmse: 0.66289043 test mae: 0.53503615 test ndcg: 0.9646905260450702\n",
            "Epoch: 970 train rmse: 0.66289043 train mae: 0.53503615 train ndcg: 0.9646905260450702\n",
            "Precision@10: 0.011054421768707476 Recall@10: 0.039232149181128786 MAP: 0.02699214914169676\n",
            "Train Precision@10: 0.011054421768707476 Train Recall@10: 0.039232149181128786 Train MAP: 0.02699214914169676\n",
            "Time: 475.786066532135 seconds\n",
            "Time cumulative: 312021.7961862087 seconds\n",
            ".-^-._.-^-._.-^-._.-^-._.-^-._.-^-._.-^-._.-^-._.-^-._.-^-._.-^-._.-^-._\n"
          ]
        },
        {
          "output_type": "stream",
          "name": "stderr",
          "text": [
            " 98%|█████████▊| 981/1000 [05:13<00:05,  3.74it/s]"
          ]
        },
        {
          "output_type": "stream",
          "name": "stdout",
          "text": [
            ".-^-._.-^-._.-^-._.-^-._.-^-._.-^-._.-^-._.-^-._.-^-._.-^-._.-^-._.-^-._\n",
            "FINE-TUNING\n",
            "Epoch: 980 test rmse: 0.66686237 test mae: 0.53917104 test ndcg: 0.9643133048907798\n",
            "Epoch: 980 train rmse: 0.66686237 train mae: 0.53917104 train ndcg: 0.9643133048907798\n",
            "Precision@10: 0.013095238095238082 Recall@10: 0.04987027805905357 MAP: 0.027215464322819554\n",
            "Train Precision@10: 0.013095238095238082 Train Recall@10: 0.04987027805905357 Train MAP: 0.027215464322819554\n",
            "Time: 478.512544631958 seconds\n",
            "Time cumulative: 316794.84423851967 seconds\n",
            ".-^-._.-^-._.-^-._.-^-._.-^-._.-^-._.-^-._.-^-._.-^-._.-^-._.-^-._.-^-._\n"
          ]
        },
        {
          "output_type": "stream",
          "name": "stderr",
          "text": [
            " 99%|█████████▉| 991/1000 [05:17<00:03,  2.42it/s]"
          ]
        },
        {
          "output_type": "stream",
          "name": "stdout",
          "text": [
            ".-^-._.-^-._.-^-._.-^-._.-^-._.-^-._.-^-._.-^-._.-^-._.-^-._.-^-._.-^-._\n",
            "FINE-TUNING\n",
            "Epoch: 990 test rmse: 0.66048187 test mae: 0.5297731 test ndcg: 0.9649480782772542\n",
            "Epoch: 990 train rmse: 0.66048187 train mae: 0.5297731 train ndcg: 0.9649480782772542\n",
            "Precision@10: 0.012585034013605433 Recall@10: 0.04000639383292445 MAP: 0.02672435491699906\n",
            "Train Precision@10: 0.012585034013605433 Train Recall@10: 0.04000639383292445 Train MAP: 0.02672435491699906\n",
            "Time: 481.8976755142212 seconds\n",
            "Time cumulative: 321596.57988619804 seconds\n",
            ".-^-._.-^-._.-^-._.-^-._.-^-._.-^-._.-^-._.-^-._.-^-._.-^-._.-^-._.-^-._\n"
          ]
        },
        {
          "output_type": "stream",
          "name": "stderr",
          "text": [
            "100%|██████████| 1000/1000 [05:20<00:00,  3.12it/s]\n"
          ]
        }
      ]
    },
    {
      "cell_type": "markdown",
      "source": [
        "# 결과 확인"
      ],
      "metadata": {
        "id": "98-C_JXZd_4B"
      }
    },
    {
      "cell_type": "code",
      "source": [
        "# Final result\n",
        "# print('best rmse:', best_rmse)\n",
        "# print('best mae:', best_mae)\n",
        "print('best ndcg:', best_ndcg)\n",
        "print(\"best precision@10 : \", max(test_precision_list))\n",
        "print(\"best recall@10 : \",max(test_recall_list))\n",
        "print(\"best MAP : \", max(test_map_list))"
      ],
      "metadata": {
        "colab": {
          "base_uri": "https://localhost:8080/"
        },
        "id": "Hl-obvaL_m6A",
        "outputId": "e404a177-bb9c-46b6-ee23-780ff5ff295a"
      },
      "execution_count": null,
      "outputs": [
        {
          "output_type": "stream",
          "name": "stdout",
          "text": [
            "best ndcg: 0.9985982468359527\n",
            "best precision@10 :  0.14438775510204055\n",
            "best recall@10 :  0.609374766390072\n",
            "best MAP :  0.5065032774838113\n"
          ]
        }
      ]
    },
    {
      "cell_type": "code",
      "source": [
        "import matplotlib.pyplot as plt\n",
        "\n",
        "# Plot Recall, Precision, NDCG, MAP on the same graph\n",
        "plt.figure(figsize=(10, 6))\n",
        "\n",
        "# Recall 그래프\n",
        "plt.plot(train_recall_list, label='Recall', color='blue')\n",
        "\n",
        "# Precision 그래프\n",
        "plt.plot(train_precision_list, label='Precision', color='orange')\n",
        "\n",
        "# nDCG 그래프\n",
        "plt.plot(train_ndcg_list, label='NDCG', color='green')\n",
        "\n",
        "# MAP 그래프\n",
        "plt.plot(train_map_list, label='MAP', color='red')\n",
        "\n",
        "# 그래프 설정\n",
        "plt.title('GLocal-K')\n",
        "plt.xlabel('Epoch')\n",
        "plt.ylabel('Metrics')\n",
        "plt.legend()\n",
        "\n",
        "# 레이아웃 조정 및 출력\n",
        "plt.tight_layout()\n",
        "plt.show()\n"
      ],
      "metadata": {
        "colab": {
          "base_uri": "https://localhost:8080/",
          "height": 607
        },
        "id": "NjhNfZLoEbxs",
        "outputId": "55917909-71ca-428d-88be-9a15c711ae80"
      },
      "execution_count": null,
      "outputs": [
        {
          "output_type": "display_data",
          "data": {
            "text/plain": [
              "<Figure size 1000x600 with 1 Axes>"
            ],
            "image/png": "[encoded data removed]"
          },
          "metadata": {}
        }
      ]
    },
    {
      "cell_type": "code",
      "source": [
        "import matplotlib.pyplot as plt\n",
        "\n",
        "# Plot NDCG, Precision, Recall, MAP\n",
        "fig, axes = plt.subplots(2, 2, figsize=(18, 12))  # 2개의 행, 2개의 열로 서브플롯 생성\n",
        "\n",
        "# NDCG 그래프\n",
        "axes[0, 0].plot(train_ndcg_list, label='Train nDCG', color='blue')\n",
        "axes[0, 0].plot(test_ndcg_list, label='Test nDCG', color='orange')\n",
        "\n",
        "# Test nDCG 최대값 표시\n",
        "max_test_ndcg = max(test_ndcg_list)\n",
        "max_test_ndcg_epoch = test_ndcg_list.index(max_test_ndcg)\n",
        "axes[0, 0].annotate(f'{max_test_ndcg:.4f}', (max_test_ndcg_epoch, max_test_ndcg),\n",
        "                    textcoords=\"offset points\", xytext=(0, 10), ha='center', color='orange')\n",
        "\n",
        "# 설정\n",
        "axes[0, 0].set_title('nDCG per Epoch')\n",
        "axes[0, 0].set_xlabel('Epoch')\n",
        "axes[0, 0].set_ylabel('nDCG')\n",
        "axes[0, 0].legend()\n",
        "\n",
        "# Precision 그래프\n",
        "axes[0, 1].plot(train_precision_list, label='Train Precision', color='green')\n",
        "axes[0, 1].plot(test_precision_list, label='Test Precision', color='red')\n",
        "\n",
        "# Precision 최대값 표시\n",
        "max_precision = max(test_precision_list)\n",
        "max_precision_epoch = test_precision_list.index(max_precision)\n",
        "axes[0, 1].annotate(f'{max_precision:.4f}', (max_precision_epoch, max_precision),\n",
        "                    textcoords=\"offset points\", xytext=(0, 10), ha='center', color='red')\n",
        "\n",
        "axes[0, 1].set_title('Precision@10 per Epoch')\n",
        "axes[0, 1].set_xlabel('Epoch')\n",
        "axes[0, 1].set_ylabel('Precision')\n",
        "axes[0, 1].legend()\n",
        "\n",
        "# Recall 그래프\n",
        "axes[1, 0].plot(train_recall_list, label='Train Recall', color='purple')\n",
        "axes[1, 0].plot(test_recall_list, label='Test Recall', color='brown')\n",
        "\n",
        "# Recall 최대값 표시\n",
        "max_recall = max(test_recall_list)\n",
        "max_recall_epoch = test_recall_list.index(max_recall)\n",
        "axes[1, 0].annotate(f'{max_recall:.4f}', (max_recall_epoch, max_recall),\n",
        "                    textcoords=\"offset points\", xytext=(0, -15), ha='center', color='brown')\n",
        "\n",
        "axes[1, 0].set_title('Recall@10 per Epoch')\n",
        "axes[1, 0].set_xlabel('Epoch')\n",
        "axes[1, 0].set_ylabel('Recall')\n",
        "axes[1, 0].legend()\n",
        "\n",
        "# MAP 그래프\n",
        "axes[1, 1].plot(train_map_list, label='Train MAP', color='cyan')\n",
        "axes[1, 1].plot(test_map_list, label='Test MAP', color='magenta')\n",
        "\n",
        "# MAP 최대값 표시\n",
        "max_map = max(test_map_list)\n",
        "max_map_epoch = test_map_list.index(max_map)\n",
        "axes[1, 1].annotate(f'{max_map:.4f}', (max_map_epoch, max_map),\n",
        "                    textcoords=\"offset points\", xytext=(0, 10), ha='center', color='magenta')\n",
        "\n",
        "axes[1, 1].set_title('MAP per Epoch')\n",
        "axes[1, 1].set_xlabel('Epoch')\n",
        "axes[1, 1].set_ylabel('MAP')\n",
        "axes[1, 1].legend()\n",
        "\n",
        "# 레이아웃 조정 및 출력\n",
        "plt.tight_layout()\n",
        "plt.show()"
      ],
      "metadata": {
        "colab": {
          "base_uri": "https://localhost:8080/",
          "height": 756
        },
        "id": "KodQ_af86P8r",
        "outputId": "82f0a390-49cc-480e-e82e-ef19d764913a"
      },
      "execution_count": null,
      "outputs": [
        {
          "output_type": "display_data",
          "data": {
            "text/plain": [
              "<Figure size 1800x1200 with 4 Axes>"
            ],
            "image/png": "[encoded data removed]"
          },
          "metadata": {}
        }
      ]
    },
    {
      "cell_type": "code",
      "source": [
        "import matplotlib.pyplot as plt\n",
        "\n",
        "# Plot RMSE, Precision, Recall\n",
        "fig, axes = plt.subplots(1, 3, figsize=(18, 6))  # 1개의 행, 3개의 열로 서브플롯 생성\n",
        "\n",
        "# RMSE 그래프\n",
        "axes[0].plot(train_rmse_list, label='Train RMSE', color='blue')\n",
        "axes[0].plot(test_rmse_list, label='Test RMSE', color='orange')\n",
        "\n",
        "# Train RMSE 최소값 표시\n",
        "min_train_rmse = min(train_rmse_list)\n",
        "min_train_rmse_epoch = train_rmse_list.index(min_train_rmse)\n",
        "axes[0].annotate(f'{min_train_rmse:.4f}', (min_train_rmse_epoch, min_train_rmse),\n",
        "                 textcoords=\"offset points\", xytext=(0, 10), ha='center', color='blue')\n",
        "\n",
        "# Test RMSE 최소값 표시\n",
        "min_test_rmse = min(test_rmse_list)\n",
        "min_test_rmse_epoch = test_rmse_list.index(min_test_rmse)\n",
        "axes[0].annotate(f'{min_test_rmse:.4f}', (min_test_rmse_epoch, min_test_rmse),\n",
        "                 textcoords=\"offset points\", xytext=(0, 10), ha='center', color='orange')\n",
        "\n",
        "# 설정\n",
        "axes[0].set_title('RMSE per Epoch')\n",
        "axes[0].set_xlabel('Epoch')\n",
        "axes[0].set_ylabel('RMSE')\n",
        "axes[0].legend()\n",
        "\n",
        "# Precision 그래프\n",
        "axes[1].plot(train_precision_list, label='Train Precision', color='green')\n",
        "axes[1].plot(test_precision_list, label='Test Precision', color='red')\n",
        "\n",
        "# Precision 최대값 표시\n",
        "max_precision = max(test_precision_list)\n",
        "max_precision_epoch = test_precision_list.index(max_precision)\n",
        "axes[1].annotate(f'{max_precision:.4f}', (max_precision_epoch, max_precision),\n",
        "                 textcoords=\"offset points\", xytext=(0, 10), ha='center', color='red')\n",
        "\n",
        "axes[1].set_title('Precision@10 per Epoch')\n",
        "axes[1].set_xlabel('Epoch')\n",
        "axes[1].set_ylabel('Precision')\n",
        "axes[1].legend()\n",
        "\n",
        "# Recall 그래프\n",
        "axes[2].plot(train_recall_list, label='Train Recall', color='purple')\n",
        "axes[2].plot(test_recall_list, label='Test Recall', color='brown')\n",
        "\n",
        "# Recall 최대값 표시\n",
        "max_recall = max(test_recall_list)\n",
        "max_recall_epoch = test_recall_list.index(max_recall)\n",
        "axes[2].annotate(f'{max_recall:.4f}', (max_recall_epoch, max_recall),\n",
        "                 textcoords=\"offset points\", xytext=(0, -15), ha='center', color='brown')\n",
        "\n",
        "axes[2].set_title('Recall@10 per Epoch')\n",
        "axes[2].set_xlabel('Epoch')\n",
        "axes[2].set_ylabel('Recall')\n",
        "axes[2].legend()\n",
        "\n",
        "# 레이아웃 조정 및 출력\n",
        "plt.tight_layout()\n",
        "plt.show()"
      ],
      "metadata": {
        "colab": {
          "base_uri": "https://localhost:8080/",
          "height": 384
        },
        "id": "5Zv9sAQWw_rE",
        "outputId": "deee34de-5163-4586-ebb3-b027bd5fcb76"
      },
      "execution_count": null,
      "outputs": [
        {
          "output_type": "display_data",
          "data": {
            "text/plain": [
              "<Figure size 1800x600 with 3 Axes>"
            ],
            "image/png": "[encoded data removed]"
          },
          "metadata": {}
        }
      ]
    },
    {
      "cell_type": "code",
      "source": [
        "import matplotlib.pyplot as plt\n",
        "\n",
        "fig, axes = plt.subplots(1, 3, figsize=(18, 6))  # 1개의 행, 3개의 열로 서브플롯 생성\n",
        "\n",
        "# RMSE 그래프\n",
        "axes[0].plot(train_rmse_list, label='Train RMSE', color='blue')\n",
        "axes[0].plot(test_rmse_list, label='Test RMSE', color='orange')\n",
        "\n",
        "# Train RMSE 최소값 표시\n",
        "min_train_rmse = min(train_rmse_list)\n",
        "min_train_rmse_epoch = train_rmse_list.index(min_train_rmse)\n",
        "axes[0].annotate(f'{min_train_rmse:.4f}', (min_train_rmse_epoch, min_train_rmse),\n",
        "                 textcoords=\"offset points\", xytext=(0, 10), ha='center', color='blue')\n",
        "\n",
        "# Test RMSE 최소값 표시\n",
        "min_test_rmse = min(test_rmse_list)\n",
        "min_test_rmse_epoch = test_rmse_list.index(min_test_rmse)\n",
        "axes[0].annotate(f'{min_test_rmse:.4f}', (min_test_rmse_epoch, min_test_rmse),\n",
        "                 textcoords=\"offset points\", xytext=(0, 10), ha='center', color='orange')\n",
        "\n",
        "# 설정\n",
        "axes[0].set_title('RMSE per Epoch')\n",
        "axes[0].set_xlabel('Epoch')\n",
        "axes[0].set_ylabel('RMSE')\n",
        "axes[0].legend()\n",
        "\n",
        "# MAE 그래프\n",
        "axes[1].plot(train_mae_list, label='Train MAE', color='green')\n",
        "axes[1].plot(test_mae_list, label='Test MAE', color='red')\n",
        "\n",
        "# MAE 최소값 표시\n",
        "min_mae = min(test_mae_list)\n",
        "min_mae_epoch = test_mae_list.index(min_mae)\n",
        "axes[1].annotate(f'{min_mae:.4f}', (min_mae_epoch, min_mae),\n",
        "                 textcoords=\"offset points\", xytext=(0, 10), ha='center', color='red')\n",
        "\n",
        "axes[1].set_title('MAE per Epoch')\n",
        "axes[1].set_xlabel('Epoch')\n",
        "axes[1].set_ylabel('MAE')\n",
        "axes[1].legend()\n",
        "\n",
        "# NDCG 그래프\n",
        "axes[2].plot(train_ndcg_list, label='Train NDCG', color='purple')\n",
        "axes[2].plot(test_ndcg_list, label='Test NDCG', color='brown')\n",
        "\n",
        "# NDCG 최대값 표시 (NDCG는 최대값을 찾음)\n",
        "max_ndcg = max(test_ndcg_list)\n",
        "max_ndcg_epoch = test_ndcg_list.index(max_ndcg)\n",
        "axes[2].annotate(f'{max_ndcg:.4f}', (max_ndcg_epoch, max_ndcg),\n",
        "                 textcoords=\"offset points\", xytext=(0, -15), ha='center', color='brown')\n",
        "\n",
        "axes[2].set_title('NDCG per Epoch')\n",
        "axes[2].set_xlabel('Epoch')\n",
        "axes[2].set_ylabel('NDCG')\n",
        "axes[2].legend()\n",
        "\n",
        "# 레이아웃 조정 및 출력\n",
        "plt.tight_layout()\n",
        "plt.show()"
      ],
      "metadata": {
        "colab": {
          "base_uri": "https://localhost:8080/",
          "height": 384
        },
        "id": "vmv-84hu_nwK",
        "outputId": "ac76f1ab-677d-4d5e-8fbb-780898dfc57f"
      },
      "execution_count": null,
      "outputs": [
        {
          "output_type": "display_data",
          "data": {
            "text/plain": [
              "<Figure size 1800x600 with 3 Axes>"
            ],
            "image/png": "[encoded data removed]"
          },
          "metadata": {}
        }
      ]
    }
  ]
}